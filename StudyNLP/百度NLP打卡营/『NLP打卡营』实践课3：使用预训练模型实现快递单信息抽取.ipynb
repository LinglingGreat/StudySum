{
 "cells": [
  {
   "cell_type": "markdown",
   "metadata": {
    "collapsed": false
   },
   "source": [
    "# 使用PaddleNLP语义预训练模型ERNIE完成快递单信息抽取\n",
    "\n",
    "\n",
    "**注意**\n",
    "\n",
    "本项目代码需要使用GPU环境来运行:\n",
    "\n",
    "<img src=\"https://ai-studio-static-online.cdn.bcebos.com/767f625548714f03b105b6ccb3aa78df9080e38d329e445380f505ddec6c7042\" width=\"40%\" height=\"40%\">\n",
    "<br>\n",
    "<br>\n",
    "\n",
    "命名实体识别是NLP中一项非常基础的任务，是信息提取、问答系统、句法分析、机器翻译等众多NLP任务的重要基础工具。命名实体识别的准确度，决定了下游任务的效果，是NLP中的一个基础问题。在NER任务提供了两种解决方案，一类LSTM/GRU + CRF，通过RNN类的模型来抽取底层文本的信息，而CRF(条件随机场)模型来学习底层Token之间的联系；另外一类是通过预训练模型，例如ERNIE，BERT模型，直接来预测Token的标签信息。\n",
    "\n",
    "本项目将演示如何使用PaddleNLP语义预训练模型ERNIE完成从快递单中抽取姓名、电话、省、市、区、详细地址等内容，形成结构化信息。辅助物流行业从业者进行有效信息的提取，从而降低客户填单的成本。"
   ]
  },
  {
   "cell_type": "markdown",
   "metadata": {
    "collapsed": false
   },
   "source": [
    "在2017年之前，工业界和学术界对文本处理依赖于序列模型[Recurrent Neural Network (RNN)](https://baike.baidu.com/item/%E5%BE%AA%E7%8E%AF%E7%A5%9E%E7%BB%8F%E7%BD%91%E7%BB%9C/23199490?fromtitle=RNN&fromid=5707183&fr=aladdin).\n",
    "\n",
    "<p align=\"center\">\n",
    "<img src=\"http://colah.github.io/posts/2015-09-NN-Types-FP/img/RNN-general.png\" width=\"40%\" height=\"30%\"> <br />\n",
    "</p><br><center>图1：RNN示意图</center></br>\n",
    "\n",
    "[基于BiGRU+CRF的快递单信息抽取](https://aistudio.baidu.com/aistudio/projectdetail/1317771)项目介绍了如何使用序列模型完成快递单信息抽取任务。\n",
    "<br>\n",
    "\n",
    "近年来随着深度学习的发展，模型参数的数量飞速增长。为了训练这些参数，需要更大的数据集来避免过拟合。然而，对于大部分NLP任务来说，构建大规模的标注数据集非常困难（成本过高），特别是对于句法和语义相关的任务。相比之下，大规模的未标注语料库的构建则相对容易。为了利用这些数据，我们可以先从其中学习到一个好的表示，再将这些表示应用到其他任务中。最近的研究表明，基于大规模未标注语料库的预训练模型（Pretrained Models, PTM) 在NLP任务上取得了很好的表现。\n",
    "\n",
    "近年来，大量的研究表明基于大型语料库的预训练模型（Pretrained Models, PTM）可以学习通用的语言表示，有利于下游NLP任务，同时能够避免从零开始训练模型。随着计算能力的不断提高，深度模型的出现（即 Transformer）和训练技巧的增强使得 PTM 不断发展，由浅变深。\n",
    "\n",
    "\n",
    "<p align=\"center\">\n",
    "<img src=\"https://ai-studio-static-online.cdn.bcebos.com/327f44ff3ed24493adca5ddc4dc24bf61eebe67c84a6492f872406f464fde91e\" width=\"60%\" height=\"50%\"> <br />\n",
    "</p><br><center>图2：预训练模型一览，图片来源于：https://github.com/thunlp/PLMpapers</center></br>\n",
    "                                                                                                                             \n",
    "本示例展示了以ERNIE([Enhanced Representation through Knowledge Integration](https://arxiv.org/pdf/1904.09223))为代表的预训练模型如何Finetune完成序列标注任务。"
   ]
  },
  {
   "cell_type": "markdown",
   "metadata": {
    "collapsed": false
   },
   "source": [
    "**记得给[PaddleNLP](https://github.com/PaddlePaddle/PaddleNLP)点个小小的Star⭐**\n",
    "\n",
    "开源不易，希望大家多多支持~ \n",
    "\n",
    "GitHub地址：[https://github.com/PaddlePaddle/PaddleNLP](https://github.com/PaddlePaddle/PaddleNLP)\n",
    "![](https://ai-studio-static-online.cdn.bcebos.com/a0e8ca7743ea4fe9aa741682a63e767f8c48dc55981f4e44a40e0e00d3ab369e)"
   ]
  },
  {
   "cell_type": "markdown",
   "metadata": {
    "collapsed": false
   },
   "source": [
    "AI Studio平台后续会默认安装PaddleNLP，在此之前可使用如下命令安装。"
   ]
  },
  {
   "cell_type": "code",
   "execution_count": 1,
   "metadata": {
    "collapsed": false
   },
   "outputs": [
    {
     "name": "stdout",
     "output_type": "stream",
     "text": [
      "Looking in indexes: https://mirror.baidu.com/pypi/simple/\n",
      "Requirement already up-to-date: paddlenlp in /opt/conda/envs/python35-paddle120-env/lib/python3.7/site-packages (2.0.2)\n",
      "Requirement already satisfied, skipping upgrade: visualdl in /opt/conda/envs/python35-paddle120-env/lib/python3.7/site-packages (from paddlenlp) (2.1.1)\n",
      "Requirement already satisfied, skipping upgrade: colorlog in /opt/conda/envs/python35-paddle120-env/lib/python3.7/site-packages (from paddlenlp) (4.1.0)\n",
      "Requirement already satisfied, skipping upgrade: seqeval in /opt/conda/envs/python35-paddle120-env/lib/python3.7/site-packages (from paddlenlp) (1.2.2)\n",
      "Requirement already satisfied, skipping upgrade: h5py in /opt/conda/envs/python35-paddle120-env/lib/python3.7/site-packages (from paddlenlp) (2.9.0)\n",
      "Requirement already satisfied, skipping upgrade: jieba in /opt/conda/envs/python35-paddle120-env/lib/python3.7/site-packages (from paddlenlp) (0.42.1)\n",
      "Requirement already satisfied, skipping upgrade: multiprocess in /opt/conda/envs/python35-paddle120-env/lib/python3.7/site-packages (from paddlenlp) (0.70.11.1)\n",
      "Requirement already satisfied, skipping upgrade: colorama in /opt/conda/envs/python35-paddle120-env/lib/python3.7/site-packages (from paddlenlp) (0.4.4)\n",
      "Requirement already satisfied, skipping upgrade: protobuf>=3.11.0 in /opt/conda/envs/python35-paddle120-env/lib/python3.7/site-packages (from visualdl->paddlenlp) (3.14.0)\n",
      "Requirement already satisfied, skipping upgrade: bce-python-sdk in /opt/conda/envs/python35-paddle120-env/lib/python3.7/site-packages (from visualdl->paddlenlp) (0.8.53)\n",
      "Requirement already satisfied, skipping upgrade: requests in /opt/conda/envs/python35-paddle120-env/lib/python3.7/site-packages (from visualdl->paddlenlp) (2.22.0)\n",
      "Requirement already satisfied, skipping upgrade: shellcheck-py in /opt/conda/envs/python35-paddle120-env/lib/python3.7/site-packages (from visualdl->paddlenlp) (0.7.1.1)\n",
      "Requirement already satisfied, skipping upgrade: numpy in /opt/conda/envs/python35-paddle120-env/lib/python3.7/site-packages (from visualdl->paddlenlp) (1.20.3)\n",
      "Requirement already satisfied, skipping upgrade: flask>=1.1.1 in /opt/conda/envs/python35-paddle120-env/lib/python3.7/site-packages (from visualdl->paddlenlp) (1.1.1)\n",
      "Requirement already satisfied, skipping upgrade: Flask-Babel>=1.0.0 in /opt/conda/envs/python35-paddle120-env/lib/python3.7/site-packages (from visualdl->paddlenlp) (1.0.0)\n",
      "Requirement already satisfied, skipping upgrade: flake8>=3.7.9 in /opt/conda/envs/python35-paddle120-env/lib/python3.7/site-packages (from visualdl->paddlenlp) (3.8.2)\n",
      "Requirement already satisfied, skipping upgrade: pre-commit in /opt/conda/envs/python35-paddle120-env/lib/python3.7/site-packages (from visualdl->paddlenlp) (1.21.0)\n",
      "Requirement already satisfied, skipping upgrade: six>=1.14.0 in /opt/conda/envs/python35-paddle120-env/lib/python3.7/site-packages (from visualdl->paddlenlp) (1.15.0)\n",
      "Requirement already satisfied, skipping upgrade: Pillow>=7.0.0 in /opt/conda/envs/python35-paddle120-env/lib/python3.7/site-packages (from visualdl->paddlenlp) (7.1.2)\n",
      "Requirement already satisfied, skipping upgrade: scikit-learn>=0.21.3 in /opt/conda/envs/python35-paddle120-env/lib/python3.7/site-packages (from seqeval->paddlenlp) (0.24.2)\n",
      "Requirement already satisfied, skipping upgrade: dill>=0.3.3 in /opt/conda/envs/python35-paddle120-env/lib/python3.7/site-packages (from multiprocess->paddlenlp) (0.3.3)\n",
      "Requirement already satisfied, skipping upgrade: pycryptodome>=3.8.0 in /opt/conda/envs/python35-paddle120-env/lib/python3.7/site-packages (from bce-python-sdk->visualdl->paddlenlp) (3.9.9)\n",
      "Requirement already satisfied, skipping upgrade: future>=0.6.0 in /opt/conda/envs/python35-paddle120-env/lib/python3.7/site-packages (from bce-python-sdk->visualdl->paddlenlp) (0.18.0)\n",
      "Requirement already satisfied, skipping upgrade: urllib3!=1.25.0,!=1.25.1,<1.26,>=1.21.1 in /opt/conda/envs/python35-paddle120-env/lib/python3.7/site-packages (from requests->visualdl->paddlenlp) (1.25.6)\n",
      "Requirement already satisfied, skipping upgrade: chardet<3.1.0,>=3.0.2 in /opt/conda/envs/python35-paddle120-env/lib/python3.7/site-packages (from requests->visualdl->paddlenlp) (3.0.4)\n",
      "Requirement already satisfied, skipping upgrade: certifi>=2017.4.17 in /opt/conda/envs/python35-paddle120-env/lib/python3.7/site-packages (from requests->visualdl->paddlenlp) (2019.9.11)\n",
      "Requirement already satisfied, skipping upgrade: idna<2.9,>=2.5 in /opt/conda/envs/python35-paddle120-env/lib/python3.7/site-packages (from requests->visualdl->paddlenlp) (2.8)\n",
      "Requirement already satisfied, skipping upgrade: click>=5.1 in /opt/conda/envs/python35-paddle120-env/lib/python3.7/site-packages (from flask>=1.1.1->visualdl->paddlenlp) (7.0)\n",
      "Requirement already satisfied, skipping upgrade: Jinja2>=2.10.1 in /opt/conda/envs/python35-paddle120-env/lib/python3.7/site-packages (from flask>=1.1.1->visualdl->paddlenlp) (2.10.1)\n",
      "Requirement already satisfied, skipping upgrade: itsdangerous>=0.24 in /opt/conda/envs/python35-paddle120-env/lib/python3.7/site-packages (from flask>=1.1.1->visualdl->paddlenlp) (1.1.0)\n",
      "Requirement already satisfied, skipping upgrade: Werkzeug>=0.15 in /opt/conda/envs/python35-paddle120-env/lib/python3.7/site-packages (from flask>=1.1.1->visualdl->paddlenlp) (0.16.0)\n",
      "Requirement already satisfied, skipping upgrade: Babel>=2.3 in /opt/conda/envs/python35-paddle120-env/lib/python3.7/site-packages (from Flask-Babel>=1.0.0->visualdl->paddlenlp) (2.8.0)\n",
      "Requirement already satisfied, skipping upgrade: pytz in /opt/conda/envs/python35-paddle120-env/lib/python3.7/site-packages (from Flask-Babel>=1.0.0->visualdl->paddlenlp) (2019.3)\n",
      "Requirement already satisfied, skipping upgrade: importlib-metadata; python_version < \"3.8\" in /opt/conda/envs/python35-paddle120-env/lib/python3.7/site-packages (from flake8>=3.7.9->visualdl->paddlenlp) (0.23)\n",
      "Requirement already satisfied, skipping upgrade: mccabe<0.7.0,>=0.6.0 in /opt/conda/envs/python35-paddle120-env/lib/python3.7/site-packages (from flake8>=3.7.9->visualdl->paddlenlp) (0.6.1)\n",
      "Requirement already satisfied, skipping upgrade: pycodestyle<2.7.0,>=2.6.0a1 in /opt/conda/envs/python35-paddle120-env/lib/python3.7/site-packages (from flake8>=3.7.9->visualdl->paddlenlp) (2.6.0)\n",
      "Requirement already satisfied, skipping upgrade: pyflakes<2.3.0,>=2.2.0 in /opt/conda/envs/python35-paddle120-env/lib/python3.7/site-packages (from flake8>=3.7.9->visualdl->paddlenlp) (2.2.0)\n",
      "Requirement already satisfied, skipping upgrade: nodeenv>=0.11.1 in /opt/conda/envs/python35-paddle120-env/lib/python3.7/site-packages (from pre-commit->visualdl->paddlenlp) (1.3.4)\n",
      "Requirement already satisfied, skipping upgrade: toml in /opt/conda/envs/python35-paddle120-env/lib/python3.7/site-packages (from pre-commit->visualdl->paddlenlp) (0.10.0)\n",
      "Requirement already satisfied, skipping upgrade: virtualenv>=15.2 in /opt/conda/envs/python35-paddle120-env/lib/python3.7/site-packages (from pre-commit->visualdl->paddlenlp) (16.7.9)\n",
      "Requirement already satisfied, skipping upgrade: pyyaml in /opt/conda/envs/python35-paddle120-env/lib/python3.7/site-packages (from pre-commit->visualdl->paddlenlp) (5.1.2)\n",
      "Requirement already satisfied, skipping upgrade: cfgv>=2.0.0 in /opt/conda/envs/python35-paddle120-env/lib/python3.7/site-packages (from pre-commit->visualdl->paddlenlp) (2.0.1)\n",
      "Requirement already satisfied, skipping upgrade: aspy.yaml in /opt/conda/envs/python35-paddle120-env/lib/python3.7/site-packages (from pre-commit->visualdl->paddlenlp) (1.3.0)\n",
      "Requirement already satisfied, skipping upgrade: identify>=1.0.0 in /opt/conda/envs/python35-paddle120-env/lib/python3.7/site-packages (from pre-commit->visualdl->paddlenlp) (1.4.10)\n",
      "Requirement already satisfied, skipping upgrade: joblib>=0.11 in /opt/conda/envs/python35-paddle120-env/lib/python3.7/site-packages (from scikit-learn>=0.21.3->seqeval->paddlenlp) (0.14.1)\n",
      "Requirement already satisfied, skipping upgrade: threadpoolctl>=2.0.0 in /opt/conda/envs/python35-paddle120-env/lib/python3.7/site-packages (from scikit-learn>=0.21.3->seqeval->paddlenlp) (2.1.0)\n",
      "Requirement already satisfied, skipping upgrade: scipy>=0.19.1 in /opt/conda/envs/python35-paddle120-env/lib/python3.7/site-packages (from scikit-learn>=0.21.3->seqeval->paddlenlp) (1.6.3)\n",
      "Requirement already satisfied, skipping upgrade: MarkupSafe>=0.23 in /opt/conda/envs/python35-paddle120-env/lib/python3.7/site-packages (from Jinja2>=2.10.1->flask>=1.1.1->visualdl->paddlenlp) (1.1.1)\n",
      "Requirement already satisfied, skipping upgrade: zipp>=0.5 in /opt/conda/envs/python35-paddle120-env/lib/python3.7/site-packages (from importlib-metadata; python_version < \"3.8\"->flake8>=3.7.9->visualdl->paddlenlp) (0.6.0)\n",
      "Requirement already satisfied, skipping upgrade: more-itertools in /opt/conda/envs/python35-paddle120-env/lib/python3.7/site-packages (from zipp>=0.5->importlib-metadata; python_version < \"3.8\"->flake8>=3.7.9->visualdl->paddlenlp) (7.2.0)\n"
     ]
    }
   ],
   "source": [
    "!pip install --upgrade paddlenlp"
   ]
  },
  {
   "cell_type": "code",
   "execution_count": 2,
   "metadata": {
    "collapsed": false
   },
   "outputs": [
    {
     "name": "stderr",
     "output_type": "stream",
     "text": [
      "100%|██████████| 154/154 [00:00<00:00, 4929.77it/s]"
     ]
    },
    {
     "name": "stdout",
     "output_type": "stream",
     "text": [
      "text_a\tlabel\r\n",
      "黑\u0002龙\u0002江\u0002省\u0002双\u0002鸭\u0002山\u0002市\u0002尖\u0002山\u0002区\u0002八\u0002马\u0002路\u0002与\u0002东\u0002平\u0002行\u0002路\u0002交\u0002叉\u0002口\u0002北\u00024\u00020\u0002米\u0002韦\u0002业\u0002涛\u00021\u00028\u00026\u00020\u00020\u00020\u00020\u00029\u00021\u00027\u00022\tA1-B\u0002A1-I\u0002A1-I\u0002A1-I\u0002A2-B\u0002A2-I\u0002A2-I\u0002A2-I\u0002A3-B\u0002A3-I\u0002A3-I\u0002A4-B\u0002A4-I\u0002A4-I\u0002A4-I\u0002A4-I\u0002A4-I\u0002A4-I\u0002A4-I\u0002A4-I\u0002A4-I\u0002A4-I\u0002A4-I\u0002A4-I\u0002A4-I\u0002A4-I\u0002P-B\u0002P-I\u0002P-I\u0002T-B\u0002T-I\u0002T-I\u0002T-I\u0002T-I\u0002T-I\u0002T-I\u0002T-I\u0002T-I\u0002T-I\u0002T-I\r\n",
      "广\u0002西\u0002壮\u0002族\u0002自\u0002治\u0002区\u0002桂\u0002林\u0002市\u0002雁\u0002山\u0002区\u0002雁\u0002山\u0002镇\u0002西\u0002龙\u0002村\u0002老\u0002年\u0002活\u0002动\u0002中\u0002心\u00021\u00027\u00026\u00021\u00020\u00023\u00024\u00028\u00028\u00028\u00028\u0002羊\u0002卓\u0002卫\tA1-B\u0002A1-I\u0002A1-I\u0002A1-I\u0002A1-I\u0002A1-I\u0002A1-I\u0002A2-B\u0002A2-I\u0002A2-I\u0002A3-B\u0002A3-I\u0002A3-I\u0002A4-B\u0002A4-I\u0002A4-I\u0002A4-I\u0002A4-I\u0002A4-I\u0002A4-I\u0002A4-I\u0002A4-I\u0002A4-I\u0002A4-I\u0002A4-I\u0002T-B\u0002T-I\u0002T-I\u0002T-I\u0002T-I\u0002T-I\u0002T-I\u0002T-I\u0002T-I\u0002T-I\u0002T-I\u0002P-B\u0002P-I\u0002P-I\r\n",
      "1\u00025\u00026\u00025\u00022\u00028\u00026\u00024\u00025\u00026\u00021\u0002河\u0002南\u0002省\u0002开\u0002封\u0002市\u0002顺\u0002河\u0002回\u0002族\u0002区\u0002顺\u0002河\u0002区\u0002公\u0002园\u0002路\u00023\u00022\u0002号\u0002赵\u0002本\u0002山\tT-B\u0002T-I\u0002T-I\u0002T-I\u0002T-I\u0002T-I\u0002T-I\u0002T-I\u0002T-I\u0002T-I\u0002T-I\u0002A1-B\u0002A1-I\u0002A1-I\u0002A2-B\u0002A2-I\u0002A2-I\u0002A3-B\u0002A3-I\u0002A3-I\u0002A3-I\u0002A3-I\u0002A4-B\u0002A4-I\u0002A4-I\u0002A4-I\u0002A4-I\u0002A4-I\u0002A4-I\u0002A4-I\u0002A4-I\u0002P-B\u0002P-I\u0002P-I\r\n",
      "河\u0002北\u0002省\u0002唐\u0002山\u0002市\u0002玉\u0002田\u0002县\u0002无\u0002终\u0002大\u0002街\u00021\u00025\u00029\u0002号\u00021\u00028\u00026\u00021\u00024\u00022\u00025\u00023\u00020\u00025\u00028\u0002尚\u0002汉\u0002生\tA1-B\u0002A1-I\u0002A1-I\u0002A2-B\u0002A2-I\u0002A2-I\u0002A3-B\u0002A3-I\u0002A3-I\u0002A4-B\u0002A4-I\u0002A4-I\u0002A4-I\u0002A4-I\u0002A4-I\u0002A4-I\u0002A4-I\u0002T-B\u0002T-I\u0002T-I\u0002T-I\u0002T-I\u0002T-I\u0002T-I\u0002T-I\u0002T-I\u0002T-I\u0002T-I\u0002P-B\u0002P-I\u0002P-I\r\n"
     ]
    },
    {
     "name": "stderr",
     "output_type": "stream",
     "text": [
      "\n"
     ]
    }
   ],
   "source": [
    "# 下载并解压数据集\n",
    "from paddle.utils.download import get_path_from_url\n",
    "URL = \"https://paddlenlp.bj.bcebos.com/paddlenlp/datasets/waybill.tar.gz\"\n",
    "get_path_from_url(URL, \"./\")\n",
    "\n",
    "# 查看预测的数据\n",
    "!head -n 5 data/test.txt"
   ]
  },
  {
   "cell_type": "code",
   "execution_count": 3,
   "metadata": {
    "collapsed": false
   },
   "outputs": [],
   "source": [
    "from functools import partial\n",
    "\n",
    "import paddle\n",
    "from paddlenlp.datasets import MapDataset\n",
    "from paddlenlp.data import Stack, Tuple, Pad\n",
    "from paddlenlp.transformers import ErnieTokenizer, ErnieForTokenClassification\n",
    "from paddlenlp.metrics import ChunkEvaluator\n",
    "from utils import convert_example, evaluate, predict, load_dict"
   ]
  },
  {
   "cell_type": "markdown",
   "metadata": {
    "collapsed": false
   },
   "source": [
    "## 加载自定义数据集\n",
    "\n",
    "推荐使用MapDataset()自定义数据集。"
   ]
  },
  {
   "cell_type": "code",
   "execution_count": 4,
   "metadata": {
    "collapsed": false
   },
   "outputs": [],
   "source": [
    "def load_dataset(datafiles):\n",
    "    def read(data_path):\n",
    "        with open(data_path, 'r', encoding='utf-8') as fp:\n",
    "            next(fp)  # Skip header\n",
    "            for line in fp.readlines():\n",
    "                words, labels = line.strip('\\n').split('\\t')\n",
    "                words = words.split('\\002')\n",
    "                labels = labels.split('\\002')\n",
    "                yield words, labels\n",
    "\n",
    "    if isinstance(datafiles, str):\n",
    "        return MapDataset(list(read(datafiles)))\n",
    "    elif isinstance(datafiles, list) or isinstance(datafiles, tuple):\n",
    "        return [MapDataset(list(read(datafile))) for datafile in datafiles]\n",
    "\n",
    "# Create dataset, tokenizer and dataloader.\n",
    "train_ds, dev_ds, test_ds = load_dataset(datafiles=(\n",
    "        './data/train.txt', './data/dev.txt', './data/test.txt'))"
   ]
  },
  {
   "cell_type": "code",
   "execution_count": 5,
   "metadata": {
    "collapsed": false
   },
   "outputs": [
    {
     "name": "stdout",
     "output_type": "stream",
     "text": [
      "(['1', '6', '6', '2', '0', '2', '0', '0', '0', '7', '7', '宣', '荣', '嗣', '甘', '肃', '省', '白', '银', '市', '会', '宁', '县', '河', '畔', '镇', '十', '字', '街', '金', '海', '超', '市', '西', '行', '5', '0', '米'], ['T-B', 'T-I', 'T-I', 'T-I', 'T-I', 'T-I', 'T-I', 'T-I', 'T-I', 'T-I', 'T-I', 'P-B', 'P-I', 'P-I', 'A1-B', 'A1-I', 'A1-I', 'A2-B', 'A2-I', 'A2-I', 'A3-B', 'A3-I', 'A3-I', 'A4-B', 'A4-I', 'A4-I', 'A4-I', 'A4-I', 'A4-I', 'A4-I', 'A4-I', 'A4-I', 'A4-I', 'A4-I', 'A4-I', 'A4-I', 'A4-I', 'A4-I'])\n",
      "(['1', '3', '5', '5', '2', '6', '6', '4', '3', '0', '7', '姜', '骏', '炜', '云', '南', '省', '德', '宏', '傣', '族', '景', '颇', '族', '自', '治', '州', '盈', '江', '县', '平', '原', '镇', '蜜', '回', '路', '下', '段'], ['T-B', 'T-I', 'T-I', 'T-I', 'T-I', 'T-I', 'T-I', 'T-I', 'T-I', 'T-I', 'T-I', 'P-B', 'P-I', 'P-I', 'A1-B', 'A1-I', 'A1-I', 'A2-B', 'A2-I', 'A2-I', 'A2-I', 'A2-I', 'A2-I', 'A2-I', 'A2-I', 'A2-I', 'A2-I', 'A3-B', 'A3-I', 'A3-I', 'A4-B', 'A4-I', 'A4-I', 'A4-I', 'A4-I', 'A4-I', 'A4-I', 'A4-I'])\n",
      "(['内', '蒙', '古', '自', '治', '区', '赤', '峰', '市', '阿', '鲁', '科', '尔', '沁', '旗', '汉', '林', '西', '街', '路', '南', '1', '3', '7', '0', '1', '0', '8', '5', '3', '9', '0', '那', '峥'], ['A1-B', 'A1-I', 'A1-I', 'A1-I', 'A1-I', 'A1-I', 'A2-B', 'A2-I', 'A2-I', 'A3-B', 'A3-I', 'A3-I', 'A3-I', 'A3-I', 'A3-I', 'A4-B', 'A4-I', 'A4-I', 'A4-I', 'A4-I', 'A4-I', 'T-B', 'T-I', 'T-I', 'T-I', 'T-I', 'T-I', 'T-I', 'T-I', 'T-I', 'T-I', 'T-I', 'P-B', 'P-I'])\n",
      "(['广', '东', '省', '梅', '州', '市', '大', '埔', '县', '茶', '阳', '镇', '胜', '利', '路', '1', '3', '6', '0', '1', '3', '2', '8', '1', '7', '3', '张', '铱'], ['A1-B', 'A1-I', 'A1-I', 'A2-B', 'A2-I', 'A2-I', 'A3-B', 'A3-I', 'A3-I', 'A4-B', 'A4-I', 'A4-I', 'A4-I', 'A4-I', 'A4-I', 'T-B', 'T-I', 'T-I', 'T-I', 'T-I', 'T-I', 'T-I', 'T-I', 'T-I', 'T-I', 'T-I', 'P-B', 'P-I'])\n",
      "(['新', '疆', '维', '吾', '尔', '自', '治', '区', '阿', '克', '苏', '地', '区', '阿', '克', '苏', '市', '步', '行', '街', '1', '0', '号', '1', '5', '8', '1', '0', '7', '8', '9', '3', '7', '8', '慕', '东', '霖'], ['A1-B', 'A1-I', 'A1-I', 'A1-I', 'A1-I', 'A1-I', 'A1-I', 'A1-I', 'A2-B', 'A2-I', 'A2-I', 'A2-I', 'A2-I', 'A3-B', 'A3-I', 'A3-I', 'A3-I', 'A4-B', 'A4-I', 'A4-I', 'A4-I', 'A4-I', 'A4-I', 'T-B', 'T-I', 'T-I', 'T-I', 'T-I', 'T-I', 'T-I', 'T-I', 'T-I', 'T-I', 'T-I', 'P-B', 'P-I', 'P-I'])\n"
     ]
    }
   ],
   "source": [
    "for i in range(5):\n",
    "    print(train_ds[i])"
   ]
  },
  {
   "cell_type": "markdown",
   "metadata": {
    "collapsed": false
   },
   "source": [
    "每条数据包含一句文本和这个文本中每个汉字以及数字对应的label标签。\n",
    "\n",
    "之后，还需要对输入句子进行数据处理，如切词，映射词表id等。"
   ]
  },
  {
   "cell_type": "markdown",
   "metadata": {
    "collapsed": false
   },
   "source": [
    "## 数据处理\n",
    "\n",
    "预训练模型ERNIE对中文数据的处理是以字为单位。PaddleNLP对于各种预训练模型已经内置了相应的tokenizer。指定想要使用的模型名字即可加载对应的tokenizer。\n",
    "\n",
    "tokenizer作用为将原始输入文本转化成模型model可以接受的输入数据形式。\n",
    "\n",
    "\n",
    "<p align=\"center\">\n",
    "<img src=\"https://bj.bcebos.com/paddlehub/paddlehub-img/ernie_network_1.png\" hspace='10'/> <br />\n",
    "</p>\n",
    "\n",
    "\n",
    "<p align=\"center\">\n",
    "<img src=\"https://bj.bcebos.com/paddlehub/paddlehub-img/ernie_network_2.png\" hspace='10'/> <br />\n",
    "</p>\n",
    "<br><center>图3：ERNIE模型示意图</center></br>"
   ]
  },
  {
   "cell_type": "code",
   "execution_count": 6,
   "metadata": {
    "collapsed": false
   },
   "outputs": [
    {
     "name": "stderr",
     "output_type": "stream",
     "text": [
      "[2021-06-10 18:51:27,053] [    INFO] - Found /home/aistudio/.paddlenlp/models/ernie-1.0/vocab.txt\n"
     ]
    },
    {
     "name": "stdout",
     "output_type": "stream",
     "text": [
      "([1, 208, 515, 515, 249, 540, 249, 540, 540, 540, 589, 589, 803, 838, 2914, 1222, 1734, 244, 368, 797, 99, 32, 863, 308, 457, 2778, 484, 167, 436, 930, 192, 233, 634, 99, 213, 40, 317, 540, 256, 2], [0, 0, 0, 0, 0, 0, 0, 0, 0, 0, 0, 0, 0, 0, 0, 0, 0, 0, 0, 0, 0, 0, 0, 0, 0, 0, 0, 0, 0, 0, 0, 0, 0, 0, 0, 0, 0, 0, 0, 0], 40, [12, 2, 3, 3, 3, 3, 3, 3, 3, 3, 3, 3, 0, 1, 1, 4, 5, 5, 6, 7, 7, 8, 9, 9, 10, 11, 11, 11, 11, 11, 11, 11, 11, 11, 11, 11, 11, 11, 11, 12])\n"
     ]
    }
   ],
   "source": [
    "label_vocab = load_dict('./data/tag.dic')\n",
    "tokenizer = ErnieTokenizer.from_pretrained('ernie-1.0')\n",
    "\n",
    "trans_func = partial(convert_example, tokenizer=tokenizer, label_vocab=label_vocab)\n",
    "\n",
    "train_ds.map(trans_func)\n",
    "dev_ds.map(trans_func)\n",
    "test_ds.map(trans_func)\n",
    "print (train_ds[0])"
   ]
  },
  {
   "cell_type": "markdown",
   "metadata": {
    "collapsed": false
   },
   "source": [
    "### 数据读入\n",
    "\n",
    "使用`paddle.io.DataLoader`接口多线程异步加载数据。"
   ]
  },
  {
   "cell_type": "code",
   "execution_count": 7,
   "metadata": {
    "collapsed": false
   },
   "outputs": [],
   "source": [
    "ignore_label = -1\n",
    "batchify_fn = lambda samples, fn=Tuple(\n",
    "    Pad(axis=0, pad_val=tokenizer.pad_token_id),  # input_ids\n",
    "    Pad(axis=0, pad_val=tokenizer.pad_token_type_id),  # token_type_ids\n",
    "    Stack(),  # seq_len\n",
    "    Pad(axis=0, pad_val=ignore_label)  # labels\n",
    "): fn(samples)\n",
    "\n",
    "train_loader = paddle.io.DataLoader(\n",
    "    dataset=train_ds,\n",
    "    batch_size=36,\n",
    "    return_list=True,\n",
    "    collate_fn=batchify_fn)\n",
    "dev_loader = paddle.io.DataLoader(\n",
    "    dataset=dev_ds,\n",
    "    batch_size=36,\n",
    "    return_list=True,\n",
    "    collate_fn=batchify_fn)\n",
    "test_loader = paddle.io.DataLoader(\n",
    "    dataset=test_ds,\n",
    "    batch_size=36,\n",
    "    return_list=True,\n",
    "    collate_fn=batchify_fn)"
   ]
  },
  {
   "cell_type": "markdown",
   "metadata": {
    "collapsed": false
   },
   "source": [
    "## PaddleNLP一键加载预训练模型\n",
    "\n",
    "\n",
    "快递单信息抽取本质是一个序列标注任务，PaddleNLP对于各种预训练模型已经内置了对于下游任务文本分类Fine-tune网络。以下教程以ERNIE为预训练模型完成序列标注任务。\n",
    "\n",
    "`paddlenlp.transformers.ErnieForTokenClassification()`一行代码即可加载预训练模型ERNIE用于序列标注任务的fine-tune网络。其在ERNIE模型后拼接上一个全连接网络进行分类。\n",
    "\n",
    "`paddlenlp.transformers.ErnieForTokenClassification.from_pretrained()`方法只需指定想要使用的模型名称和文本分类的类别数即可完成定义模型网络。"
   ]
  },
  {
   "cell_type": "code",
   "execution_count": 8,
   "metadata": {
    "collapsed": false
   },
   "outputs": [
    {
     "name": "stderr",
     "output_type": "stream",
     "text": [
      "[2021-06-10 18:51:27,092] [    INFO] - Already cached /home/aistudio/.paddlenlp/models/ernie-1.0/ernie_v1_chn_base.pdparams\n",
      "/opt/conda/envs/python35-paddle120-env/lib/python3.7/site-packages/paddle/fluid/dygraph/layers.py:1297: UserWarning: Skip loading for classifier.weight. classifier.weight is not found in the provided dict.\n",
      "  warnings.warn((\"Skip loading for {}. \".format(key) + str(err)))\n",
      "/opt/conda/envs/python35-paddle120-env/lib/python3.7/site-packages/paddle/fluid/dygraph/layers.py:1297: UserWarning: Skip loading for classifier.bias. classifier.bias is not found in the provided dict.\n",
      "  warnings.warn((\"Skip loading for {}. \".format(key) + str(err)))\n"
     ]
    }
   ],
   "source": [
    "# Define the model netword and its loss\n",
    "model = ErnieForTokenClassification.from_pretrained(\"ernie-1.0\", num_classes=len(label_vocab))"
   ]
  },
  {
   "cell_type": "markdown",
   "metadata": {
    "collapsed": false
   },
   "source": [
    "PaddleNLP不仅支持ERNIE预训练模型，还支持BERT、RoBERTa、Electra等预训练模型。\n",
    "下表汇总了目前PaddleNLP支持的各类预训练模型。您可以使用PaddleNLP提供的模型，完成文本分类、序列标注、问答等任务。同时我们提供了众多预训练模型的参数权重供用户使用，其中包含了二十多种中文语言模型的预训练权重。中文的预训练模型有`bert-base-chinese, bert-wwm-chinese, bert-wwm-ext-chinese, ernie-1.0, ernie-tiny, gpt2-base-cn, roberta-wwm-ext, roberta-wwm-ext-large, rbt3, rbtl3, chinese-electra-base, chinese-electra-small, chinese-xlnet-base, chinese-xlnet-mid, chinese-xlnet-large, unified_transformer-12L-cn, unified_transformer-12L-cn-luge`等。\n",
    "\n",
    "更多预训练模型参考：[PaddleNLP Transformer API](https://github.com/PaddlePaddle/PaddleNLP/blob/develop/docs/transformers.md)。\n",
    "\n",
    "更多预训练模型fine-tune下游任务使用方法，请参考：[examples](https://github.com/PaddlePaddle/PaddleNLP/tree/develop/examples)。"
   ]
  },
  {
   "cell_type": "markdown",
   "metadata": {
    "collapsed": false
   },
   "source": [
    "## 设置Fine-Tune优化策略，模型配置\n",
    "适用于ERNIE/BERT这类Transformer模型的迁移优化学习率策略为warmup的动态学习率。\n",
    "\n",
    "<p align=\"center\">\n",
    "<img src=\"https://ai-studio-static-online.cdn.bcebos.com/2bc624280a614a80b5449773192be460f195b13af89e4e5cbaf62bf6ac16de2c\" width=\"40%\" height=\"30%\"/> <br />\n",
    "</p><br><center>图4：动态学习率示意图</center></br>\n",
    "\n"
   ]
  },
  {
   "cell_type": "code",
   "execution_count": 9,
   "metadata": {
    "collapsed": false
   },
   "outputs": [],
   "source": [
    "metric = ChunkEvaluator(label_list=label_vocab.keys(), suffix=True)\n",
    "loss_fn = paddle.nn.loss.CrossEntropyLoss(ignore_index=ignore_label)\n",
    "optimizer = paddle.optimizer.AdamW(learning_rate=2e-5, parameters=model.parameters())"
   ]
  },
  {
   "cell_type": "markdown",
   "metadata": {
    "collapsed": false
   },
   "source": [
    "## 模型训练与评估\n",
    "\n",
    "\n",
    "模型训练的过程通常有以下步骤：\n",
    "\n",
    "1. 从dataloader中取出一个batch data\n",
    "2. 将batch data喂给model，做前向计算\n",
    "3. 将前向计算结果传给损失函数，计算loss。将前向计算结果传给评价方法，计算评价指标。\n",
    "4. loss反向回传，更新梯度。重复以上步骤。\n",
    "\n",
    "每训练一个epoch时，程序将会评估一次，评估当前模型训练的效果。"
   ]
  },
  {
   "cell_type": "code",
   "execution_count": 10,
   "metadata": {
    "collapsed": false
   },
   "outputs": [
    {
     "name": "stderr",
     "output_type": "stream",
     "text": [
      "/opt/conda/envs/python35-paddle120-env/lib/python3.7/site-packages/paddle/fluid/dygraph/math_op_patch.py:239: UserWarning: The dtype of left and right variables are not the same, left dtype is paddle.float32, but right dtype is paddle.bool, the right dtype will convert to paddle.float32\n",
      "  format(lhs_dtype, rhs_dtype, lhs_dtype))\n"
     ]
    },
    {
     "name": "stdout",
     "output_type": "stream",
     "text": [
      "epoch:0 - step:1 - loss: 2.906866\n",
      "epoch:0 - step:2 - loss: 2.670606\n",
      "epoch:0 - step:3 - loss: 2.445522\n",
      "epoch:0 - step:4 - loss: 2.258406\n",
      "epoch:0 - step:5 - loss: 2.105350\n",
      "epoch:0 - step:6 - loss: 1.997519\n",
      "epoch:0 - step:7 - loss: 1.855536\n",
      "epoch:0 - step:8 - loss: 1.753407\n",
      "epoch:0 - step:9 - loss: 1.657097\n",
      "epoch:0 - step:10 - loss: 1.551991\n",
      "epoch:0 - step:11 - loss: 1.479653\n",
      "epoch:0 - step:12 - loss: 1.433859\n",
      "epoch:0 - step:13 - loss: 1.371474\n",
      "epoch:0 - step:14 - loss: 1.300609\n",
      "epoch:0 - step:15 - loss: 1.268376\n",
      "epoch:0 - step:16 - loss: 1.180517\n",
      "epoch:0 - step:17 - loss: 1.177875\n",
      "epoch:0 - step:18 - loss: 1.088033\n",
      "epoch:0 - step:19 - loss: 1.052152\n",
      "epoch:0 - step:20 - loss: 1.010102\n",
      "epoch:0 - step:21 - loss: 0.949763\n",
      "epoch:0 - step:22 - loss: 0.920413\n",
      "epoch:0 - step:23 - loss: 0.883444\n",
      "epoch:0 - step:24 - loss: 0.831340\n",
      "epoch:0 - step:25 - loss: 0.830084\n",
      "epoch:0 - step:26 - loss: 0.765715\n",
      "epoch:0 - step:27 - loss: 0.737732\n",
      "epoch:0 - step:28 - loss: 0.720167\n",
      "epoch:0 - step:29 - loss: 0.647830\n",
      "epoch:0 - step:30 - loss: 0.609338\n",
      "epoch:0 - step:31 - loss: 0.579264\n",
      "epoch:0 - step:32 - loss: 0.566051\n",
      "epoch:0 - step:33 - loss: 0.518554\n",
      "epoch:0 - step:34 - loss: 0.488222\n",
      "epoch:0 - step:35 - loss: 0.446011\n",
      "epoch:0 - step:36 - loss: 0.453090\n",
      "epoch:0 - step:37 - loss: 0.398235\n",
      "epoch:0 - step:38 - loss: 0.371674\n",
      "epoch:0 - step:39 - loss: 0.365072\n",
      "epoch:0 - step:40 - loss: 0.328290\n",
      "epoch:0 - step:41 - loss: 0.314575\n",
      "epoch:0 - step:42 - loss: 0.306104\n",
      "epoch:0 - step:43 - loss: 0.237353\n",
      "epoch:0 - step:44 - loss: 0.230750\n",
      "epoch:0 - step:45 - loss: 0.225530\n"
     ]
    },
    {
     "name": "stderr",
     "output_type": "stream",
     "text": [
      "[2021-06-10 18:51:40,484] [ WARNING] - Compatibility Warning: The params of ChunkEvaluator.compute has been modified. The old version is `inputs`, `lengths`, `predictions`, `labels` while the current version is `lengths`, `predictions`, `labels`.  Please update the usage.\n",
      "/opt/conda/envs/python35-paddle120-env/lib/python3.7/site-packages/paddle/tensor/creation.py:125: DeprecationWarning: `np.object` is a deprecated alias for the builtin `object`. To silence this warning, use `object` by itself. Doing this will not modify any behavior and is safe. \n",
      "Deprecated in NumPy 1.20; for more details and guidance: https://numpy.org/devdocs/release/1.20.0-notes.html#deprecations\n",
      "  if data.dtype == np.object:\n"
     ]
    },
    {
     "name": "stdout",
     "output_type": "stream",
     "text": [
      "eval precision: 0.949503 - recall: 0.964676 - f1: 0.957030\n",
      "epoch:1 - step:46 - loss: 0.207285\n",
      "epoch:1 - step:47 - loss: 0.189061\n",
      "epoch:1 - step:48 - loss: 0.171074\n",
      "epoch:1 - step:49 - loss: 0.164436\n",
      "epoch:1 - step:50 - loss: 0.166434\n",
      "epoch:1 - step:51 - loss: 0.157673\n",
      "epoch:1 - step:52 - loss: 0.151294\n",
      "epoch:1 - step:53 - loss: 0.121889\n",
      "epoch:1 - step:54 - loss: 0.128944\n",
      "epoch:1 - step:55 - loss: 0.116669\n",
      "epoch:1 - step:56 - loss: 0.106023\n",
      "epoch:1 - step:57 - loss: 0.107766\n",
      "epoch:1 - step:58 - loss: 0.070056\n",
      "epoch:1 - step:59 - loss: 0.070394\n",
      "epoch:1 - step:60 - loss: 0.104370\n",
      "epoch:1 - step:61 - loss: 0.090906\n",
      "epoch:1 - step:62 - loss: 0.080739\n",
      "epoch:1 - step:63 - loss: 0.058414\n",
      "epoch:1 - step:64 - loss: 0.088325\n",
      "epoch:1 - step:65 - loss: 0.080357\n",
      "epoch:1 - step:66 - loss: 0.054415\n",
      "epoch:1 - step:67 - loss: 0.076688\n",
      "epoch:1 - step:68 - loss: 0.063209\n",
      "epoch:1 - step:69 - loss: 0.040676\n",
      "epoch:1 - step:70 - loss: 0.054674\n",
      "epoch:1 - step:71 - loss: 0.060505\n",
      "epoch:1 - step:72 - loss: 0.062631\n",
      "epoch:1 - step:73 - loss: 0.090017\n",
      "epoch:1 - step:74 - loss: 0.056967\n",
      "epoch:1 - step:75 - loss: 0.032424\n",
      "epoch:1 - step:76 - loss: 0.035428\n",
      "epoch:1 - step:77 - loss: 0.031457\n",
      "epoch:1 - step:78 - loss: 0.078983\n",
      "epoch:1 - step:79 - loss: 0.030281\n",
      "epoch:1 - step:80 - loss: 0.033314\n",
      "epoch:1 - step:81 - loss: 0.029957\n",
      "epoch:1 - step:82 - loss: 0.058323\n",
      "epoch:1 - step:83 - loss: 0.043891\n",
      "epoch:1 - step:84 - loss: 0.041115\n",
      "epoch:1 - step:85 - loss: 0.043706\n",
      "epoch:1 - step:86 - loss: 0.024387\n",
      "epoch:1 - step:87 - loss: 0.055209\n",
      "epoch:1 - step:88 - loss: 0.026001\n",
      "epoch:1 - step:89 - loss: 0.039811\n",
      "epoch:1 - step:90 - loss: 0.024641\n",
      "eval precision: 0.970858 - recall: 0.980656 - f1: 0.975732\n",
      "epoch:2 - step:91 - loss: 0.025538\n",
      "epoch:2 - step:92 - loss: 0.026804\n",
      "epoch:2 - step:93 - loss: 0.023842\n",
      "epoch:2 - step:94 - loss: 0.019485\n",
      "epoch:2 - step:95 - loss: 0.033523\n",
      "epoch:2 - step:96 - loss: 0.037615\n",
      "epoch:2 - step:97 - loss: 0.038955\n",
      "epoch:2 - step:98 - loss: 0.014593\n",
      "epoch:2 - step:99 - loss: 0.027074\n",
      "epoch:2 - step:100 - loss: 0.041710\n",
      "epoch:2 - step:101 - loss: 0.027306\n",
      "epoch:2 - step:102 - loss: 0.022447\n",
      "epoch:2 - step:103 - loss: 0.014904\n",
      "epoch:2 - step:104 - loss: 0.019013\n",
      "epoch:2 - step:105 - loss: 0.029063\n",
      "epoch:2 - step:106 - loss: 0.019037\n",
      "epoch:2 - step:107 - loss: 0.023613\n",
      "epoch:2 - step:108 - loss: 0.017147\n",
      "epoch:2 - step:109 - loss: 0.042090\n",
      "epoch:2 - step:110 - loss: 0.038290\n",
      "epoch:2 - step:111 - loss: 0.018916\n",
      "epoch:2 - step:112 - loss: 0.033037\n",
      "epoch:2 - step:113 - loss: 0.020264\n",
      "epoch:2 - step:114 - loss: 0.014422\n",
      "epoch:2 - step:115 - loss: 0.027407\n",
      "epoch:2 - step:116 - loss: 0.035598\n",
      "epoch:2 - step:117 - loss: 0.023099\n",
      "epoch:2 - step:118 - loss: 0.025384\n",
      "epoch:2 - step:119 - loss: 0.017956\n",
      "epoch:2 - step:120 - loss: 0.018171\n",
      "epoch:2 - step:121 - loss: 0.011632\n",
      "epoch:2 - step:122 - loss: 0.012728\n",
      "epoch:2 - step:123 - loss: 0.035489\n",
      "epoch:2 - step:124 - loss: 0.012764\n",
      "epoch:2 - step:125 - loss: 0.008345\n",
      "epoch:2 - step:126 - loss: 0.009278\n",
      "epoch:2 - step:127 - loss: 0.033972\n",
      "epoch:2 - step:128 - loss: 0.024794\n",
      "epoch:2 - step:129 - loss: 0.020923\n",
      "epoch:2 - step:130 - loss: 0.019268\n",
      "epoch:2 - step:131 - loss: 0.015382\n",
      "epoch:2 - step:132 - loss: 0.035599\n",
      "epoch:2 - step:133 - loss: 0.009571\n",
      "epoch:2 - step:134 - loss: 0.018197\n",
      "epoch:2 - step:135 - loss: 0.018647\n",
      "eval precision: 0.988255 - recall: 0.990749 - f1: 0.989500\n",
      "epoch:3 - step:136 - loss: 0.013382\n",
      "epoch:3 - step:137 - loss: 0.010178\n",
      "epoch:3 - step:138 - loss: 0.017027\n",
      "epoch:3 - step:139 - loss: 0.009915\n",
      "epoch:3 - step:140 - loss: 0.012015\n",
      "epoch:3 - step:141 - loss: 0.026283\n",
      "epoch:3 - step:142 - loss: 0.019700\n",
      "epoch:3 - step:143 - loss: 0.007217\n",
      "epoch:3 - step:144 - loss: 0.007631\n",
      "epoch:3 - step:145 - loss: 0.011836\n",
      "epoch:3 - step:146 - loss: 0.033576\n",
      "epoch:3 - step:147 - loss: 0.009686\n",
      "epoch:3 - step:148 - loss: 0.006738\n",
      "epoch:3 - step:149 - loss: 0.011411\n",
      "epoch:3 - step:150 - loss: 0.018323\n",
      "epoch:3 - step:151 - loss: 0.018211\n",
      "epoch:3 - step:152 - loss: 0.010782\n",
      "epoch:3 - step:153 - loss: 0.009929\n",
      "epoch:3 - step:154 - loss: 0.020351\n",
      "epoch:3 - step:155 - loss: 0.042648\n",
      "epoch:3 - step:156 - loss: 0.007030\n",
      "epoch:3 - step:157 - loss: 0.018991\n",
      "epoch:3 - step:158 - loss: 0.018133\n",
      "epoch:3 - step:159 - loss: 0.005792\n",
      "epoch:3 - step:160 - loss: 0.014287\n",
      "epoch:3 - step:161 - loss: 0.012327\n",
      "epoch:3 - step:162 - loss: 0.009916\n",
      "epoch:3 - step:163 - loss: 0.011597\n",
      "epoch:3 - step:164 - loss: 0.008844\n",
      "epoch:3 - step:165 - loss: 0.006799\n",
      "epoch:3 - step:166 - loss: 0.008623\n",
      "epoch:3 - step:167 - loss: 0.007203\n",
      "epoch:3 - step:168 - loss: 0.026012\n",
      "epoch:3 - step:169 - loss: 0.007886\n",
      "epoch:3 - step:170 - loss: 0.005556\n",
      "epoch:3 - step:171 - loss: 0.005521\n",
      "epoch:3 - step:172 - loss: 0.028654\n",
      "epoch:3 - step:173 - loss: 0.026186\n",
      "epoch:3 - step:174 - loss: 0.011260\n",
      "epoch:3 - step:175 - loss: 0.007100\n",
      "epoch:3 - step:176 - loss: 0.007410\n",
      "epoch:3 - step:177 - loss: 0.011192\n",
      "epoch:3 - step:178 - loss: 0.010747\n",
      "epoch:3 - step:179 - loss: 0.017116\n",
      "epoch:3 - step:180 - loss: 0.007459\n",
      "eval precision: 0.989941 - recall: 0.993272 - f1: 0.991604\n",
      "epoch:4 - step:181 - loss: 0.010751\n",
      "epoch:4 - step:182 - loss: 0.008104\n",
      "epoch:4 - step:183 - loss: 0.009580\n",
      "epoch:4 - step:184 - loss: 0.008024\n",
      "epoch:4 - step:185 - loss: 0.007535\n",
      "epoch:4 - step:186 - loss: 0.005336\n",
      "epoch:4 - step:187 - loss: 0.008215\n",
      "epoch:4 - step:188 - loss: 0.006290\n",
      "epoch:4 - step:189 - loss: 0.005057\n",
      "epoch:4 - step:190 - loss: 0.005163\n",
      "epoch:4 - step:191 - loss: 0.009429\n",
      "epoch:4 - step:192 - loss: 0.004793\n",
      "epoch:4 - step:193 - loss: 0.004318\n",
      "epoch:4 - step:194 - loss: 0.004427\n",
      "epoch:4 - step:195 - loss: 0.011576\n",
      "epoch:4 - step:196 - loss: 0.006906\n",
      "epoch:4 - step:197 - loss: 0.004457\n",
      "epoch:4 - step:198 - loss: 0.009508\n",
      "epoch:4 - step:199 - loss: 0.024352\n",
      "epoch:4 - step:200 - loss: 0.029490\n",
      "epoch:4 - step:201 - loss: 0.005709\n",
      "epoch:4 - step:202 - loss: 0.021849\n",
      "epoch:4 - step:203 - loss: 0.005122\n",
      "epoch:4 - step:204 - loss: 0.003970\n",
      "epoch:4 - step:205 - loss: 0.010727\n",
      "epoch:4 - step:206 - loss: 0.006398\n",
      "epoch:4 - step:207 - loss: 0.006538\n",
      "epoch:4 - step:208 - loss: 0.008882\n",
      "epoch:4 - step:209 - loss: 0.005727\n",
      "epoch:4 - step:210 - loss: 0.005940\n",
      "epoch:4 - step:211 - loss: 0.006624\n",
      "epoch:4 - step:212 - loss: 0.004115\n",
      "epoch:4 - step:213 - loss: 0.029370\n",
      "epoch:4 - step:214 - loss: 0.004621\n",
      "epoch:4 - step:215 - loss: 0.006275\n",
      "epoch:4 - step:216 - loss: 0.003779\n",
      "epoch:4 - step:217 - loss: 0.022876\n",
      "epoch:4 - step:218 - loss: 0.014056\n",
      "epoch:4 - step:219 - loss: 0.004928\n",
      "epoch:4 - step:220 - loss: 0.005956\n",
      "epoch:4 - step:221 - loss: 0.005044\n",
      "epoch:4 - step:222 - loss: 0.012646\n",
      "epoch:4 - step:223 - loss: 0.003467\n",
      "epoch:4 - step:224 - loss: 0.005123\n",
      "epoch:4 - step:225 - loss: 0.003669\n",
      "eval precision: 0.987427 - recall: 0.990749 - f1: 0.989085\n",
      "epoch:5 - step:226 - loss: 0.004604\n",
      "epoch:5 - step:227 - loss: 0.007406\n",
      "epoch:5 - step:228 - loss: 0.004979\n",
      "epoch:5 - step:229 - loss: 0.004254\n",
      "epoch:5 - step:230 - loss: 0.007421\n",
      "epoch:5 - step:231 - loss: 0.006220\n",
      "epoch:5 - step:232 - loss: 0.007847\n",
      "epoch:5 - step:233 - loss: 0.003808\n",
      "epoch:5 - step:234 - loss: 0.003329\n",
      "epoch:5 - step:235 - loss: 0.004012\n",
      "epoch:5 - step:236 - loss: 0.009837\n",
      "epoch:5 - step:237 - loss: 0.004788\n",
      "epoch:5 - step:238 - loss: 0.002893\n",
      "epoch:5 - step:239 - loss: 0.003003\n",
      "epoch:5 - step:240 - loss: 0.005639\n",
      "epoch:5 - step:241 - loss: 0.003811\n",
      "epoch:5 - step:242 - loss: 0.005117\n",
      "epoch:5 - step:243 - loss: 0.004773\n",
      "epoch:5 - step:244 - loss: 0.023619\n",
      "epoch:5 - step:245 - loss: 0.026397\n",
      "epoch:5 - step:246 - loss: 0.003336\n",
      "epoch:5 - step:247 - loss: 0.019554\n",
      "epoch:5 - step:248 - loss: 0.004538\n",
      "epoch:5 - step:249 - loss: 0.003367\n",
      "epoch:5 - step:250 - loss: 0.006346\n",
      "epoch:5 - step:251 - loss: 0.006318\n",
      "epoch:5 - step:252 - loss: 0.005529\n",
      "epoch:5 - step:253 - loss: 0.010411\n",
      "epoch:5 - step:254 - loss: 0.007654\n",
      "epoch:5 - step:255 - loss: 0.005829\n",
      "epoch:5 - step:256 - loss: 0.002543\n",
      "epoch:5 - step:257 - loss: 0.002971\n",
      "epoch:5 - step:258 - loss: 0.029368\n",
      "epoch:5 - step:259 - loss: 0.002670\n",
      "epoch:5 - step:260 - loss: 0.002451\n",
      "epoch:5 - step:261 - loss: 0.002511\n",
      "epoch:5 - step:262 - loss: 0.009154\n",
      "epoch:5 - step:263 - loss: 0.016372\n",
      "epoch:5 - step:264 - loss: 0.006697\n",
      "epoch:5 - step:265 - loss: 0.002848\n",
      "epoch:5 - step:266 - loss: 0.010467\n",
      "epoch:5 - step:267 - loss: 0.007947\n",
      "epoch:5 - step:268 - loss: 0.003192\n",
      "epoch:5 - step:269 - loss: 0.003775\n",
      "epoch:5 - step:270 - loss: 0.003320\n",
      "eval precision: 0.993277 - recall: 0.994113 - f1: 0.993695\n",
      "epoch:6 - step:271 - loss: 0.003877\n",
      "epoch:6 - step:272 - loss: 0.003528\n",
      "epoch:6 - step:273 - loss: 0.002623\n",
      "epoch:6 - step:274 - loss: 0.008844\n",
      "epoch:6 - step:275 - loss: 0.003217\n",
      "epoch:6 - step:276 - loss: 0.002518\n",
      "epoch:6 - step:277 - loss: 0.009054\n",
      "epoch:6 - step:278 - loss: 0.002176\n",
      "epoch:6 - step:279 - loss: 0.002913\n",
      "epoch:6 - step:280 - loss: 0.003128\n",
      "epoch:6 - step:281 - loss: 0.004026\n",
      "epoch:6 - step:282 - loss: 0.005517\n",
      "epoch:6 - step:283 - loss: 0.002351\n",
      "epoch:6 - step:284 - loss: 0.002400\n",
      "epoch:6 - step:285 - loss: 0.008686\n",
      "epoch:6 - step:286 - loss: 0.002536\n",
      "epoch:6 - step:287 - loss: 0.002342\n",
      "epoch:6 - step:288 - loss: 0.004504\n",
      "epoch:6 - step:289 - loss: 0.008201\n",
      "epoch:6 - step:290 - loss: 0.022651\n",
      "epoch:6 - step:291 - loss: 0.002551\n",
      "epoch:6 - step:292 - loss: 0.004900\n",
      "epoch:6 - step:293 - loss: 0.002783\n",
      "epoch:6 - step:294 - loss: 0.012731\n",
      "epoch:6 - step:295 - loss: 0.004094\n",
      "epoch:6 - step:296 - loss: 0.003243\n",
      "epoch:6 - step:297 - loss: 0.002397\n",
      "epoch:6 - step:298 - loss: 0.003541\n",
      "epoch:6 - step:299 - loss: 0.005858\n",
      "epoch:6 - step:300 - loss: 0.001987\n",
      "epoch:6 - step:301 - loss: 0.002342\n",
      "epoch:6 - step:302 - loss: 0.002191\n",
      "epoch:6 - step:303 - loss: 0.019989\n",
      "epoch:6 - step:304 - loss: 0.001928\n",
      "epoch:6 - step:305 - loss: 0.002347\n",
      "epoch:6 - step:306 - loss: 0.001850\n",
      "epoch:6 - step:307 - loss: 0.007807\n",
      "epoch:6 - step:308 - loss: 0.004354\n",
      "epoch:6 - step:309 - loss: 0.002209\n",
      "epoch:6 - step:310 - loss: 0.004388\n",
      "epoch:6 - step:311 - loss: 0.003686\n",
      "epoch:6 - step:312 - loss: 0.004144\n",
      "epoch:6 - step:313 - loss: 0.002088\n",
      "epoch:6 - step:314 - loss: 0.002139\n",
      "epoch:6 - step:315 - loss: 0.002078\n",
      "eval precision: 0.994958 - recall: 0.995795 - f1: 0.995376\n",
      "epoch:7 - step:316 - loss: 0.001930\n",
      "epoch:7 - step:317 - loss: 0.002807\n",
      "epoch:7 - step:318 - loss: 0.005789\n",
      "epoch:7 - step:319 - loss: 0.003432\n",
      "epoch:7 - step:320 - loss: 0.002279\n",
      "epoch:7 - step:321 - loss: 0.002101\n",
      "epoch:7 - step:322 - loss: 0.002929\n",
      "epoch:7 - step:323 - loss: 0.002503\n",
      "epoch:7 - step:324 - loss: 0.002196\n",
      "epoch:7 - step:325 - loss: 0.003144\n",
      "epoch:7 - step:326 - loss: 0.002322\n",
      "epoch:7 - step:327 - loss: 0.002223\n",
      "epoch:7 - step:328 - loss: 0.001535\n",
      "epoch:7 - step:329 - loss: 0.001681\n",
      "epoch:7 - step:330 - loss: 0.003950\n",
      "epoch:7 - step:331 - loss: 0.002175\n",
      "epoch:7 - step:332 - loss: 0.003690\n",
      "epoch:7 - step:333 - loss: 0.001706\n",
      "epoch:7 - step:334 - loss: 0.002729\n",
      "epoch:7 - step:335 - loss: 0.022508\n",
      "epoch:7 - step:336 - loss: 0.002544\n",
      "epoch:7 - step:337 - loss: 0.005095\n",
      "epoch:7 - step:338 - loss: 0.001924\n",
      "epoch:7 - step:339 - loss: 0.002469\n",
      "epoch:7 - step:340 - loss: 0.008313\n",
      "epoch:7 - step:341 - loss: 0.010220\n",
      "epoch:7 - step:342 - loss: 0.001902\n",
      "epoch:7 - step:343 - loss: 0.003993\n",
      "epoch:7 - step:344 - loss: 0.009249\n",
      "epoch:7 - step:345 - loss: 0.010240\n",
      "epoch:7 - step:346 - loss: 0.001815\n",
      "epoch:7 - step:347 - loss: 0.001796\n",
      "epoch:7 - step:348 - loss: 0.021220\n",
      "epoch:7 - step:349 - loss: 0.003778\n",
      "epoch:7 - step:350 - loss: 0.001567\n",
      "epoch:7 - step:351 - loss: 0.001928\n",
      "epoch:7 - step:352 - loss: 0.005438\n",
      "epoch:7 - step:353 - loss: 0.004876\n",
      "epoch:7 - step:354 - loss: 0.001694\n",
      "epoch:7 - step:355 - loss: 0.001926\n",
      "epoch:7 - step:356 - loss: 0.001693\n",
      "epoch:7 - step:357 - loss: 0.008896\n",
      "epoch:7 - step:358 - loss: 0.001879\n",
      "epoch:7 - step:359 - loss: 0.002003\n",
      "epoch:7 - step:360 - loss: 0.001975\n",
      "eval precision: 0.993283 - recall: 0.994954 - f1: 0.994118\n",
      "epoch:8 - step:361 - loss: 0.001739\n",
      "epoch:8 - step:362 - loss: 0.002762\n",
      "epoch:8 - step:363 - loss: 0.002533\n",
      "epoch:8 - step:364 - loss: 0.001633\n",
      "epoch:8 - step:365 - loss: 0.001754\n",
      "epoch:8 - step:366 - loss: 0.001622\n",
      "epoch:8 - step:367 - loss: 0.002570\n",
      "epoch:8 - step:368 - loss: 0.006512\n",
      "epoch:8 - step:369 - loss: 0.001611\n",
      "epoch:8 - step:370 - loss: 0.002078\n",
      "epoch:8 - step:371 - loss: 0.001576\n",
      "epoch:8 - step:372 - loss: 0.001985\n",
      "epoch:8 - step:373 - loss: 0.001359\n",
      "epoch:8 - step:374 - loss: 0.001632\n",
      "epoch:8 - step:375 - loss: 0.005183\n",
      "epoch:8 - step:376 - loss: 0.001703\n",
      "epoch:8 - step:377 - loss: 0.001527\n",
      "epoch:8 - step:378 - loss: 0.011741\n",
      "epoch:8 - step:379 - loss: 0.002201\n",
      "epoch:8 - step:380 - loss: 0.024114\n",
      "epoch:8 - step:381 - loss: 0.001343\n",
      "epoch:8 - step:382 - loss: 0.004166\n",
      "epoch:8 - step:383 - loss: 0.001395\n",
      "epoch:8 - step:384 - loss: 0.001328\n",
      "epoch:8 - step:385 - loss: 0.003181\n",
      "epoch:8 - step:386 - loss: 0.012647\n",
      "epoch:8 - step:387 - loss: 0.001652\n",
      "epoch:8 - step:388 - loss: 0.002226\n",
      "epoch:8 - step:389 - loss: 0.004751\n",
      "epoch:8 - step:390 - loss: 0.001555\n",
      "epoch:8 - step:391 - loss: 0.001747\n",
      "epoch:8 - step:392 - loss: 0.001628\n",
      "epoch:8 - step:393 - loss: 0.024981\n",
      "epoch:8 - step:394 - loss: 0.002331\n",
      "epoch:8 - step:395 - loss: 0.002579\n",
      "epoch:8 - step:396 - loss: 0.001525\n",
      "epoch:8 - step:397 - loss: 0.003311\n",
      "epoch:8 - step:398 - loss: 0.002609\n",
      "epoch:8 - step:399 - loss: 0.001423\n",
      "epoch:8 - step:400 - loss: 0.001594\n",
      "epoch:8 - step:401 - loss: 0.002296\n",
      "epoch:8 - step:402 - loss: 0.001659\n",
      "epoch:8 - step:403 - loss: 0.003085\n",
      "epoch:8 - step:404 - loss: 0.002423\n",
      "epoch:8 - step:405 - loss: 0.001651\n",
      "eval precision: 0.993283 - recall: 0.994954 - f1: 0.994118\n",
      "epoch:9 - step:406 - loss: 0.001784\n",
      "epoch:9 - step:407 - loss: 0.001494\n",
      "epoch:9 - step:408 - loss: 0.001605\n",
      "epoch:9 - step:409 - loss: 0.001385\n",
      "epoch:9 - step:410 - loss: 0.001392\n",
      "epoch:9 - step:411 - loss: 0.002012\n",
      "epoch:9 - step:412 - loss: 0.001517\n",
      "epoch:9 - step:413 - loss: 0.002053\n",
      "epoch:9 - step:414 - loss: 0.001359\n",
      "epoch:9 - step:415 - loss: 0.001506\n",
      "epoch:9 - step:416 - loss: 0.001539\n",
      "epoch:9 - step:417 - loss: 0.001401\n",
      "epoch:9 - step:418 - loss: 0.001185\n",
      "epoch:9 - step:419 - loss: 0.001457\n",
      "epoch:9 - step:420 - loss: 0.005191\n",
      "epoch:9 - step:421 - loss: 0.002906\n",
      "epoch:9 - step:422 - loss: 0.001268\n",
      "epoch:9 - step:423 - loss: 0.001201\n",
      "epoch:9 - step:424 - loss: 0.001535\n",
      "epoch:9 - step:425 - loss: 0.022698\n",
      "epoch:9 - step:426 - loss: 0.001151\n",
      "epoch:9 - step:427 - loss: 0.001211\n",
      "epoch:9 - step:428 - loss: 0.001347\n",
      "epoch:9 - step:429 - loss: 0.001270\n",
      "epoch:9 - step:430 - loss: 0.005511\n",
      "epoch:9 - step:431 - loss: 0.001285\n",
      "epoch:9 - step:432 - loss: 0.001469\n",
      "epoch:9 - step:433 - loss: 0.001705\n",
      "epoch:9 - step:434 - loss: 0.006237\n",
      "epoch:9 - step:435 - loss: 0.001723\n",
      "epoch:9 - step:436 - loss: 0.002009\n",
      "epoch:9 - step:437 - loss: 0.001303\n",
      "epoch:9 - step:438 - loss: 0.017515\n",
      "epoch:9 - step:439 - loss: 0.001392\n",
      "epoch:9 - step:440 - loss: 0.001269\n",
      "epoch:9 - step:441 - loss: 0.001380\n",
      "epoch:9 - step:442 - loss: 0.003624\n",
      "epoch:9 - step:443 - loss: 0.001976\n",
      "epoch:9 - step:444 - loss: 0.001449\n",
      "epoch:9 - step:445 - loss: 0.001532\n",
      "epoch:9 - step:446 - loss: 0.001863\n",
      "epoch:9 - step:447 - loss: 0.011228\n",
      "epoch:9 - step:448 - loss: 0.001450\n",
      "epoch:9 - step:449 - loss: 0.001601\n",
      "epoch:9 - step:450 - loss: 0.001273\n",
      "eval precision: 0.993283 - recall: 0.994954 - f1: 0.994118\n"
     ]
    }
   ],
   "source": [
    "step = 0\n",
    "for epoch in range(10):\n",
    "    for idx, (input_ids, token_type_ids, length, labels) in enumerate(train_loader):\n",
    "        logits = model(input_ids, token_type_ids)\n",
    "        loss = paddle.mean(loss_fn(logits, labels))\n",
    "        loss.backward()\n",
    "        optimizer.step()\n",
    "        optimizer.clear_grad()\n",
    "        step += 1\n",
    "        print(\"epoch:%d - step:%d - loss: %f\" % (epoch, step, loss))\n",
    "    evaluate(model, metric, dev_loader)\n",
    "\n",
    "    paddle.save(model.state_dict(),\n",
    "                './ernie_result/model_%d.pdparams' % step)\n",
    "# model.save_pretrained('./checkpoint')\n",
    "# tokenizer.save_pretrained('./checkpoint')"
   ]
  },
  {
   "cell_type": "markdown",
   "metadata": {
    "collapsed": false
   },
   "source": [
    "## 模型预测\n",
    "\n",
    "训练保存好的模型，即可用于预测。如以下示例代码自定义预测数据，调用`predict()`函数即可一键预测。"
   ]
  },
  {
   "cell_type": "code",
   "execution_count": 11,
   "metadata": {
    "collapsed": false
   },
   "outputs": [
    {
     "name": "stdout",
     "output_type": "stream",
     "text": [
      "The results have been saved in the file: ernie_results.txt, some examples are shown below: \n",
      "('黑龙江省', 'A1')('双鸭山市', 'A2')('尖山区', 'A3')('八马路与东平行路交叉口北40米', 'A4')('韦业涛', 'P')('18600009172', 'T')\n",
      "('广西壮族自治区', 'A1')('桂林市', 'A2')('雁山区', 'A3')('雁山镇西龙村老年活动中心', 'A4')('17610348888', 'T')('羊卓卫', 'P')\n",
      "('15652864561', 'T')('河南省', 'A1')('开封市', 'A2')('顺河回族区', 'A3')('顺河区公园路32号', 'A4')('赵本山', 'P')\n",
      "('河北省', 'A1')('唐山市', 'A2')('玉田县', 'A3')('无终大街159号', 'A4')('18614253058', 'T')('尚汉生', 'P')\n",
      "('台湾', 'A1')('台中市', 'A2')('北区', 'A3')('北区锦新街18号', 'A4')('18511226708', 'T')('蓟丽', 'P')\n",
      "('廖梓琪', 'P')('18514743222', 'T')('湖北省', 'A1')('宜昌市', 'A2')('长阳土家族自治县', 'A3')('贺家坪镇贺家坪村一组临河1号', 'A4')\n",
      "('江苏省', 'A1')('南通市', 'A2')('海门市', 'A3')('孝威村孝威路88号', 'A4')('18611840623', 'T')('计星仪', 'P')\n",
      "('17601674746', 'T')('赵春丽', 'P')('内蒙古自治区', 'A1')('乌兰察布市', 'A2')('凉城县', 'A3')('新建街', 'A4')\n",
      "('云南省', 'A1')('临沧市', 'A2')('耿马傣族佤族自治县', 'A3')('鑫源路法院对面', 'A4')('许贞爱', 'P')('18510566685', 'T')\n",
      "('四川省', 'A1')('成都市', 'A2')('双流区', 'A3')('东升镇北仓路196号', 'A4')('耿丕岭', 'P')('18513466161', 'T')\n"
     ]
    }
   ],
   "source": [
    "preds = predict(model, test_loader, test_ds, label_vocab)\n",
    "file_path = \"ernie_results.txt\"\n",
    "with open(file_path, \"w\", encoding=\"utf8\") as fout:\n",
    "    fout.write(\"\\n\".join(preds))\n",
    "# Print some examples\n",
    "print(\n",
    "    \"The results have been saved in the file: %s, some examples are shown below: \"\n",
    "    % file_path)\n",
    "print(\"\\n\".join(preds[:10]))"
   ]
  },
  {
   "cell_type": "markdown",
   "metadata": {
    "collapsed": false
   },
   "source": [
    "# 进一步使用CRF\n",
    "\n",
    "PaddleNLP提供了CRF Layer，它能够学习label之间的关系，能够帮助模型更好地学习、预测序列标注任务。\n",
    "\n",
    "我们在PaddleNLP仓库中提供了[示例](https://github.com/PaddlePaddle/PaddleNLP/blob/develop/examples/information_extraction/waybill_ie/run_ernie_crf.py)，您可以参照示例代码使用Ernie-CRF结构完成快递单信息抽取任务。"
   ]
  },
  {
   "cell_type": "markdown",
   "metadata": {
    "collapsed": false
   },
   "source": [
    "# 作业\n",
    "\n",
    "更换数据集MSRA和ERNIE-Gram或BERT等预训练模型。\n",
    "\n",
    "- 数据集：\n",
    "`train_ds, test_ds = load_dataset(\n",
    "    \"msra_ner\", splits=[\"train\", \"test\"])`\n",
    "- 模型：\n",
    "\t将`from paddlenlp.transformers import ErnieTokenizer, ErnieForTokenClassification`换成相应的模型。"
   ]
  },
  {
   "cell_type": "markdown",
   "metadata": {
    "collapsed": false
   },
   "source": [
    "# 加入交流群，一起学习吧\n",
    "\n",
    "现在就加入课程QQ交流群，一起交流NLP技术吧！\n",
    "\n",
    "<img src=\"https://ai-studio-static-online.cdn.bcebos.com/d953727af0c24a7c806ab529495f0904f22f809961be420b8c88cdf59b837394\" width=\"200\" height=\"250\" >"
   ]
  }
 ],
 "metadata": {
  "kernelspec": {
   "display_name": "PaddlePaddle 2.1.0 (Python 3.5)",
   "language": "python",
   "name": "py35-paddle1.2.0"
  },
  "language_info": {
   "codemirror_mode": {
    "name": "ipython",
    "version": 3
   },
   "file_extension": ".py",
   "mimetype": "text/x-python",
   "name": "python",
   "nbconvert_exporter": "python",
   "pygments_lexer": "ipython3",
   "version": "3.7.4"
  }
 },
 "nbformat": 4,
 "nbformat_minor": 1
}
