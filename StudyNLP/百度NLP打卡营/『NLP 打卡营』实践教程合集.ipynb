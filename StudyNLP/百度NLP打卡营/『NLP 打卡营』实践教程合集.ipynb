{
 "cells": [
  {
   "cell_type": "markdown",
   "metadata": {
    "collapsed": false
   },
   "source": [
    "\n",
    "## 【NLP 12日打卡营】课程项目合集\n",
    "\n",
    "本项目中集合了12天所有课程安排及课程中所涉及到的实践项目，欢迎大家按需自取，有任何问题来评论区或**QQ群**（群号:618354318）交流吧~~\n",
    "\n",
    "**[直播链接请戳这里，每晚20:00-21:30👈](http://live.bilibili.com/21689802)**\n",
    "\n",
    "**[课程地址请戳这里👈](https://aistudio.baidu.com/aistudio/course/introduce/24177)**\n",
    "\n",
    "\n",
    "<center><img src=\"https://ai-studio-static-online.cdn.bcebos.com/c11b5d27ab4e42a5840eaee07cc30354c8fdf3ae95b34ea0a48f6e6d3cc662cc\"  width=\"650\" height=\"400\"  ></center>\n"
   ]
  },
  {
   "cell_type": "markdown",
   "metadata": {
    "collapsed": false
   },
   "source": [
    "\n",
    "\n",
    "### 课程安排\n",
    "\n",
    "**[直播链接请戳这里，每晚20:00-21:30👈](http://live.bilibili.com/21689802)**\n",
    "\n",
    "**[课程地址请戳这里👈](https://aistudio.baidu.com/aistudio/course/introduce/24177)**\n",
    "\n",
    "**6月7日  20:30-21:30  导论: 走进自然语言处理** \n",
    "\n",
    "**6月8日  20:30-21:30   Day1 前预训练时代的自监督学习**\n",
    "* 实践项目：词向量应用演示\n",
    "\n",
    "**6月9日  20:30-21:30   Day2 预训练语言模型及应用**\n",
    "* 实践项目：文本语义相似度计算\n",
    "\n",
    "**6月10日  20:30-21:30   Day3 词法分析技术及应用**\n",
    "* 实践项目：快递单信息识别\n",
    "\n",
    "**6月11日  20:30-21:30   Day4 信息抽取技术及应用**\n",
    "* 实践项目：实体关系抽取\n",
    "\n",
    "**6月15日  20:30-21:30   Day5 情感分析技术及应用**\n",
    "* 实践项目：文本情感分析\n",
    "\n",
    "**6月16日  20:30-21:30   Day6 检索式文本问答**\n",
    "* 实践项目：机器阅读理解\n",
    "\n",
    "**6月17日  20:30-21:30   Day7 结构化数据问答**\n",
    "* 实践项目：结构化数据问答\n",
    "\n",
    "**6月18日  20:30-21:30   Day8 文本翻译技术及应用**\n",
    "* 实践项目：中英文本翻译系统\n",
    "\n",
    "**6月21日  20:30-21:30   Day9 机器同传技术及应用**\n",
    "* 实践项目：动手搭建轻量级机器同传翻译系统\n",
    "\n",
    "**6月22日 20:30-21:30  Day10 任务式对话系统**\n",
    "* 实践项目：对话意图识别\n",
    "\n",
    "**6月23日 20:30-21:30  Day11 开放域对话系统**\n",
    "* 实践项目：动手搭建中文闲聊机器人\n",
    "\n",
    "**6月24日 20:30-21:30  Day12 预训练模型产业实践课**\n",
    "* 实践项目：预训练模型小型化与部署实践\n",
    "\n",
    "**6月25日 20:30-21:30  结业颁奖与开放题指导**\n",
    "\n",
    "**7月26日 20:30-21:30  开放题揭榜与学员分享**\n",
    "\n",
    "### Bonus！！课程作业在自己的GitHub上进行提交即可获得10分加分，如质量特别高，可直接评为优秀！！\n",
    "\n",
    "### [🥳🥳🥳GitHub作业提交指南请戳这里👈](https://github.com/PaddlePaddle/PaddleGAN/blob/develop/education/README.md#github%E6%8F%90%E4%BA%A4%E4%BD%9C%E4%B8%9A%E6%8C%87%E5%8D%97)**\n",
    "\n",
    "\n",
    "注意所有课程的回放链接、作业链接在[加入课程](https://aistudio.baidu.com/aistudio/course/introduce/24177)后，或点击[PaddleNLP GitHub教育主页](https://github.com/PaddlePaddle/PaddleNLP/tree/develop/education)均可获得！\n",
    "记得点个Star收藏噢⭐\n",
    "![](https://ai-studio-static-online.cdn.bcebos.com/f3ae7cbcd38d494991f7a62d95dd6693dd6bb21e060b4a009f533ac3e8240ab3)\n",
    "\n"
   ]
  },
  {
   "cell_type": "markdown",
   "metadata": {
    "collapsed": false
   },
   "source": [
    "### Day1 词向量应用演示（6.8）\n",
    "项目介绍：\n",
    "项目链接：[https://aistudio.baidu.com/aistudio/projectdetail/1535355](https://aistudio.baidu.com/aistudio/projectdetail/1535355)\n",
    "\n",
    "### Day2 文本语义相似度计算（6.9）\n",
    "项目介绍\n",
    "项目链接：[https://aistudio.baidu.com/aistudio/projectdetail/2029701](https://aistudio.baidu.com/aistudio/projectdetail/2029701)\n",
    "\n",
    "### Day3 快递单信息识别（6.10）\n",
    "项目介绍\n",
    "项目链接：[https://aistudio.baidu.com/aistudio/projectdetail/1329361](https://aistudio.baidu.com/aistudio/projectdetail/1329361)\n",
    "\n",
    "### Day4 实体关系抽取（6.11）\n",
    "\n",
    "项目链接：[https://aistudio.baidu.com/aistudio/projectdetail/1639963](https://aistudio.baidu.com/aistudio/projectdetail/1639963)\n",
    "\n",
    "### Day5 文本情感分析（6.15）\n",
    "\n",
    "项目链接：[https://aistudio.baidu.com/aistudio/projectdetail/1968542](https://aistudio.baidu.com/aistudio/projectdetail/1968542)\n",
    "\n",
    "### Day6 机器阅读理解（6.16）\n",
    "项目链接：[https://aistudio.baidu.com/aistudio/projectdetail/2017189](https://aistudio.baidu.com/aistudio/projectdetail/2017189)\n",
    "\n",
    "### Day7 结构化数据问答（6.17）\n",
    "无coding，有其他动手体验，猜猜是什么❓\n",
    "\n",
    "### Day8 中英文本翻译系统（6.18）\n",
    "项目链接：[https://aistudio.baidu.com/aistudio/projectdetail/1918692](https://aistudio.baidu.com/aistudio/projectdetail/1918692)\n",
    "\n",
    "### Day9  动手搭建轻量级机器同传翻译系统（6.21）\n",
    "项目链接：[https://aistudio.baidu.com/aistudio/projectdetail/1926754](https://aistudio.baidu.com/aistudio/projectdetail/1926754)\n",
    "\n",
    "### Day10 对话意图识别（6.22）\n",
    "项目链接：[https://aistudio.baidu.com/aistudio/projectdetail/2017202](https://aistudio.baidu.com/aistudio/projectdetail/2017202)\n",
    "\n",
    "### Day11 动手搭建中文闲聊机器人（6.23）\n",
    "项目链接：[https://aistudio.baidu.com/aistudio/projectdetail/2017173](https://aistudio.baidu.com/aistudio/projectdetail/2017173)\n",
    "\n",
    "### Day12 预训练模型小型化与部署实战（6.24）   \n",
    "项目链接：[https://aistudio.baidu.com/aistudio/projectdetail/2114383](https://aistudio.baidu.com/aistudio/projectdetail/2114383)\n"
   ]
  },
  {
   "cell_type": "markdown",
   "metadata": {
    "collapsed": false
   },
   "source": [
    "### 最后\n",
    "**提醒：所有的课程资料会整理到[PaddleNLP GitHub教育主页](https://github.com/PaddlePaddle/PaddleNLP/tree/develop/education)！推荐收藏（点star）及时关注更新详情**\n",
    "\n",
    "还未加入课程的小伙伴们抓紧时间啦🤩\n",
    "\n",
    "课程地址请戳这里[https://aistudio.baidu.com/aistudio/course/introduce/24177](https://aistudio.baidu.com/aistudio/course/introduce/24177)👈\n",
    "\n",
    "直播链接请戳这里[http://live.bilibili.com/21689802](http://live.bilibili.com/21689802)👈\n",
    "\n"
   ]
  },
  {
   "cell_type": "markdown",
   "metadata": {
    "collapsed": false
   },
   "source": [
    "可加入**QQ**群与大家一起讨论，助教和讲师帮你答疑解惑❤️\n",
    "\n",
    "<center><img src=\"https://ai-studio-static-online.cdn.bcebos.com/4c95ce167434419e8a4352fa1d0b9cc055744b0cacf24affb42b098d8b35e9b6\"  width=\"350\" height=\"400\"  ></center>"
   ]
  }
 ],
 "metadata": {
  "kernelspec": {
   "display_name": "PaddlePaddle 2.1.0 (Python 3.5)",
   "language": "python",
   "name": "py35-paddle1.2.0"
  },
  "language_info": {
   "codemirror_mode": {
    "name": "ipython",
    "version": 3
   },
   "file_extension": ".py",
   "mimetype": "text/x-python",
   "name": "python",
   "nbconvert_exporter": "python",
   "pygments_lexer": "ipython3",
   "version": "3.7.4"
  }
 },
 "nbformat": 4,
 "nbformat_minor": 1
}
