{
 "cells": [
  {
   "cell_type": "markdown",
   "metadata": {
    "collapsed": false
   },
   "source": [
    "Hi 大家好,本次课程基于AI Studio平台进行，请各位同学先熟悉下Notebook基本操作～\n",
    "\n",
    "如遇问题请查阅以下文档或在课程QQ群（群号618354318）中提问～\n",
    "![](https://ai-studio-static-online.cdn.bcebos.com/6e998a2cea474b638559f3a1a85ea9f93aef571570894d88babacce0a50220c0)）\n",
    "\n"
   ]
  },
  {
   "cell_type": "markdown",
   "metadata": {
    "collapsed": false
   },
   "source": [
    "# 项目启停\n",
    "\n",
    "当进入自己项目的详情页面时, 用户可以选择\"运行\"项目, 也就是准备项目环境. \n",
    "\n",
    "同样的, 当不想继续时, 可以此页面点击\"停止\"以终止项目. \n",
    "\n",
    "![](https://ai-studio-static-online.cdn.bcebos.com/897ace5ff04b49f8896db4e742f61c207e0bd990722640438df5eb75fcb7c264)\n",
    "\n",
    "---\n",
    "\n",
    "当启动项目时, 如个人信息完整, 则可以获得算力奖励\n",
    "\n",
    "![](https://ai-studio-static-online.cdn.bcebos.com/78ce19b45dea432ea08d34b2f69474972fb357b16dc2476384499a63e8e9b5e8)\n",
    "\n",
    "\n",
    "---\n",
    "主动填写个人信息的入口在右上角的个人中心里\n",
    "\n",
    "![](https://ai-studio-static-online.cdn.bcebos.com/fb558d5a532f4c28bbe33fe376c8a2af330ed7437b9542e8ab83c8dc66fb22a7)\n",
    "\n",
    "\n"
   ]
  },
  {
   "cell_type": "markdown",
   "metadata": {
    "collapsed": false
   },
   "source": [
    "# 执行和调试\n",
    "\n",
    "基于Notebook的方案和传统IDE方案略有不同, 请见下图:\n",
    "![](https://ai-studio-static-online.cdn.bcebos.com/136c52a305814e20a6f026722f080051d219b216e005432c9a9ac73e079ddbb8)\n",
    "\n",
    "插入断点则需要使用Python自带Debugger: PDB.\n",
    "用法请点击这里: \n",
    "[PDB用法](https://aistudio.baidu.com/aistudio/projectdetail/69987)\n"
   ]
  },
  {
   "cell_type": "markdown",
   "metadata": {
    "collapsed": false
   },
   "source": [
    "# 多文件代码编辑\n",
    "\n",
    "本系统的Notebook支持多文件编辑, 支持.py, .json, .txt, .log等格式的在线编辑, 支持部分图片类型文件的在线预览. \n",
    "\n",
    "![](https://ai-studio-static-online.cdn.bcebos.com/222e72279ad74d1c81fdd250ec61664de4297161cac540e686fae4db2ac942c2)\n",
    "\n",
    "\n",
    "**上传文件的体积是30MB. 如果需要引用更大体积的文件, 请使用数据集功能**. \n",
    "\n",
    "用户也可以使用命令, `!cat <<newfile > newfile.py` 在项目空间内直接创建文件, 之后双击进行编辑. 如下图所示:\n",
    "\n",
    "![](https://ai-studio-static-online.cdn.bcebos.com/6bb509c98c5d4b37859e3fb06287e1e01e04c670f6604de6b2e405ac9e57344a)"
   ]
  },
  {
   "cell_type": "markdown",
   "metadata": {
    "collapsed": false
   },
   "source": [
    "# 上传Notebook\n",
    "\n",
    "可以用自己的ipynb文件取代当前默认的Notebook(前提是格式合法)\n",
    "\n",
    "![](https://ai-studio-static-online.cdn.bcebos.com/1c4d746dc96642abac50590eb21e8783688d04c6b07347079a1a5e1887093a76)"
   ]
  },
  {
   "cell_type": "markdown",
   "metadata": {
    "collapsed": false
   },
   "source": [
    "# Notebook快捷键\n",
    "\n",
    "\n",
    "和原生Notebook快捷键基本一致. \n",
    "\n",
    "快捷键分成两种状态下的. 一个是命令模式, 一个是编辑模式, 掌握之后事半功倍. \n",
    "\n",
    "![](https://ai-studio-static-online.cdn.bcebos.com/3a9f826518cb42e89965641e4eea9a289dbcce74862e4335ba8738d978e37fc2)\n",
    "\n",
    "![](https://ai-studio-static-online.cdn.bcebos.com/968cf800086a47129fdda653891c170a1c9b1248296747aeaa766bb5cef2932c)\n",
    "\n",
    "\n",
    "---\n"
   ]
  },
  {
   "cell_type": "markdown",
   "metadata": {
    "collapsed": false
   },
   "source": [
    "#  **Notebook中使用Shell命令**\n",
    "\n",
    "通过在Shell命令前添加! (感叹号), 就可以执行部分Shell命令. 包括诸如 !pip install这样的命令. \n",
    "不过, !apt-get这种可能引发用户进一步操作的命令是不支持的. \n",
    "\n",
    "下面是两个示例."
   ]
  },
  {
   "cell_type": "code",
   "execution_count": 42,
   "metadata": {
    "collapsed": false
   },
   "outputs": [],
   "source": [
    "# 查看当前挂载的数据集目录\n",
    "!ls /home/aistudio/data/"
   ]
  },
  {
   "cell_type": "code",
   "execution_count": 43,
   "metadata": {
    "collapsed": false
   },
   "outputs": [
    {
     "name": "stdout",
     "output_type": "stream",
     "text": [
      "/home/aistudio/work\r\n"
     ]
    }
   ],
   "source": [
    "#显示当前路径\n",
    "\n",
    "!pwd"
   ]
  },
  {
   "cell_type": "markdown",
   "metadata": {
    "collapsed": false
   },
   "source": [
    "---\n",
    "\n",
    "### 使用pip来安装自己需要的package (但不支持apt-get)\n",
    "\n",
    "例如: \n"
   ]
  },
  {
   "cell_type": "code",
   "execution_count": 44,
   "metadata": {
    "collapsed": false
   },
   "outputs": [
    {
     "name": "stdout",
     "output_type": "stream",
     "text": [
      "Looking in indexes: https://mirror.baidu.com/pypi/simple/\n",
      "Requirement already satisfied: jupyterthemes in /opt/conda/envs/python35-paddle120-env/lib/python3.7/site-packages (0.20.0)\n",
      "Requirement already satisfied: ipython>=5.4.1 in /opt/conda/envs/python35-paddle120-env/lib/python3.7/site-packages (from jupyterthemes) (7.0.1)\n",
      "Requirement already satisfied: jupyter-core in /opt/conda/envs/python35-paddle120-env/lib/python3.7/site-packages (from jupyterthemes) (4.5.0)\n",
      "Requirement already satisfied: matplotlib>=1.4.3 in /opt/conda/envs/python35-paddle120-env/lib/python3.7/site-packages (from jupyterthemes) (2.2.3)\n",
      "Requirement already satisfied: lesscpy>=0.11.2 in /opt/conda/envs/python35-paddle120-env/lib/python3.7/site-packages (from jupyterthemes) (0.14.0)\n",
      "Requirement already satisfied: notebook>=5.6.0 in /opt/conda/envs/python35-paddle120-env/lib/python3.7/site-packages (from jupyterthemes) (5.7.0)\n",
      "Requirement already satisfied: setuptools>=18.5 in /opt/conda/envs/python35-paddle120-env/lib/python3.7/site-packages (from ipython>=5.4.1->jupyterthemes) (56.2.0)\n",
      "Requirement already satisfied: jedi>=0.10 in /opt/conda/envs/python35-paddle120-env/lib/python3.7/site-packages (from ipython>=5.4.1->jupyterthemes) (0.17.0)\n",
      "Requirement already satisfied: decorator in /opt/conda/envs/python35-paddle120-env/lib/python3.7/site-packages (from ipython>=5.4.1->jupyterthemes) (4.4.2)\n",
      "Requirement already satisfied: pickleshare in /opt/conda/envs/python35-paddle120-env/lib/python3.7/site-packages (from ipython>=5.4.1->jupyterthemes) (0.7.5)\n",
      "Requirement already satisfied: simplegeneric>0.8 in /opt/conda/envs/python35-paddle120-env/lib/python3.7/site-packages (from ipython>=5.4.1->jupyterthemes) (0.8.1)\n",
      "Requirement already satisfied: traitlets>=4.2 in /opt/conda/envs/python35-paddle120-env/lib/python3.7/site-packages (from ipython>=5.4.1->jupyterthemes) (4.3.3)\n",
      "Requirement already satisfied: prompt_toolkit<2.1.0,>=2.0.0 in /opt/conda/envs/python35-paddle120-env/lib/python3.7/site-packages (from ipython>=5.4.1->jupyterthemes) (2.0.10)\n",
      "Requirement already satisfied: pygments in /opt/conda/envs/python35-paddle120-env/lib/python3.7/site-packages (from ipython>=5.4.1->jupyterthemes) (2.4.2)\n",
      "Requirement already satisfied: backcall in /opt/conda/envs/python35-paddle120-env/lib/python3.7/site-packages (from ipython>=5.4.1->jupyterthemes) (0.1.0)\n",
      "Requirement already satisfied: pexpect in /opt/conda/envs/python35-paddle120-env/lib/python3.7/site-packages (from ipython>=5.4.1->jupyterthemes) (4.7.0)\n",
      "Requirement already satisfied: cycler>=0.10 in /opt/conda/envs/python35-paddle120-env/lib/python3.7/site-packages (from matplotlib>=1.4.3->jupyterthemes) (0.10.0)\n",
      "Requirement already satisfied: pytz in /opt/conda/envs/python35-paddle120-env/lib/python3.7/site-packages (from matplotlib>=1.4.3->jupyterthemes) (2019.3)\n",
      "Requirement already satisfied: kiwisolver>=1.0.1 in /opt/conda/envs/python35-paddle120-env/lib/python3.7/site-packages (from matplotlib>=1.4.3->jupyterthemes) (1.1.0)\n",
      "Requirement already satisfied: numpy>=1.7.1 in /opt/conda/envs/python35-paddle120-env/lib/python3.7/site-packages (from matplotlib>=1.4.3->jupyterthemes) (1.20.3)\n",
      "Requirement already satisfied: six>=1.10 in /opt/conda/envs/python35-paddle120-env/lib/python3.7/site-packages (from matplotlib>=1.4.3->jupyterthemes) (1.15.0)\n",
      "Requirement already satisfied: python-dateutil>=2.1 in /opt/conda/envs/python35-paddle120-env/lib/python3.7/site-packages (from matplotlib>=1.4.3->jupyterthemes) (2.8.0)\n",
      "Requirement already satisfied: pyparsing!=2.0.4,!=2.1.2,!=2.1.6,>=2.0.1 in /opt/conda/envs/python35-paddle120-env/lib/python3.7/site-packages (from matplotlib>=1.4.3->jupyterthemes) (2.4.2)\n",
      "Requirement already satisfied: ply in /opt/conda/envs/python35-paddle120-env/lib/python3.7/site-packages (from lesscpy>=0.11.2->jupyterthemes) (3.11)\n",
      "Requirement already satisfied: jinja2 in /opt/conda/envs/python35-paddle120-env/lib/python3.7/site-packages (from notebook>=5.6.0->jupyterthemes) (2.10.1)\n",
      "Requirement already satisfied: tornado>=4 in /opt/conda/envs/python35-paddle120-env/lib/python3.7/site-packages (from notebook>=5.6.0->jupyterthemes) (5.1.1)\n",
      "Requirement already satisfied: pyzmq>=17 in /opt/conda/envs/python35-paddle120-env/lib/python3.7/site-packages (from notebook>=5.6.0->jupyterthemes) (18.1.1)\n",
      "Requirement already satisfied: ipython_genutils in /opt/conda/envs/python35-paddle120-env/lib/python3.7/site-packages (from notebook>=5.6.0->jupyterthemes) (0.2.0)\n",
      "Requirement already satisfied: jupyter_client>=5.2.0 in /opt/conda/envs/python35-paddle120-env/lib/python3.7/site-packages (from notebook>=5.6.0->jupyterthemes) (5.3.3)\n",
      "Requirement already satisfied: nbformat in /opt/conda/envs/python35-paddle120-env/lib/python3.7/site-packages (from notebook>=5.6.0->jupyterthemes) (4.4.0)\n",
      "Requirement already satisfied: nbconvert in /opt/conda/envs/python35-paddle120-env/lib/python3.7/site-packages (from notebook>=5.6.0->jupyterthemes) (5.3.1)\n",
      "Requirement already satisfied: ipykernel in /opt/conda/envs/python35-paddle120-env/lib/python3.7/site-packages (from notebook>=5.6.0->jupyterthemes) (5.1.0)\n",
      "Requirement already satisfied: Send2Trash in /opt/conda/envs/python35-paddle120-env/lib/python3.7/site-packages (from notebook>=5.6.0->jupyterthemes) (1.5.0)\n",
      "Requirement already satisfied: terminado>=0.8.1 in /opt/conda/envs/python35-paddle120-env/lib/python3.7/site-packages (from notebook>=5.6.0->jupyterthemes) (0.8.2)\n",
      "Requirement already satisfied: prometheus_client in /opt/conda/envs/python35-paddle120-env/lib/python3.7/site-packages (from notebook>=5.6.0->jupyterthemes) (0.5.0)\n",
      "Requirement already satisfied: parso>=0.7.0 in /opt/conda/envs/python35-paddle120-env/lib/python3.7/site-packages (from jedi>=0.10->ipython>=5.4.1->jupyterthemes) (0.7.0)\n",
      "Requirement already satisfied: wcwidth in /opt/conda/envs/python35-paddle120-env/lib/python3.7/site-packages (from prompt_toolkit<2.1.0,>=2.0.0->ipython>=5.4.1->jupyterthemes) (0.1.7)\n",
      "Requirement already satisfied: ptyprocess>=0.5 in /opt/conda/envs/python35-paddle120-env/lib/python3.7/site-packages (from pexpect->ipython>=5.4.1->jupyterthemes) (0.6.0)\n",
      "Requirement already satisfied: MarkupSafe>=0.23 in /opt/conda/envs/python35-paddle120-env/lib/python3.7/site-packages (from jinja2->notebook>=5.6.0->jupyterthemes) (1.1.1)\n",
      "Requirement already satisfied: jsonschema!=2.5.0,>=2.4 in /opt/conda/envs/python35-paddle120-env/lib/python3.7/site-packages (from nbformat->notebook>=5.6.0->jupyterthemes) (3.1.1)\n",
      "Requirement already satisfied: mistune>=0.7.4 in /opt/conda/envs/python35-paddle120-env/lib/python3.7/site-packages (from nbconvert->notebook>=5.6.0->jupyterthemes) (0.8.4)\n",
      "Requirement already satisfied: pandocfilters>=1.4.1 in /opt/conda/envs/python35-paddle120-env/lib/python3.7/site-packages (from nbconvert->notebook>=5.6.0->jupyterthemes) (1.4.2)\n",
      "Requirement already satisfied: bleach in /opt/conda/envs/python35-paddle120-env/lib/python3.7/site-packages (from nbconvert->notebook>=5.6.0->jupyterthemes) (3.1.0)\n",
      "Requirement already satisfied: testpath in /opt/conda/envs/python35-paddle120-env/lib/python3.7/site-packages (from nbconvert->notebook>=5.6.0->jupyterthemes) (0.4.2)\n",
      "Requirement already satisfied: entrypoints>=0.2.2 in /opt/conda/envs/python35-paddle120-env/lib/python3.7/site-packages (from nbconvert->notebook>=5.6.0->jupyterthemes) (0.3)\n",
      "Requirement already satisfied: pyrsistent>=0.14.0 in /opt/conda/envs/python35-paddle120-env/lib/python3.7/site-packages (from jsonschema!=2.5.0,>=2.4->nbformat->notebook>=5.6.0->jupyterthemes) (0.15.4)\n",
      "Requirement already satisfied: attrs>=17.4.0 in /opt/conda/envs/python35-paddle120-env/lib/python3.7/site-packages (from jsonschema!=2.5.0,>=2.4->nbformat->notebook>=5.6.0->jupyterthemes) (19.2.0)\n",
      "Requirement already satisfied: importlib-metadata in /opt/conda/envs/python35-paddle120-env/lib/python3.7/site-packages (from jsonschema!=2.5.0,>=2.4->nbformat->notebook>=5.6.0->jupyterthemes) (0.23)\n",
      "Requirement already satisfied: webencodings in /opt/conda/envs/python35-paddle120-env/lib/python3.7/site-packages (from bleach->nbconvert->notebook>=5.6.0->jupyterthemes) (0.5.1)\n",
      "Requirement already satisfied: zipp>=0.5 in /opt/conda/envs/python35-paddle120-env/lib/python3.7/site-packages (from importlib-metadata->jsonschema!=2.5.0,>=2.4->nbformat->notebook>=5.6.0->jupyterthemes) (0.6.0)\n",
      "Requirement already satisfied: more-itertools in /opt/conda/envs/python35-paddle120-env/lib/python3.7/site-packages (from zipp>=0.5->importlib-metadata->jsonschema!=2.5.0,>=2.4->nbformat->notebook>=5.6.0->jupyterthemes) (7.2.0)\n"
     ]
    }
   ],
   "source": [
    "!pip install jupyterthemes"
   ]
  },
  {
   "cell_type": "markdown",
   "metadata": {
    "collapsed": false
   },
   "source": [
    "---\n",
    "### 查看当前环境中安装的package"
   ]
  },
  {
   "cell_type": "code",
   "execution_count": 45,
   "metadata": {
    "collapsed": false
   },
   "outputs": [
    {
     "name": "stdout",
     "output_type": "stream",
     "text": [
      "Package                Version        \r\n",
      "---------------------- ---------------\r\n",
      "absl-py                0.8.1          \r\n",
      "aspy.yaml              1.3.0          \r\n",
      "astor                  0.8.1          \r\n",
      "astroid                2.4.1          \r\n",
      "attrs                  19.2.0         \r\n",
      "audioread              2.1.8          \r\n",
      "autopep8               1.5.3          \r\n",
      "Babel                  2.8.0          \r\n",
      "backcall               0.1.0          \r\n",
      "bce-python-sdk         0.8.53         \r\n",
      "blackhole              1.0.1          \r\n",
      "bleach                 3.1.0          \r\n",
      "cachetools             4.0.0          \r\n",
      "certifi                2019.9.11      \r\n",
      "cffi                   1.14.0         \r\n",
      "cfgv                   2.0.1          \r\n",
      "chardet                3.0.4          \r\n",
      "Click                  7.0            \r\n",
      "cloudpickle            1.6.0          \r\n",
      "cma                    2.7.0          \r\n",
      "colorama               0.4.4          \r\n",
      "colorlog               4.1.0          \r\n",
      "cycler                 0.10.0         \r\n",
      "Cython                 0.29           \r\n",
      "decorator              4.4.2          \r\n",
      "dill                   0.3.3          \r\n",
      "easydict               1.9            \r\n",
      "entrypoints            0.3            \r\n",
      "et-xmlfile             1.0.1          \r\n",
      "filelock               3.0.12         \r\n",
      "flake8                 3.8.2          \r\n",
      "Flask                  1.1.1          \r\n",
      "Flask-Babel            1.0.0          \r\n",
      "Flask-Cors             3.0.8          \r\n",
      "forbiddenfruit         0.1.3          \r\n",
      "funcsigs               1.0.2          \r\n",
      "future                 0.18.0         \r\n",
      "gast                   0.3.3          \r\n",
      "gitdb                  4.0.5          \r\n",
      "GitPython              3.1.14         \r\n",
      "google-auth            1.10.0         \r\n",
      "google-auth-oauthlib   0.4.1          \r\n",
      "graphviz               0.13           \r\n",
      "grpcio                 1.35.0         \r\n",
      "gunicorn               20.0.4         \r\n",
      "gym                    0.12.1         \r\n",
      "h5py                   2.9.0          \r\n",
      "identify               1.4.10         \r\n",
      "idna                   2.8            \r\n",
      "imageio                2.6.1          \r\n",
      "imageio-ffmpeg         0.3.0          \r\n",
      "importlib-metadata     0.23           \r\n",
      "ipykernel              5.1.0          \r\n",
      "ipython                7.0.1          \r\n",
      "ipython-genutils       0.2.0          \r\n",
      "isort                  4.3.21         \r\n",
      "itsdangerous           1.1.0          \r\n",
      "jdcal                  1.4.1          \r\n",
      "jedi                   0.17.0         \r\n",
      "jieba                  0.42.1         \r\n",
      "Jinja2                 2.10.1         \r\n",
      "joblib                 0.14.1         \r\n",
      "JPype1                 0.7.2          \r\n",
      "json5                  0.9.5          \r\n",
      "jsonschema             3.1.1          \r\n",
      "jupyter-client         5.3.3          \r\n",
      "jupyter-core           4.5.0          \r\n",
      "jupyter-lsp            0.8.0          \r\n",
      "jupyterlab             2.1.3          \r\n",
      "jupyterlab-server      1.1.5          \r\n",
      "jupyterthemes          0.20.0         \r\n",
      "kiwisolver             1.1.0          \r\n",
      "lazy-object-proxy      1.4.3          \r\n",
      "lesscpy                0.14.0         \r\n",
      "librosa                0.7.2          \r\n",
      "lightgbm               3.1.1          \r\n",
      "llvmlite               0.31.0         \r\n",
      "Markdown               3.1.1          \r\n",
      "MarkupSafe             1.1.1          \r\n",
      "matplotlib             2.2.3          \r\n",
      "mccabe                 0.6.1          \r\n",
      "mistune                0.8.4          \r\n",
      "more-itertools         7.2.0          \r\n",
      "moviepy                1.0.1          \r\n",
      "nbconvert              5.3.1          \r\n",
      "nbformat               4.4.0          \r\n",
      "netifaces              0.10.9         \r\n",
      "networkx               2.4            \r\n",
      "nltk                   3.4.5          \r\n",
      "nodeenv                1.3.4          \r\n",
      "notebook               5.7.0          \r\n",
      "numba                  0.48.0         \r\n",
      "numpy                  1.20.3         \r\n",
      "oauthlib               3.1.0          \r\n",
      "objgraph               3.4.1          \r\n",
      "opencv-python          4.1.1.26       \r\n",
      "openpyxl               3.0.5          \r\n",
      "packaging              20.9           \r\n",
      "paddlehub              2.0.4          \r\n",
      "paddlenlp              2.0.0rc7       \r\n",
      "paddlepaddle-gpu       2.1.0.post101  \r\n",
      "pandas                 1.1.5          \r\n",
      "pandocfilters          1.4.2          \r\n",
      "parl                   1.4.1          \r\n",
      "parso                  0.7.0          \r\n",
      "pathlib                1.0.1          \r\n",
      "pexpect                4.7.0          \r\n",
      "pickleshare            0.7.5          \r\n",
      "Pillow                 7.1.2          \r\n",
      "pip                    19.2.3         \r\n",
      "pluggy                 0.13.1         \r\n",
      "ply                    3.11           \r\n",
      "pre-commit             1.21.0         \r\n",
      "prettytable            0.7.2          \r\n",
      "proglog                0.1.9          \r\n",
      "prometheus-client      0.5.0          \r\n",
      "prompt-toolkit         2.0.10         \r\n",
      "protobuf               3.14.0         \r\n",
      "psutil                 5.7.2          \r\n",
      "ptyprocess             0.6.0          \r\n",
      "py4j                   0.10.9.2       \r\n",
      "pyarrow                2.0.0          \r\n",
      "pyasn1                 0.4.8          \r\n",
      "pyasn1-modules         0.2.7          \r\n",
      "pycodestyle            2.6.0          \r\n",
      "pycparser              2.19           \r\n",
      "pycryptodome           3.9.9          \r\n",
      "pydataset              0.2.0          \r\n",
      "pydocstyle             5.0.2          \r\n",
      "pyflakes               2.2.0          \r\n",
      "pyglet                 1.4.5          \r\n",
      "Pygments               2.4.2          \r\n",
      "pylint                 2.5.2          \r\n",
      "pynvml                 8.0.4          \r\n",
      "pyparsing              2.4.2          \r\n",
      "pypmml                 0.9.11         \r\n",
      "pyrsistent             0.15.4         \r\n",
      "python-dateutil        2.8.0          \r\n",
      "python-jsonrpc-server  0.3.4          \r\n",
      "python-language-server 0.33.0         \r\n",
      "pytz                   2019.3         \r\n",
      "PyYAML                 5.1.2          \r\n",
      "pyzmq                  18.1.1         \r\n",
      "rarfile                3.1            \r\n",
      "recordio               0.1.7          \r\n",
      "requests               2.22.0         \r\n",
      "requests-oauthlib      1.3.0          \r\n",
      "resampy                0.2.2          \r\n",
      "rope                   0.17.0         \r\n",
      "rsa                    4.0            \r\n",
      "scikit-learn           0.24.2         \r\n",
      "scipy                  1.6.3          \r\n",
      "seaborn                0.10.0         \r\n",
      "Send2Trash             1.5.0          \r\n",
      "sentencepiece          0.1.85         \r\n",
      "seqeval                1.2.2          \r\n",
      "setuptools             56.2.0         \r\n",
      "shellcheck-py          0.7.1.1        \r\n",
      "simplegeneric          0.8.1          \r\n",
      "six                    1.15.0         \r\n",
      "sklearn                0.0            \r\n",
      "smmap                  3.0.5          \r\n",
      "snowballstemmer        2.0.0          \r\n",
      "SoundFile              0.10.3.post1   \r\n",
      "tabulate               0.8.3          \r\n",
      "tb-nightly             1.15.0a20190801\r\n",
      "tb-paddle              0.3.6          \r\n",
      "tensorboard            2.1.0          \r\n",
      "tensorboardX           1.8            \r\n",
      "termcolor              1.1.0          \r\n",
      "terminado              0.8.2          \r\n",
      "testpath               0.4.2          \r\n",
      "threadpoolctl          2.1.0          \r\n",
      "toml                   0.10.0         \r\n",
      "tornado                5.1.1          \r\n",
      "tqdm                   4.36.1         \r\n",
      "traitlets              4.3.3          \r\n",
      "typed-ast              1.4.1          \r\n",
      "ujson                  1.35           \r\n",
      "urllib3                1.25.6         \r\n",
      "virtualenv             16.7.9         \r\n",
      "visualdl               2.1.1          \r\n",
      "wcwidth                0.1.7          \r\n",
      "webencodings           0.5.1          \r\n",
      "Werkzeug               0.16.0         \r\n",
      "wheel                  0.36.2         \r\n",
      "wrapt                  1.12.1         \r\n",
      "xarray                 0.16.2         \r\n",
      "xgboost                1.3.3          \r\n",
      "xlrd                   1.2.0          \r\n",
      "yapf                   0.26.0         \r\n",
      "zipp                   0.6.0          \r\n"
     ]
    }
   ],
   "source": [
    "!pip list --format=columns"
   ]
  },
  {
   "cell_type": "markdown",
   "metadata": {
    "collapsed": false
   },
   "source": [
    "## 持久化安装\n",
    "\n",
    "如果需要进行持久化安装, 需要使用持久化路径, 如下方代码示例:\n",
    "```\n",
    "!mkdir /home/aistudio/external-libraries\n",
    "!pip install beautifulsoup4 -t /home/aistudio/external-libraries\n",
    "```\n",
    "\n",
    "同时添加如下代码, 这样每次环境(kernel)启动的时候只要运行下方代码即可:\n",
    "```\n",
    "import sys\n",
    "sys.path.append('/home/aistudio/external-libraries')\n",
    "```"
   ]
  },
  {
   "cell_type": "markdown",
   "metadata": {
    "collapsed": false
   },
   "source": [
    "---\n",
    "\n",
    "### 使用git命令来同步代码 \n",
    "\n",
    "例如: \n"
   ]
  },
  {
   "cell_type": "code",
   "execution_count": 46,
   "metadata": {
    "collapsed": false
   },
   "outputs": [
    {
     "name": "stdout",
     "output_type": "stream",
     "text": [
      "[Errno 2] No such file or directory: 'work/'\n",
      "/home/aistudio/work\n"
     ]
    }
   ],
   "source": [
    "%cd work/\n"
   ]
  },
  {
   "cell_type": "code",
   "execution_count": 47,
   "metadata": {
    "collapsed": false
   },
   "outputs": [
    {
     "name": "stdout",
     "output_type": "stream",
     "text": [
      "fatal: destination path 'Paddle' already exists and is not an empty directory.\n",
      "Cloning into 'PaddleNLP'...\n",
      "fatal: unable to access 'https://github.com/PaddlePaddle/PaddleNLP.git/': gnutls_handshake() failed: Error in the pull function.\n"
     ]
    }
   ],
   "source": [
    "!git clone https://github.com/PaddlePaddle/Paddle.git\n",
    "!git clone https://github.com/PaddlePaddle/PaddleNLP.git"
   ]
  },
  {
   "cell_type": "markdown",
   "metadata": {
    "collapsed": false
   },
   "source": [
    "可以看到同步后work目录下出现一个Models文件夹\n",
    "\n",
    "![](https://ai-studio-static-online.cdn.bcebos.com/fd9217b5f6e74885b2dca27ac6cfb564f3165a5c181f4205a183ce63d7689eb2)"
   ]
  },
  {
   "cell_type": "markdown",
   "metadata": {
    "collapsed": false
   },
   "source": [
    "\n",
    "也可以活用Git命令进行本地代码管理. \n",
    "\n",
    "> 注意: Paddle的Git体积过大, 同步会非常迟缓. 建议使用浏览器插件, 对指定目录进行下载, 然后上传至AI Studio的项目空间中. [Chrome版](https://chrome.google.com/webstore/detail/gitzip-for-github/ffabmkklhbepgcgfonabamgnfafbdlkn)\n"
   ]
  },
  {
   "cell_type": "markdown",
   "metadata": {
    "collapsed": false
   },
   "source": [
    "---\n",
    "## 文件下载\n",
    "\n",
    "文件下载分为\"文件夹打包下载\"和\"单一文件下载\", 两者操作按钮在同一位置:\n",
    "\n",
    "![](https://ai-studio-static-online.cdn.bcebos.com/c95f71b5d89140dc8ce3eac0951fb2a467aa844c070642f5bf2d6a1311ae140c)\n",
    "\n",
    "但文件夹下载可能耗时比较久, 每次只能下载一个文件夹内容, 也可能需要较长时间等待. "
   ]
  },
  {
   "cell_type": "markdown",
   "metadata": {
    "collapsed": false
   },
   "source": [
    "# Python代码执行与调试\n",
    "\n",
    "Notebook执行Python代码的原理和传统IDE略有不同. \n",
    "\n",
    "1. 传统IDE, 当点击Run按钮时, 编译器/解释器开始构建一个进程. 用户通过单步执行/设置断点进行代码调试和变量监控. 当代码出错, 或用户点击Stop按钮时, 进程被杀死, 资源回收. \n",
    "\n",
    "而Notebook, 一旦启动, 就是开始创建一个\"进程\"(kernel). 每一个Cell, 都是一个天然的断点. 当代码出错, 或用户点击Stop按钮时, \"进程\"通常也不会被杀死. \n",
    "\n",
    "因此如果代码陷入死循环等情况, 需要用户手动关闭并重启该\"进程\". \n",
    "\n",
    "2. 此外, Notebook的Cell是可以随意颠倒顺序来执行的. 这点和传统IDE有很大不同. \n",
    "\n",
    "3. 作为前端的Notebook, 与后端的进程(kernel), 建立有一个Session. 未来本平台将支持terminal功能. 也就可以同时支持多个Session来控制kernel.\n"
   ]
  },
  {
   "cell_type": "markdown",
   "metadata": {
    "collapsed": false
   },
   "source": [
    "# 变量监控\n",
    "\n",
    "因为Notebook的Cell是可以随意颠倒顺序来执行的, 因此本平台自带\"变量监控\"和\"运行历史\". 方便用户了解当前代码运行状态. \n",
    "\n",
    "通过重启环境并清空输出, 可以消除已生成的变量监控. \n",
    "\n",
    "![](https://ai-studio-static-online.cdn.bcebos.com/151f04fbb75d469f9456b80b820b9f700765dfa5816f40a49a05a29643add7bb)"
   ]
  },
  {
   "cell_type": "markdown",
   "metadata": {
    "collapsed": false
   },
   "source": [
    "---\n",
    "\n",
    "## 2. **Magic命令**\n",
    "\n",
    "Magic命令是Notebook的高级用法了. 可以运行一些特殊的指令. Magic 命令的前面带有一个或两个百分号（% 或 %%），分别代表行 Magic 命令和单元格 Magic 命令。行 Magic 命令仅应用于编写 Magic 命令时所在的行，而单元格 Magic 命令应用于整个单元格。\n",
    "\n",
    "举个例子:\n"
   ]
  },
  {
   "cell_type": "code",
   "execution_count": 48,
   "metadata": {
    "collapsed": false
   },
   "outputs": [
    {
     "data": {
      "text/plain": [
       "Available line magics:\n",
       "%alias  %alias_magic  %autoawait  %autocall  %automagic  %autosave  %bookmark  %cat  %cd  %clear  %colors  %config  %connect_info  %cp  %debug  %dhist  %dirs  %doctest_mode  %ed  %edit  %env  %gui  %hist  %history  %killbgscripts  %ldir  %less  %lf  %lk  %ll  %load  %load_ext  %loadpy  %logoff  %logon  %logstart  %logstate  %logstop  %ls  %lsmagic  %lx  %macro  %magic  %man  %matplotlib  %mkdir  %more  %mv  %notebook  %page  %pastebin  %pdb  %pdef  %pdoc  %pfile  %pinfo  %pinfo2  %popd  %pprint  %precision  %prun  %psearch  %psource  %pushd  %pwd  %pycat  %pylab  %qtconsole  %quickref  %recall  %rehashx  %reload_ext  %rep  %rerun  %reset  %reset_selective  %rm  %rmdir  %run  %save  %sc  %set_env  %store  %sx  %system  %tb  %time  %timeit  %unalias  %unload_ext  %who  %who_ls  %whos  %xdel  %xmode\n",
       "\n",
       "Available cell magics:\n",
       "%%!  %%HTML  %%SVG  %%bash  %%capture  %%debug  %%file  %%html  %%javascript  %%js  %%latex  %%markdown  %%perl  %%prun  %%pypy  %%python  %%python2  %%python3  %%ruby  %%script  %%sh  %%svg  %%sx  %%system  %%time  %%timeit  %%writefile\n",
       "\n",
       "Automagic is ON, % prefix IS NOT needed for line magics."
      ]
     },
     "execution_count": 48,
     "metadata": {},
     "output_type": "execute_result"
    }
   ],
   "source": [
    "#显示全部可用的Magic命令\n",
    "\n",
    "%lsmagic\n",
    "\n"
   ]
  },
  {
   "cell_type": "code",
   "execution_count": 49,
   "metadata": {
    "collapsed": false
   },
   "outputs": [],
   "source": [
    "#使用Magic命令来统计运行时长\n",
    "\n",
    "import random"
   ]
  },
  {
   "cell_type": "code",
   "execution_count": 50,
   "metadata": {
    "collapsed": false
   },
   "outputs": [
    {
     "name": "stdout",
     "output_type": "stream",
     "text": [
      "99.7 µs ± 36.1 ns per loop (mean ± std. dev. of 7 runs, 10000 loops each)\n"
     ]
    }
   ],
   "source": [
    "%%timeit\n",
    "\n",
    "prize = 0 \n",
    "for i in range(100):\n",
    "    roll = random.randint(1, 6)\n",
    "    if roll%2 == 0:\n",
    "        prize += roll\n",
    "    else:\n",
    "        prize -= 1\n",
    "        \n"
   ]
  },
  {
   "cell_type": "markdown",
   "metadata": {
    "collapsed": false
   },
   "source": [
    "---   \n",
    "\n",
    "**甚至还可以直接嵌入可视化内容, 例如%matplotlib inline:**\n"
   ]
  },
  {
   "cell_type": "code",
   "execution_count": 51,
   "metadata": {
    "collapsed": false
   },
   "outputs": [
    {
     "data": {
      "text/plain": [
       "[<matplotlib.lines.Line2D at 0x7fa1190827d0>]"
      ]
     },
     "execution_count": 51,
     "metadata": {},
     "output_type": "execute_result"
    },
    {
     "data": {
      "text/plain": [
       "[<matplotlib.lines.Line2D at 0x7fa119082990>]"
      ]
     },
     "execution_count": 51,
     "metadata": {},
     "output_type": "execute_result"
    },
    {
     "data": {
      "image/png": "[encoded data removed]",
      "text/plain": [
       "<Figure size 432x288 with 1 Axes>"
      ]
     },
     "metadata": {},
     "output_type": "display_data"
    }
   ],
   "source": [
    "%matplotlib inline\n",
    "%config InlineBackend.figure_format = 'retina'\n",
    "\n",
    "import matplotlib.pyplot as plt\n",
    "import numpy as np\n",
    "\n",
    "x = np.linspace(0,1,300)\n",
    "for w in range(2,6,2):\n",
    "    plt.plot(x, np.sin(np.pi*x)*np.sin(2*w*np.pi*x))"
   ]
  },
  {
   "cell_type": "markdown",
   "metadata": {
    "collapsed": false
   },
   "source": [
    "这里需要注意的是, 当前技术架构局限, 一个Cell里面只能输出**一张图片**. \n",
    "如果输出多张图片, 可能会有显示异常的问题"
   ]
  },
  {
   "cell_type": "markdown",
   "metadata": {
    "collapsed": false
   },
   "source": [
    "---\n",
    "\n",
    "### %env：设置环境变量\n",
    "\n",
    "使用该命令, 可以在不必重启Kernel的情况下管理notebook的环境变量\n"
   ]
  },
  {
   "cell_type": "code",
   "execution_count": 52,
   "metadata": {
    "collapsed": false
   },
   "outputs": [
    {
     "name": "stdout",
     "output_type": "stream",
     "text": [
      "env: OMP_NUM_THREADS=4\n"
     ]
    }
   ],
   "source": [
    "# Running %env without any arguments\n",
    "# lists all environment variables\n",
    "\n",
    "# The line below sets the environment\n",
    "# variable OMP_NUM_THREADS\n",
    "%env OMP_NUM_THREADS=4"
   ]
  },
  {
   "cell_type": "markdown",
   "metadata": {
    "collapsed": false
   },
   "source": [
    "---\n",
    "\n",
    "\n",
    "### %run: 运行python代码\n",
    "\n",
    "使用%run 可以运行.py格式的python代码\n",
    "\n",
    "当然是用!python也是可以的\n",
    "\n",
    "我在项目空间中上传了一个.py文件, 里面只有一行print代码. 我们执行一下看看. \n",
    "\n",
    "![](https://ai-studio-static-online.cdn.bcebos.com/5a0d9d3487374946881f7843b40e544caa6ce50aeef14ad88c067abc46c348fb)\n"
   ]
  },
  {
   "cell_type": "code",
   "execution_count": 53,
   "metadata": {
    "collapsed": false
   },
   "outputs": [
    {
     "name": "stderr",
     "output_type": "stream",
     "text": [
      "ERROR:root:File `'work/SampleOfRun.py'` not found.\n"
     ]
    }
   ],
   "source": [
    "%run work/SampleOfRun.py"
   ]
  },
  {
   "cell_type": "code",
   "execution_count": 54,
   "metadata": {
    "collapsed": false
   },
   "outputs": [
    {
     "name": "stdout",
     "output_type": "stream",
     "text": [
      "python: can't open file 'work/SampleOfRun.py': [Errno 2] No such file or directory\r\n"
     ]
    }
   ],
   "source": [
    "!python work/SampleOfRun.py"
   ]
  },
  {
   "cell_type": "markdown",
   "metadata": {
    "collapsed": false
   },
   "source": [
    "---\n",
    "\n",
    "### **%%writefile and %pycat: 导出cell内容/显示外部脚本的内容**\n",
    "\n",
    "AI Studio当前支持一定格式文件的预览和处理, 如果您的格式比较特殊, 尚未支持的话, 不妨试试这两个命令. \n",
    "\n",
    "%%writefile magic可以把cell的内容保存到外部文件里。 而%pycat则可把外部文件展示在Cell中\n"
   ]
  },
  {
   "cell_type": "code",
   "execution_count": 55,
   "metadata": {
    "collapsed": false
   },
   "outputs": [
    {
     "name": "stdout",
     "output_type": "stream",
     "text": [
      "Overwriting SaveToPythonCode.py\n"
     ]
    }
   ],
   "source": [
    "%%writefile SaveToPythonCode.py\n",
    "\n",
    "from math import sqrt\n",
    "for i in range(2,10):\n",
    "    flag=1\n",
    "    k=int(sqrt(i))\n",
    "    for j in range(2,k+1):\n",
    "        if i%j==0:\n",
    "            flag=0\n",
    "        break\n",
    "        if(flag):\n",
    "            print(i)"
   ]
  },
  {
   "cell_type": "markdown",
   "metadata": {
    "collapsed": false
   },
   "source": [
    "因为没有指定路径, 所以文件被保存到了根目录下. 但至少it works.\n",
    "\n",
    "![](https://ai-studio-static-online.cdn.bcebos.com/c4c44796af06452295e018e7b0edc6b59f988337bc534d1fa888fe471c43b439)\n",
    "\n",
    "我们再来尝试从中读文件内容"
   ]
  },
  {
   "cell_type": "code",
   "execution_count": 56,
   "metadata": {
    "collapsed": false
   },
   "outputs": [],
   "source": [
    "%pycat SaveToPythonCode.py"
   ]
  },
  {
   "cell_type": "markdown",
   "metadata": {
    "collapsed": false
   },
   "source": [
    "更多Magic命令可以点击这里查询 \n",
    "[Magic命令](https://ipython.readthedocs.io/en/stable/interactive/magics.html)"
   ]
  },
  {
   "cell_type": "markdown",
   "metadata": {
    "collapsed": false
   },
   "source": [
    "---\n",
    "\n",
    "## 关于快速查看某个对象/方法/接口的用法\n",
    "\n",
    "在要查询的对象前输入?或??并执行即可. 单问号是普通信息, 双问号是详细信息. \n",
    "\n",
    "前提: 该对象方法已经被正确导入(import)\n",
    "\n",
    "示例:"
   ]
  },
  {
   "cell_type": "code",
   "execution_count": 57,
   "metadata": {
    "collapsed": false
   },
   "outputs": [],
   "source": [
    "import paddle\n",
    "?paddle.nn.LSTM"
   ]
  },
  {
   "cell_type": "code",
   "execution_count": 58,
   "metadata": {
    "collapsed": false
   },
   "outputs": [],
   "source": [
    "import paddlenlp\n",
    "?paddlenlp.data.Pad"
   ]
  },
  {
   "cell_type": "markdown",
   "metadata": {
    "collapsed": false
   },
   "source": [
    "---\n",
    "\n",
    "## 关于变量监控\n",
    "\n",
    "你可以通过修改内核选项ast_note_interactivity，使得Jupyter对独占一行的所有变量或者语句都自动显示，这样你就可以马上看到多个语句的运行结果了。"
   ]
  },
  {
   "cell_type": "code",
   "execution_count": 59,
   "metadata": {
    "collapsed": false
   },
   "outputs": [
    {
     "name": "stdout",
     "output_type": "stream",
     "text": [
      "Looking in indexes: https://mirror.baidu.com/pypi/simple/\n",
      "Requirement already satisfied: pydataset in /opt/conda/envs/python35-paddle120-env/lib/python3.7/site-packages (0.2.0)\n",
      "Requirement already satisfied: pandas in /opt/conda/envs/python35-paddle120-env/lib/python3.7/site-packages (from pydataset) (1.1.5)\n",
      "Requirement already satisfied: pytz>=2017.2 in /opt/conda/envs/python35-paddle120-env/lib/python3.7/site-packages (from pandas->pydataset) (2019.3)\n",
      "Requirement already satisfied: python-dateutil>=2.7.3 in /opt/conda/envs/python35-paddle120-env/lib/python3.7/site-packages (from pandas->pydataset) (2.8.0)\n",
      "Requirement already satisfied: numpy>=1.15.4 in /opt/conda/envs/python35-paddle120-env/lib/python3.7/site-packages (from pandas->pydataset) (1.20.3)\n",
      "Requirement already satisfied: six>=1.5 in /opt/conda/envs/python35-paddle120-env/lib/python3.7/site-packages (from python-dateutil>=2.7.3->pandas->pydataset) (1.15.0)\n"
     ]
    }
   ],
   "source": [
    "!pip install pydataset"
   ]
  },
  {
   "cell_type": "code",
   "execution_count": 60,
   "metadata": {
    "collapsed": false
   },
   "outputs": [
    {
     "data": {
      "text/html": [
       "<div>\n",
       "<style scoped>\n",
       "    .dataframe tbody tr th:only-of-type {\n",
       "        vertical-align: middle;\n",
       "    }\n",
       "\n",
       "    .dataframe tbody tr th {\n",
       "        vertical-align: top;\n",
       "    }\n",
       "\n",
       "    .dataframe thead th {\n",
       "        text-align: right;\n",
       "    }\n",
       "</style>\n",
       "<table border=\"1\" class=\"dataframe\">\n",
       "  <thead>\n",
       "    <tr style=\"text-align: right;\">\n",
       "      <th></th>\n",
       "      <th>lat</th>\n",
       "      <th>long</th>\n",
       "      <th>depth</th>\n",
       "      <th>mag</th>\n",
       "      <th>stations</th>\n",
       "    </tr>\n",
       "  </thead>\n",
       "  <tbody>\n",
       "    <tr>\n",
       "      <th>1</th>\n",
       "      <td>-20.42</td>\n",
       "      <td>181.62</td>\n",
       "      <td>562</td>\n",
       "      <td>4.8</td>\n",
       "      <td>41</td>\n",
       "    </tr>\n",
       "    <tr>\n",
       "      <th>2</th>\n",
       "      <td>-20.62</td>\n",
       "      <td>181.03</td>\n",
       "      <td>650</td>\n",
       "      <td>4.2</td>\n",
       "      <td>15</td>\n",
       "    </tr>\n",
       "    <tr>\n",
       "      <th>3</th>\n",
       "      <td>-26.00</td>\n",
       "      <td>184.10</td>\n",
       "      <td>42</td>\n",
       "      <td>5.4</td>\n",
       "      <td>43</td>\n",
       "    </tr>\n",
       "    <tr>\n",
       "      <th>4</th>\n",
       "      <td>-17.97</td>\n",
       "      <td>181.66</td>\n",
       "      <td>626</td>\n",
       "      <td>4.1</td>\n",
       "      <td>19</td>\n",
       "    </tr>\n",
       "    <tr>\n",
       "      <th>5</th>\n",
       "      <td>-20.42</td>\n",
       "      <td>181.96</td>\n",
       "      <td>649</td>\n",
       "      <td>4.0</td>\n",
       "      <td>11</td>\n",
       "    </tr>\n",
       "  </tbody>\n",
       "</table>\n",
       "</div>"
      ],
      "text/plain": [
       "     lat    long  depth  mag  stations\n",
       "1 -20.42  181.62    562  4.8        41\n",
       "2 -20.62  181.03    650  4.2        15\n",
       "3 -26.00  184.10     42  5.4        43\n",
       "4 -17.97  181.66    626  4.1        19\n",
       "5 -20.42  181.96    649  4.0        11"
      ]
     },
     "execution_count": 60,
     "metadata": {},
     "output_type": "execute_result"
    },
    {
     "data": {
      "text/html": [
       "<div>\n",
       "<style scoped>\n",
       "    .dataframe tbody tr th:only-of-type {\n",
       "        vertical-align: middle;\n",
       "    }\n",
       "\n",
       "    .dataframe tbody tr th {\n",
       "        vertical-align: top;\n",
       "    }\n",
       "\n",
       "    .dataframe thead th {\n",
       "        text-align: right;\n",
       "    }\n",
       "</style>\n",
       "<table border=\"1\" class=\"dataframe\">\n",
       "  <thead>\n",
       "    <tr style=\"text-align: right;\">\n",
       "      <th></th>\n",
       "      <th>lat</th>\n",
       "      <th>long</th>\n",
       "      <th>depth</th>\n",
       "      <th>mag</th>\n",
       "      <th>stations</th>\n",
       "    </tr>\n",
       "  </thead>\n",
       "  <tbody>\n",
       "    <tr>\n",
       "      <th>996</th>\n",
       "      <td>-25.93</td>\n",
       "      <td>179.54</td>\n",
       "      <td>470</td>\n",
       "      <td>4.4</td>\n",
       "      <td>22</td>\n",
       "    </tr>\n",
       "    <tr>\n",
       "      <th>997</th>\n",
       "      <td>-12.28</td>\n",
       "      <td>167.06</td>\n",
       "      <td>248</td>\n",
       "      <td>4.7</td>\n",
       "      <td>35</td>\n",
       "    </tr>\n",
       "    <tr>\n",
       "      <th>998</th>\n",
       "      <td>-20.13</td>\n",
       "      <td>184.20</td>\n",
       "      <td>244</td>\n",
       "      <td>4.5</td>\n",
       "      <td>34</td>\n",
       "    </tr>\n",
       "    <tr>\n",
       "      <th>999</th>\n",
       "      <td>-17.40</td>\n",
       "      <td>187.80</td>\n",
       "      <td>40</td>\n",
       "      <td>4.5</td>\n",
       "      <td>14</td>\n",
       "    </tr>\n",
       "    <tr>\n",
       "      <th>1000</th>\n",
       "      <td>-21.59</td>\n",
       "      <td>170.56</td>\n",
       "      <td>165</td>\n",
       "      <td>6.0</td>\n",
       "      <td>119</td>\n",
       "    </tr>\n",
       "  </tbody>\n",
       "</table>\n",
       "</div>"
      ],
      "text/plain": [
       "        lat    long  depth  mag  stations\n",
       "996  -25.93  179.54    470  4.4        22\n",
       "997  -12.28  167.06    248  4.7        35\n",
       "998  -20.13  184.20    244  4.5        34\n",
       "999  -17.40  187.80     40  4.5        14\n",
       "1000 -21.59  170.56    165  6.0       119"
      ]
     },
     "execution_count": 60,
     "metadata": {},
     "output_type": "execute_result"
    }
   ],
   "source": [
    "from IPython.core.interactiveshell import InteractiveShell\n",
    "InteractiveShell.ast_node_interactivity = \"all\"\n",
    "\n",
    "from pydataset import data\n",
    "\n",
    "quakes = data('quakes')\n",
    "quakes.head()\n",
    "quakes.tail()"
   ]
  },
  {
   "cell_type": "markdown",
   "metadata": {
    "collapsed": false
   },
   "source": [
    "---\n",
    "\n",
    "\n",
    "## 关于调试代码\n",
    "\n",
    "\n",
    "Notebook自带一个调试器, 叫The Python Debugger (pdb)，我们来看看它是如何工作的. \n"
   ]
  },
  {
   "cell_type": "code",
   "execution_count": 61,
   "metadata": {
    "collapsed": false
   },
   "outputs": [
    {
     "name": "stdout",
     "output_type": "stream",
     "text": [
      "Automatic pdb calling has been turned ON\n",
      "431\n"
     ]
    }
   ],
   "source": [
    "# 对, 它也是依赖Magic命令启动的.\n",
    "# 理论上pdb是可以通过脚本形式来启动. 但是在Notebook中不行, 会造成阻断\n",
    "\n",
    "%pdb\n",
    "\n",
    "\n",
    "def reverse(x: int) -> int:\n",
    "    inputnumber = x.__str__()\n",
    "    reversedStr = inputnumber[::-1]\n",
    "    strOriLen = len(reversedStr)\n",
    "    result = list()\n",
    "    flag = 1\n",
    "    for i in range(0, strOriLen):\n",
    "        if i == (strOriLen -1) and reversedStr[i] == '-' :\n",
    "            flag = -1\n",
    "        else:\n",
    "            result.append(reversedStr[i])\n",
    "    outputs = ''.join(result)\n",
    "    outputInt = int(outputs)        \n",
    "     \n",
    "    outputInt = outputInt * flag\n",
    "        \n",
    "    if outputInt > pow(2,31)-1  or outputInt < -1 * pow(2,31):\n",
    "        outputInt = 0\n",
    "        \n",
    "    return outputInt\n",
    "\n",
    "print(reverse(134))"
   ]
  },
  {
   "cell_type": "markdown",
   "metadata": {
    "collapsed": false
   },
   "source": [
    "下一节将重点讲一下PDB的用法\n",
    "\n",
    "[AI Studio基本操作(二)](https://aistudio.baidu.com/aistudio/projectdetail/69987)"
   ]
  }
 ],
 "metadata": {
  "kernelspec": {
   "display_name": "PaddlePaddle 2.0.0b0 (Python 3.5)",
   "language": "python",
   "name": "py35-paddle1.2.0"
  },
  "language_info": {
   "codemirror_mode": {
    "name": "ipython",
    "version": 3
   },
   "file_extension": ".py",
   "mimetype": "text/x-python",
   "name": "python",
   "nbconvert_exporter": "python",
   "pygments_lexer": "ipython3",
   "version": "3.7.4"
  }
 },
 "nbformat": 4,
 "nbformat_minor": 1
}
