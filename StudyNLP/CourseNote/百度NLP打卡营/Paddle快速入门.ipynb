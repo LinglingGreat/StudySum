{
 "cells": [
  {
   "cell_type": "markdown",
   "metadata": {
    "collapsed": false
   },
   "source": [
    "# PaddlePaddle快速入门\n",
    "![](https://ai-studio-static-online.cdn.bcebos.com/466b717826ff438a917074f4e62ca844e5f291ca1f8b48d7b78838d513ad7536)\n",
    "\n",
    "学会使用深度学习框架是解决深度学习任务的基本能力，这里我们推荐成熟易用的国产开源框架PaddlePaddle。以下内容将带你你快速入门PaddlePaddle，你可以尝试跑通一个小demo来熟悉PaddlePaddle的基本命令。"
   ]
  },
  {
   "cell_type": "markdown",
   "metadata": {
    "collapsed": false
   },
   "source": [
    "# PaddlePaddle基础命令\n",
    "PaddlePaddle是百度开源的深度学习框架，类似的深度学习框架还有谷歌的Tensorflow、Facebook的Pytorch等，在入门深度学习时，学会并使用一门常见的框架，可以让学习效率大大提升。在PaddlePaddle中，计算的对象是张量，我们可以先使用PaddlePaddle来计算一个[[1, 1], [1, 1]] * [[1, 1], [1, 1]]。\n",
    "\n",
    "## 计算常量的加法：1+1\n",
    "首先导入PaddlePaddle库\n"
   ]
  },
  {
   "cell_type": "code",
   "execution_count": 1,
   "metadata": {
    "collapsed": false
   },
   "outputs": [
    {
     "data": {
      "text/plain": [
       "'2.1.0'"
      ]
     },
     "execution_count": 1,
     "metadata": {},
     "output_type": "execute_result"
    }
   ],
   "source": [
    "import paddle\n",
    "\n",
    "paddle.__version__"
   ]
  },
  {
   "cell_type": "markdown",
   "metadata": {
    "collapsed": false
   },
   "source": [
    "定义两个张量的常量x1和x2，并指定它们的形状是[2, 2]，并赋值为1铺满整个张量，类型为int64."
   ]
  },
  {
   "cell_type": "code",
   "execution_count": 2,
   "metadata": {
    "collapsed": false
   },
   "outputs": [],
   "source": [
    "# 定义两个张量\n",
    "x1 = paddle.ones([2,2], dtype='int64')\n",
    "x2 = paddle.ones([2,2], dtype='int64')"
   ]
  },
  {
   "cell_type": "markdown",
   "metadata": {
    "collapsed": false
   },
   "source": [
    "接着定义一个操作，该计算是将上面两个张量进行加法计算，并返回一个求和的算子。PaddlePaddle提供了大量的操作，比如加减乘除、三角函数等。"
   ]
  },
  {
   "cell_type": "code",
   "execution_count": 3,
   "metadata": {
    "collapsed": false
   },
   "outputs": [
    {
     "name": "stdout",
     "output_type": "stream",
     "text": [
      "Tensor(shape=[2, 2], dtype=int64, place=CPUPlace, stop_gradient=True,\n",
      "       [[2, 2],\n",
      "        [2, 2]])\n"
     ]
    }
   ],
   "source": [
    "# 将两个张量求和\n",
    "y1 = paddle.add(x1, x2)\n",
    "\n",
    "# 查看结果\n",
    "print(y1)"
   ]
  },
  {
   "cell_type": "markdown",
   "metadata": {
    "collapsed": false
   },
   "source": [
    "# 使用PaddlePaddle做线性回归\n",
    "\n",
    "在上面的教学中，教大家学会用PaddlePaddle做基本的算子运算，下面来教大家如何用PaddlePaddle来做简单的线性回归，包括从定义网络到使用自定义的数据进行训练，最后验证我们网络的预测能力。\n",
    "\n",
    "首先导入PaddlePaddle库和一些工具类库。"
   ]
  },
  {
   "cell_type": "code",
   "execution_count": 4,
   "metadata": {
    "collapsed": false
   },
   "outputs": [
    {
     "data": {
      "text/plain": [
       "'2.1.0'"
      ]
     },
     "execution_count": 4,
     "metadata": {},
     "output_type": "execute_result"
    }
   ],
   "source": [
    "import paddle\n",
    "import numpy as np\n",
    "\n",
    "paddle.__version__"
   ]
  },
  {
   "cell_type": "markdown",
   "metadata": {
    "collapsed": false
   },
   "source": [
    "我们使用numpy定义一组数据，这组数据的每一条数据有13个，为了做示例，其中除了第一个数外都填充了0。这组数据是符合y = 2 * x + 1，但是程序是不知道的，我们之后使用这组数据进行训练，看看强大的神经网络是否能够训练出一个拟合这个函数的模型。最后定义了一个预测数据，是在训练完成，使用这个数据作为x输入，看是否能够预测于正确值相近结果。"
   ]
  },
  {
   "cell_type": "code",
   "execution_count": 5,
   "metadata": {
    "collapsed": false
   },
   "outputs": [],
   "source": [
    "# 定义训练和测试数据\n",
    "x_data = np.array([[1.0, 0.0, 0.0, 0.0, 0.0, 0.0, 0.0, 0.0, 0.0, 0.0, 0.0, 0.0, 0.0], \n",
    "                   [2.0, 0.0, 0.0, 0.0, 0.0, 0.0, 0.0, 0.0, 0.0, 0.0, 0.0, 0.0, 0.0], \n",
    "                   [3.0, 0.0, 0.0, 0.0, 0.0, 0.0, 0.0, 0.0, 0.0, 0.0, 0.0, 0.0, 0.0], \n",
    "                   [4.0, 0.0, 0.0, 0.0, 0.0, 0.0, 0.0, 0.0, 0.0, 0.0, 0.0, 0.0, 0.0], \n",
    "                   [5.0, 0.0, 0.0, 0.0, 0.0, 0.0, 0.0, 0.0, 0.0, 0.0, 0.0, 0.0, 0.0]]).astype('float32')\n",
    "y_data = np.array([[3.0], [5.0], [7.0], [9.0], [11.0]]).astype('float32')\n",
    "test_data = np.array([[6.0, 0.0, 0.0, 0.0, 0.0, 0.0, 0.0, 0.0, 0.0, 0.0, 0.0, 0.0, 0.0]]).astype('float32')"
   ]
  },
  {
   "cell_type": "markdown",
   "metadata": {
    "collapsed": false
   },
   "source": [
    "定义一个简单的线性网络，这个网络非常简单，结构是：\n",
    "```text\n",
    "[输入层] --> [隐层] --> [激活函数] --> [输出层]\n",
    "```\n",
    "\n",
    "更具体的就是一个输出大小为100的全连接层、之后接激活函数ReLU和一个输出大小为1的全连接层，就这样构建了一个非常简单的网络。\n",
    "\n",
    "这里定义输入层的形状为13，这是因为波士顿房价数据集的每条数据有13个属性，我们之后自定义的数据集也是为了符合这一个维度。"
   ]
  },
  {
   "cell_type": "code",
   "execution_count": 6,
   "metadata": {
    "collapsed": false
   },
   "outputs": [],
   "source": [
    "# 定义一个简单的线性网络\n",
    "net = paddle.nn.Sequential(\n",
    "    paddle.nn.Linear(13, 100),\n",
    "    paddle.nn.ReLU(),\n",
    "    paddle.nn.Linear(100, 1)\n",
    ")"
   ]
  },
  {
   "cell_type": "markdown",
   "metadata": {
    "collapsed": false
   },
   "source": [
    "接着是定义训练使用的优化方法，这里使用的是随机梯度下降优化方法。PaddlePaddle提供了大量的优化函数接口，除了本项目使用的随机梯度下降法（SGD），还有Momentum、Adagrad、Adagrad等等，读者可以更加自己项目的需求使用不同的优化方法。"
   ]
  },
  {
   "cell_type": "code",
   "execution_count": 7,
   "metadata": {
    "collapsed": false
   },
   "outputs": [],
   "source": [
    "# 定义优化方法\n",
    "optimizer = paddle.optimizer.SGD(learning_rate=0.01, parameters=net.parameters())"
   ]
  },
  {
   "cell_type": "markdown",
   "metadata": {
    "collapsed": false
   },
   "source": [
    "我们可以使用数据进行训练了，我们这次训练了10个pass，读者可根据情况设置更多的训练轮数，通常来说训练的次数和模型收敛有一定的关系。\n",
    "\n",
    "因为本项目是一个线性回归任务，所以我们在训练的时候使用的是平方差损失函数。因为`paddle.nn.functional.square_error_cost`求的是一个Batch的损失值，所以我们还要对他求一个平均值。PaddlePaddle提供了很多的损失函数的接口，比如交叉熵损失函数`paddle.nn.CrossEntropyLoss`。\n",
    "\n",
    "在训练过程中，我们可以看到输出的损失值在不断减小，证明我们的模型在不断收敛。"
   ]
  },
  {
   "cell_type": "code",
   "execution_count": 8,
   "metadata": {
    "collapsed": false
   },
   "outputs": [
    {
     "name": "stdout",
     "output_type": "stream",
     "text": [
      "Pass:0, Cost:57.92163\n",
      "Pass:1, Cost:17.26017\n",
      "Pass:2, Cost:2.49660\n",
      "Pass:3, Cost:0.05545\n",
      "Pass:4, Cost:0.02851\n",
      "Pass:5, Cost:0.02786\n",
      "Pass:6, Cost:0.02726\n",
      "Pass:7, Cost:0.02667\n",
      "Pass:8, Cost:0.02610\n",
      "Pass:9, Cost:0.02553\n"
     ]
    }
   ],
   "source": [
    "# 将numpy类型数据转换成tensor之后才能用于模型训练\n",
    "inputs = paddle.to_tensor(x_data)\n",
    "labels = paddle.to_tensor(y_data)\n",
    "\n",
    "# 开始训练100个pass\n",
    "for pass_id in range(10):\n",
    "    out = net(inputs)\n",
    "    loss = paddle.mean(paddle.nn.functional.square_error_cost(out, labels))\n",
    "\n",
    "    loss.backward()\n",
    "    optimizer.step()\n",
    "    optimizer.clear_grad()\n",
    "\n",
    "    print(\"Pass:%d, Cost:%0.5f\" % (pass_id, loss))"
   ]
  },
  {
   "cell_type": "markdown",
   "metadata": {
    "collapsed": false
   },
   "source": [
    "训练完成之后，我们使用上面克隆主程序得到的预测程序了预测我们刚才定义的预测数据。根据我们上面定义数据时，满足规律y = 2 * x + 1，所以当x为6时，y应该时13，最后输出的结果也是应该接近13的。"
   ]
  },
  {
   "cell_type": "code",
   "execution_count": 9,
   "metadata": {
    "collapsed": false
   },
   "outputs": [
    {
     "name": "stdout",
     "output_type": "stream",
     "text": [
      "当x为6.0时，y为：13.24406\n"
     ]
    }
   ],
   "source": [
    "# 开始预测\n",
    "predict_inputs = paddle.to_tensor(test_data)\n",
    "result = net(predict_inputs)\n",
    "\n",
    "print(\"当x为6.0时，y为：%0.5f\" % result)"
   ]
  },
  {
   "cell_type": "markdown",
   "metadata": {
    "collapsed": false
   },
   "source": [
    "# 快来上手第一个Demo吧！——用PaddlePaddle做房价预测"
   ]
  },
  {
   "cell_type": "markdown",
   "metadata": {
    "collapsed": false
   },
   "source": [
    "# **Step1：准备数据。**\n",
    "\n",
    "- 1. uci-housing数据集介绍\n",
    "\n",
    "数据集共506行,每行14列。前13列用来描述房屋的各种信息，最后一列为该类房屋价格中位数。\n",
    "\n",
    "PaddlePaddle提供了读取uci_housing数据集的接口，`paddle.text.datasets.UCIHousing`。\n",
    "\n",
    "- 2. 数据集加载\n",
    "\n",
    "PaddlePaddle中使用`paddle.io.DataLoader`来进行数据的加载操作，通过参数batch_size控制批次大小，shuffle控制是否打乱顺序。"
   ]
  },
  {
   "cell_type": "code",
   "execution_count": 10,
   "metadata": {
    "collapsed": false
   },
   "outputs": [
    {
     "name": "stderr",
     "output_type": "stream",
     "text": [
      "Cache file /home/aistudio/.cache/paddle/dataset/uci_housing/housing.data not found, downloading http://paddlemodels.bj.bcebos.com/uci_housing/housing.data \n",
      "Begin to download\n",
      "............\n",
      "Download finished\n"
     ]
    }
   ],
   "source": [
    "# 导入基本的库\n",
    "import os\n",
    "import paddle\n",
    "import numpy as np\n",
    "\n",
    "\n",
    "BATCH_SIZE=20\n",
    "\n",
    "train_dataset = paddle.text.datasets.UCIHousing(mode='train')\n",
    "valid_dataset = paddle.text.datasets.UCIHousing(mode='test')\n",
    "\n",
    "#用于训练的数据加载器，每次随机读取批次大小的数据，剩余不满足批大小的数据丢弃\n",
    "train_loader = paddle.io.DataLoader(train_dataset, batch_size=BATCH_SIZE, shuffle=True, drop_last=True)\n",
    "\n",
    "#用于测试的数据加载器，每次随机读取批次大小的数据\n",
    "valid_loader = paddle.io.DataLoader(valid_dataset, batch_size=BATCH_SIZE, shuffle=True)"
   ]
  },
  {
   "cell_type": "markdown",
   "metadata": {
    "collapsed": false
   },
   "source": [
    "打印查看uci_housing数据"
   ]
  },
  {
   "cell_type": "code",
   "execution_count": 11,
   "metadata": {
    "collapsed": false
   },
   "outputs": [
    {
     "name": "stdout",
     "output_type": "stream",
     "text": [
      "(array([-0.0405441 ,  0.06636363, -0.32356226, -0.06916996, -0.03435197,\n",
      "        0.05563625, -0.03475696,  0.02682186, -0.37171334, -0.21419305,\n",
      "       -0.33569506,  0.10143217, -0.21172912], dtype=float32), array([24.], dtype=float32))\n"
     ]
    }
   ],
   "source": [
    "#用于打印，查看uci_housing数据\r\n",
    "print(train_dataset[0])"
   ]
  },
  {
   "cell_type": "markdown",
   "metadata": {
    "collapsed": false
   },
   "source": [
    "# **Step2:网络配置**\n",
    "\n",
    "**（1）网络搭建**：对于线性回归来讲，它就是一个从输入到输出的简单的全连接层。\n",
    "\n",
    "对于波士顿房价数据集，假设属性和房价之间的关系可以被属性间的线性组合描述。\n",
    "\n",
    "![](https://ai-studio-static-online.cdn.bcebos.com/f3f567e7aa7a499fb3abb767aaaa1b943eed373cf4694d87beb382e161ea8edc)\n",
    "\n",
    "![](https://ai-studio-static-online.cdn.bcebos.com/f6c44a96e1624828829bbd438c29c17ead9ecc45c68b4310bfbbb0a4dc96c3fe)\n",
    "\n"
   ]
  },
  {
   "cell_type": "code",
   "execution_count": 12,
   "metadata": {
    "collapsed": false
   },
   "outputs": [],
   "source": [
    "# 输入数据形状为[13]，输出形状[1]\r\n",
    "net = paddle.nn.Linear(13, 1)"
   ]
  },
  {
   "cell_type": "markdown",
   "metadata": {
    "collapsed": false
   },
   "source": [
    "**(2)定义损失函数**\n",
    "\n",
    "此处使用均方差损失函数。\n",
    "\n",
    "square_error_cost(input,lable):接受输入预测值和目标值，并返回方差估计,即为（y-y_predict）的平方"
   ]
  },
  {
   "cell_type": "markdown",
   "metadata": {
    "collapsed": false
   },
   "source": [
    "**(3)定义优化函数**\n",
    "\n",
    "此处使用的是随机梯度下降。"
   ]
  },
  {
   "cell_type": "code",
   "execution_count": 13,
   "metadata": {
    "collapsed": false
   },
   "outputs": [],
   "source": [
    "optimizer = paddle.optimizer.SGD(learning_rate=0.001, parameters=net.parameters())"
   ]
  },
  {
   "cell_type": "markdown",
   "metadata": {
    "collapsed": false
   },
   "source": [
    "# **Step3.模型训练** and **Step4.模型评估**"
   ]
  },
  {
   "cell_type": "markdown",
   "metadata": {
    "collapsed": false
   },
   "source": [
    "**（1）定义绘制训练过程的损失值变化趋势的方法draw_train_process**"
   ]
  },
  {
   "cell_type": "code",
   "execution_count": 14,
   "metadata": {
    "collapsed": false
   },
   "outputs": [
    {
     "name": "stderr",
     "output_type": "stream",
     "text": [
      "/opt/conda/envs/python35-paddle120-env/lib/python3.7/site-packages/matplotlib/__init__.py:107: DeprecationWarning: Using or importing the ABCs from 'collections' instead of from 'collections.abc' is deprecated, and in 3.8 it will stop working\n",
      "  from collections import MutableMapping\n",
      "/opt/conda/envs/python35-paddle120-env/lib/python3.7/site-packages/matplotlib/rcsetup.py:20: DeprecationWarning: Using or importing the ABCs from 'collections' instead of from 'collections.abc' is deprecated, and in 3.8 it will stop working\n",
      "  from collections import Iterable, Mapping\n",
      "/opt/conda/envs/python35-paddle120-env/lib/python3.7/site-packages/matplotlib/colors.py:53: DeprecationWarning: Using or importing the ABCs from 'collections' instead of from 'collections.abc' is deprecated, and in 3.8 it will stop working\n",
      "  from collections import Sized\n"
     ]
    }
   ],
   "source": [
    "import matplotlib.pyplot as plt\r\n",
    "\r\n",
    "\r\n",
    "iter = 0\r\n",
    "iters = []\r\n",
    "train_costs = []\r\n",
    "\r\n",
    "def draw_train_process(iters, train_costs):\r\n",
    "    title=\"training cost\"\r\n",
    "    plt.title(title, fontsize=24)\r\n",
    "    plt.xlabel(\"iter\", fontsize=14)\r\n",
    "    plt.ylabel(\"cost\", fontsize=14)\r\n",
    "    plt.plot(iters, train_costs, color='red', label='training cost') \r\n",
    "    plt.grid()\r\n",
    "    plt.show()"
   ]
  },
  {
   "cell_type": "markdown",
   "metadata": {
    "collapsed": false
   },
   "source": [
    "**（2）训练并保存模型**\n",
    "\n",
    "遍历轮次和数据集loader，将批次数据送入net里面进行计算，最终经过loss计算，在进行反向传播和参数优化。\n",
    "\n",
    "注：enumerate() 函数用于将一个可遍历的数据对象(如列表、元组或字符串)组合为一个索引序列，同时列出数据和数据下标，"
   ]
  },
  {
   "cell_type": "code",
   "execution_count": 15,
   "metadata": {
    "collapsed": false
   },
   "outputs": [
    {
     "name": "stdout",
     "output_type": "stream",
     "text": [
      "Pass:0, Cost:694.04108\n",
      "Test:0, Cost:211.20151\n",
      "Pass:1, Cost:718.70618\n",
      "Test:1, Cost:81.96242\n",
      "Pass:2, Cost:475.78058\n",
      "Test:2, Cost:176.78989\n",
      "Pass:3, Cost:402.72916\n",
      "Test:3, Cost:251.75000\n",
      "Pass:4, Cost:502.68036\n",
      "Test:4, Cost:113.36610\n",
      "Pass:5, Cost:568.16602\n",
      "Test:5, Cost:177.52846\n",
      "Pass:6, Cost:476.13885\n",
      "Test:6, Cost:99.38324\n",
      "Pass:7, Cost:263.62946\n",
      "Test:7, Cost:131.53128\n",
      "Pass:8, Cost:408.37491\n",
      "Test:8, Cost:165.41617\n",
      "Pass:9, Cost:348.94781\n",
      "Test:9, Cost:125.17019\n",
      "Pass:10, Cost:235.03036\n",
      "Test:10, Cost:128.47586\n",
      "Pass:11, Cost:373.77365\n",
      "Test:11, Cost:109.12988\n",
      "Pass:12, Cost:382.86288\n",
      "Test:12, Cost:52.62062\n",
      "Pass:13, Cost:228.76428\n",
      "Test:13, Cost:135.51625\n",
      "Pass:14, Cost:147.32423\n",
      "Test:14, Cost:23.88525\n",
      "Pass:15, Cost:266.08676\n",
      "Test:15, Cost:51.34695\n",
      "Pass:16, Cost:187.61273\n",
      "Test:16, Cost:218.02568\n",
      "Pass:17, Cost:201.46187\n",
      "Test:17, Cost:36.58718\n",
      "Pass:18, Cost:164.64169\n",
      "Test:18, Cost:136.90654\n",
      "Pass:19, Cost:109.09910\n",
      "Test:19, Cost:43.69257\n",
      "Pass:20, Cost:165.95181\n",
      "Test:20, Cost:67.69698\n",
      "Pass:21, Cost:67.52733\n",
      "Test:21, Cost:100.40565\n",
      "Pass:22, Cost:148.87378\n",
      "Test:22, Cost:44.28013\n",
      "Pass:23, Cost:272.91302\n",
      "Test:23, Cost:64.55545\n",
      "Pass:24, Cost:320.36285\n",
      "Test:24, Cost:8.77742\n",
      "Pass:25, Cost:181.69868\n",
      "Test:25, Cost:36.35912\n",
      "Pass:26, Cost:68.41258\n",
      "Test:26, Cost:39.68889\n",
      "Pass:27, Cost:119.07393\n",
      "Test:27, Cost:21.35777\n",
      "Pass:28, Cost:61.71670\n",
      "Test:28, Cost:5.72559\n",
      "Pass:29, Cost:53.73602\n",
      "Test:29, Cost:25.21531\n",
      "Pass:30, Cost:81.89694\n",
      "Test:30, Cost:40.26062\n",
      "Pass:31, Cost:51.65599\n",
      "Test:31, Cost:1.77657\n",
      "Pass:32, Cost:18.46457\n",
      "Test:32, Cost:18.31264\n",
      "Pass:33, Cost:58.57187\n",
      "Test:33, Cost:15.08143\n",
      "Pass:34, Cost:102.43970\n",
      "Test:34, Cost:13.90950\n",
      "Pass:35, Cost:81.94363\n",
      "Test:35, Cost:16.54850\n",
      "Pass:36, Cost:43.64971\n",
      "Test:36, Cost:30.42578\n",
      "Pass:37, Cost:59.23506\n",
      "Test:37, Cost:22.46311\n",
      "Pass:38, Cost:91.55733\n",
      "Test:38, Cost:33.10298\n",
      "Pass:39, Cost:50.88599\n",
      "Test:39, Cost:5.41668\n",
      "Pass:40, Cost:17.12974\n",
      "Test:40, Cost:29.49467\n",
      "Pass:41, Cost:34.43634\n",
      "Test:41, Cost:9.65246\n",
      "Pass:42, Cost:31.48676\n",
      "Test:42, Cost:1.60214\n",
      "Pass:43, Cost:91.27415\n",
      "Test:43, Cost:6.00659\n",
      "Pass:44, Cost:49.95349\n",
      "Test:44, Cost:8.52874\n",
      "Pass:45, Cost:19.81659\n",
      "Test:45, Cost:100.12550\n",
      "Pass:46, Cost:62.98671\n",
      "Test:46, Cost:97.64473\n",
      "Pass:47, Cost:65.81707\n",
      "Test:47, Cost:5.76155\n",
      "Pass:48, Cost:76.49935\n",
      "Test:48, Cost:125.73111\n",
      "Pass:49, Cost:20.85202\n",
      "Test:49, Cost:1.26879\n"
     ]
    },
    {
     "name": "stderr",
     "output_type": "stream",
     "text": [
      "/opt/conda/envs/python35-paddle120-env/lib/python3.7/site-packages/matplotlib/cbook/__init__.py:2349: DeprecationWarning: Using or importing the ABCs from 'collections' instead of from 'collections.abc' is deprecated, and in 3.8 it will stop working\n",
      "  if isinstance(obj, collections.Iterator):\n",
      "/opt/conda/envs/python35-paddle120-env/lib/python3.7/site-packages/matplotlib/cbook/__init__.py:2366: DeprecationWarning: Using or importing the ABCs from 'collections' instead of from 'collections.abc' is deprecated, and in 3.8 it will stop working\n",
      "  return list(data) if isinstance(data, collections.MappingView) else data\n"
     ]
    },
    {
     "data": {
      "image/png": "[encoded data removed]",
      "text/plain": [
       "<Figure size 432x288 with 1 Axes>"
      ]
     },
     "metadata": {},
     "output_type": "display_data"
    }
   ],
   "source": [
    "EPOCH_NUM=50\r\n",
    "\r\n",
    "#训练EPOCH_NUM轮\r\n",
    "for pass_id in range(EPOCH_NUM):                                  \r\n",
    "    # 开始训练并输出最后一个batch的损失值\r\n",
    "    train_cost = 0\r\n",
    "\r\n",
    "    #遍历train_reader迭代器\r\n",
    "    for batch_id, data in enumerate(train_loader()):\r\n",
    "        inputs = paddle.to_tensor(data[0])\r\n",
    "        labels = paddle.to_tensor(data[1])\r\n",
    "        out = net(inputs)\r\n",
    "        train_loss = paddle.mean(paddle.nn.functional.square_error_cost(out, labels))\r\n",
    "        train_loss.backward()\r\n",
    "        optimizer.step()\r\n",
    "        optimizer.clear_grad()\r\n",
    "\r\n",
    "        #每运行40步，输出一次信息,\r\n",
    "        #注意batch_id=0时也输出, 即 0, 40, 80, ...\r\n",
    "        if batch_id % 40 == 0:\r\n",
    "            print(\"Pass:%d, Cost:%0.5f\" % (pass_id, train_loss))    \r\n",
    "        \r\n",
    "        iter = iter + BATCH_SIZE\r\n",
    "        iters.append(iter)\r\n",
    "        train_costs.append(train_loss.numpy()[0])\r\n",
    "       \r\n",
    "    # 开始测试并输出最后一个batch的损失值\r\n",
    "    test_loss = 0\r\n",
    "\r\n",
    "    #遍历test_reader迭代器\r\n",
    "    for batch_id, data in enumerate(valid_loader()):               \r\n",
    "        inputs = paddle.to_tensor(data[0])\r\n",
    "        labels = paddle.to_tensor(data[1])\r\n",
    "        out = net(inputs)\r\n",
    "        test_loss = paddle.mean(paddle.nn.functional.square_error_cost(out, labels))\r\n",
    "        \r\n",
    "    #打印最后一个batch的损失值\r\n",
    "    print('Test:%d, Cost:%0.5f' % (pass_id, test_loss))     \r\n",
    "    \r\n",
    "#保存模型\r\n",
    "paddle.save(net.state_dict(), 'fit_a_line.pdparams')\r\n",
    "\r\n",
    "draw_train_process(iters,train_costs)"
   ]
  },
  {
   "cell_type": "markdown",
   "metadata": {
    "collapsed": false
   },
   "source": [
    "# **Step5.模型预测**\n",
    "\n",
    "**(1)可视化真实值与预测值方法定义**"
   ]
  },
  {
   "cell_type": "code",
   "execution_count": 16,
   "metadata": {
    "collapsed": false
   },
   "outputs": [],
   "source": [
    "infer_results = []\r\n",
    "groud_truths = []\r\n",
    "\r\n",
    "#绘制真实值和预测值对比图\r\n",
    "def draw_infer_result(groud_truths, infer_results):\r\n",
    "    title='Boston'\r\n",
    "    plt.title(title, fontsize=24)\r\n",
    "    x = np.arange(1,20) \r\n",
    "    y = x\r\n",
    "    plt.plot(x, y)\r\n",
    "    plt.xlabel('ground truth', fontsize=14)\r\n",
    "    plt.ylabel('infer result', fontsize=14)\r\n",
    "    plt.scatter(groud_truths, infer_results, color='green',label='training cost') \r\n",
    "    plt.grid()\r\n",
    "    plt.show()"
   ]
  },
  {
   "cell_type": "markdown",
   "metadata": {
    "collapsed": false
   },
   "source": [
    "**(2)开始预测**\n",
    "\n",
    "通过paddle.load加载已经训练好的模型，来对从未遇见过的数据进行预测。"
   ]
  },
  {
   "cell_type": "code",
   "execution_count": 17,
   "metadata": {
    "collapsed": false
   },
   "outputs": [
    {
     "name": "stdout",
     "output_type": "stream",
     "text": [
      "Index:0, Infer Result: 13.28, Ground Truth: 8.50\n",
      "Index:1, Infer Result: 13.60, Ground Truth: 5.00\n",
      "Index:2, Infer Result: 12.96, Ground Truth: 11.90\n",
      "Index:3, Infer Result: 14.35, Ground Truth: 27.90\n",
      "Index:4, Infer Result: 13.48, Ground Truth: 17.20\n",
      "Index:5, Infer Result: 14.10, Ground Truth: 27.50\n",
      "Index:6, Infer Result: 13.78, Ground Truth: 15.00\n",
      "Index:7, Infer Result: 13.48, Ground Truth: 17.20\n",
      "Index:8, Infer Result: 11.57, Ground Truth: 17.90\n",
      "Index:9, Infer Result: 13.39, Ground Truth: 16.30\n",
      "Index:10, Infer Result: 11.18, Ground Truth: 7.00\n",
      "Index:11, Infer Result: 12.51, Ground Truth: 7.20\n",
      "Index:12, Infer Result: 13.04, Ground Truth: 7.50\n",
      "Index:13, Infer Result: 12.64, Ground Truth: 10.40\n",
      "Index:14, Infer Result: 12.86, Ground Truth: 8.80\n",
      "Index:15, Infer Result: 13.46, Ground Truth: 8.40\n",
      "Index:16, Infer Result: 14.27, Ground Truth: 16.70\n",
      "Index:17, Infer Result: 14.11, Ground Truth: 14.20\n",
      "Index:18, Infer Result: 14.44, Ground Truth: 20.80\n",
      "Index:19, Infer Result: 13.16, Ground Truth: 13.40\n",
      "Index:20, Infer Result: 13.69, Ground Truth: 11.70\n",
      "Index:21, Infer Result: 12.63, Ground Truth: 8.30\n",
      "Index:22, Infer Result: 14.15, Ground Truth: 10.20\n",
      "Index:23, Infer Result: 13.77, Ground Truth: 10.90\n",
      "Index:24, Infer Result: 13.51, Ground Truth: 11.00\n",
      "Index:25, Infer Result: 13.03, Ground Truth: 9.50\n",
      "Index:26, Infer Result: 14.01, Ground Truth: 14.50\n",
      "Index:27, Infer Result: 13.94, Ground Truth: 14.10\n",
      "Index:28, Infer Result: 14.67, Ground Truth: 16.10\n",
      "Index:29, Infer Result: 13.76, Ground Truth: 14.30\n",
      "Index:30, Infer Result: 13.62, Ground Truth: 11.70\n",
      "Index:31, Infer Result: 13.16, Ground Truth: 13.40\n",
      "Index:32, Infer Result: 13.25, Ground Truth: 9.60\n",
      "Index:33, Infer Result: 12.33, Ground Truth: 8.70\n",
      "Index:34, Infer Result: 12.04, Ground Truth: 8.40\n",
      "Index:35, Infer Result: 13.59, Ground Truth: 12.80\n",
      "Index:36, Infer Result: 13.73, Ground Truth: 10.50\n",
      "Index:37, Infer Result: 14.10, Ground Truth: 17.10\n",
      "Index:38, Infer Result: 14.22, Ground Truth: 18.40\n",
      "Index:39, Infer Result: 14.15, Ground Truth: 15.40\n",
      "Index:40, Infer Result: 13.12, Ground Truth: 10.80\n",
      "Index:41, Infer Result: 12.83, Ground Truth: 11.80\n",
      "Index:42, Infer Result: 14.02, Ground Truth: 14.90\n",
      "Index:43, Infer Result: 14.28, Ground Truth: 12.60\n",
      "Index:44, Infer Result: 14.20, Ground Truth: 14.10\n",
      "Index:45, Infer Result: 13.96, Ground Truth: 13.00\n",
      "Index:46, Infer Result: 13.44, Ground Truth: 13.40\n",
      "Index:47, Infer Result: 14.33, Ground Truth: 15.20\n",
      "Index:48, Infer Result: 14.39, Ground Truth: 16.10\n",
      "Index:49, Infer Result: 14.78, Ground Truth: 17.80\n",
      "Index:50, Infer Result: 13.33, Ground Truth: 14.90\n",
      "Index:51, Infer Result: 13.53, Ground Truth: 14.10\n",
      "Index:52, Infer Result: 13.08, Ground Truth: 12.70\n",
      "Index:53, Infer Result: 13.31, Ground Truth: 13.50\n",
      "Index:54, Infer Result: 14.26, Ground Truth: 14.90\n",
      "Index:55, Infer Result: 14.63, Ground Truth: 20.00\n",
      "Index:56, Infer Result: 14.28, Ground Truth: 16.40\n",
      "Index:57, Infer Result: 14.69, Ground Truth: 17.70\n",
      "Index:58, Infer Result: 14.81, Ground Truth: 19.50\n",
      "Index:59, Infer Result: 15.05, Ground Truth: 20.20\n",
      "Index:60, Infer Result: 15.28, Ground Truth: 21.40\n",
      "Index:61, Infer Result: 15.09, Ground Truth: 19.90\n",
      "Index:62, Infer Result: 13.48, Ground Truth: 19.00\n",
      "Index:63, Infer Result: 14.17, Ground Truth: 19.10\n",
      "Index:64, Infer Result: 14.85, Ground Truth: 19.10\n",
      "Index:65, Infer Result: 15.31, Ground Truth: 20.10\n",
      "Index:66, Infer Result: 14.98, Ground Truth: 19.90\n",
      "Index:67, Infer Result: 15.31, Ground Truth: 19.60\n",
      "Index:68, Infer Result: 15.38, Ground Truth: 23.20\n",
      "Index:69, Infer Result: 15.78, Ground Truth: 29.80\n",
      "Index:70, Infer Result: 14.19, Ground Truth: 13.80\n",
      "Index:71, Infer Result: 13.91, Ground Truth: 13.30\n",
      "Index:72, Infer Result: 14.69, Ground Truth: 16.70\n",
      "Index:73, Infer Result: 13.50, Ground Truth: 12.00\n",
      "Index:74, Infer Result: 14.51, Ground Truth: 14.60\n",
      "Index:75, Infer Result: 15.03, Ground Truth: 21.40\n",
      "Index:76, Infer Result: 15.88, Ground Truth: 23.00\n",
      "Index:77, Infer Result: 16.16, Ground Truth: 23.70\n",
      "Index:78, Infer Result: 16.33, Ground Truth: 25.00\n",
      "Index:79, Infer Result: 16.05, Ground Truth: 21.80\n",
      "Index:80, Infer Result: 15.63, Ground Truth: 20.60\n",
      "Index:81, Infer Result: 15.93, Ground Truth: 21.20\n",
      "Index:82, Infer Result: 15.10, Ground Truth: 19.10\n",
      "Index:83, Infer Result: 15.66, Ground Truth: 20.60\n",
      "Index:84, Infer Result: 16.09, Ground Truth: 15.20\n",
      "Index:85, Infer Result: 15.40, Ground Truth: 7.00\n",
      "Index:86, Infer Result: 14.76, Ground Truth: 8.10\n",
      "Index:87, Infer Result: 16.22, Ground Truth: 13.60\n",
      "Index:88, Infer Result: 16.82, Ground Truth: 20.10\n",
      "Index:89, Infer Result: 20.30, Ground Truth: 21.80\n",
      "Index:90, Infer Result: 20.46, Ground Truth: 24.50\n",
      "Index:91, Infer Result: 20.25, Ground Truth: 23.10\n",
      "Index:92, Infer Result: 19.19, Ground Truth: 19.70\n",
      "Index:93, Infer Result: 19.93, Ground Truth: 18.30\n",
      "Index:94, Infer Result: 20.20, Ground Truth: 21.20\n",
      "Index:95, Infer Result: 19.71, Ground Truth: 17.50\n",
      "Index:96, Infer Result: 19.88, Ground Truth: 16.80\n",
      "Index:97, Infer Result: 21.37, Ground Truth: 22.40\n",
      "Index:98, Infer Result: 21.10, Ground Truth: 20.60\n",
      "Index:99, Infer Result: 21.52, Ground Truth: 23.90\n",
      "Index:100, Infer Result: 21.39, Ground Truth: 22.00\n",
      "Index:101, Infer Result: 21.08, Ground Truth: 11.90\n"
     ]
    },
    {
     "data": {
      "image/png": "[encoded data removed]",
      "text/plain": [
       "<Figure size 432x288 with 1 Axes>"
      ]
     },
     "metadata": {},
     "output_type": "display_data"
    }
   ],
   "source": [
    "import paddle\r\n",
    "import numpy as np\r\n",
    "import matplotlib.pyplot as plt\r\n",
    "\r\n",
    "\r\n",
    "valid_dataset = paddle.text.UCIHousing(mode='test')\r\n",
    "infer_loader = paddle.io.DataLoader(valid_dataset, batch_size=200)\r\n",
    "\r\n",
    "infer_net = paddle.nn.Linear(13, 1)\r\n",
    "param = paddle.load('fit_a_line.pdparams')\r\n",
    "infer_net.set_dict(param)\r\n",
    "\r\n",
    "\r\n",
    "data = next(infer_loader())\r\n",
    "inputs = paddle.to_tensor(data[0])\r\n",
    "results = infer_net(inputs)\r\n",
    "\r\n",
    "for idx, item in enumerate(zip(results, data[1])):\r\n",
    "    print(\"Index:%d, Infer Result: %.2f, Ground Truth: %.2f\" % (idx, item[0], item[1]))\r\n",
    "    infer_results.append(item[0].numpy()[0])\r\n",
    "    groud_truths.append(item[1].numpy()[0])\r\n",
    "    \r\n",
    "draw_infer_result(groud_truths, infer_results)"
   ]
  },
  {
   "cell_type": "markdown",
   "metadata": {
    "collapsed": false
   },
   "source": [
    "到这里你已经学会了PaddlePaddle的基本命令和第一个小例子！恭喜你已经入门啦~ 如果想学习更多入门内容欢迎查看AI Studio 上的更多内容，有精选项目，也有优质课程，加油哦！\n",
    "\n",
    "NLP12日打卡营即将开始，你准备好了吗！"
   ]
  }
 ],
 "metadata": {
  "kernelspec": {
   "display_name": "PaddlePaddle 2.1.0 (Python 3.5)",
   "language": "python",
   "name": "py35-paddle1.2.0"
  },
  "language_info": {
   "codemirror_mode": {
    "name": "ipython",
    "version": 3
   },
   "file_extension": ".py",
   "mimetype": "text/x-python",
   "name": "python",
   "nbconvert_exporter": "python",
   "pygments_lexer": "ipython3",
   "version": "3.7.4"
  }
 },
 "nbformat": 4,
 "nbformat_minor": 1
}
