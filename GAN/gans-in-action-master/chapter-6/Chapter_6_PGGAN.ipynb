{
  "nbformat": 4,
  "nbformat_minor": 0,
  "metadata": {
    "colab": {
      "name": "Chapter_6_PGGAN.ipynb",
      "version": "0.3.2",
      "provenance": []
    },
    "kernelspec": {
      "name": "python3",
      "display_name": "Python 3"
    }
  },
  "cells": [
    {
      "metadata": {
        "id": "qemhV7pDIkxu",
        "colab_type": "text"
      },
      "cell_type": "markdown",
      "source": [
        "# Chapter 6: Progressive GAN\n",
        "\n",
        "\n",
        "\n",
        "This Colab / Ipython notebook will walk you through:\n",
        "1. The code we have seen in the chapter:\n",
        "\n",
        "  1.1 Progressive Growing & Smoothing in of Higher Resolution Layers\n",
        "  \n",
        "  1.2 Minibatch Standard Deviation\n",
        "  \n",
        "  1.3 Equalized Learning Rate\n",
        "  \n",
        "  1.4 Pixel-wise Feature Normalization\n",
        "2. Using TensorFlow Hub to download models that generate 128x128 images as we did in the chapter.\n",
        "3. Extend on this code by looking at what the TF Hub team provide as starter code.\n",
        "\n",
        "--- \n",
        "Let's now start with the imports to write out the pseudo-code from the chapter.\n",
        "\n",
        "## 1.1  Progressive Growing & Smoothing in of Higher Resolution Layers\n",
        "\n",
        "\n",
        "We will start with the smoothly merging the parametric upscale and the learned upscale. This is the key to progressive growing, becuase this is the way we \"transfer-learn\" the lower resolution paramaters onto the higher resolution parameters. This is the key difference between PGGANs and e.g. Laplacian pyramids, if you're familiar."
      ]
    },
    {
      "metadata": {
        "id": "6rccvXYjJYVj",
        "colab_type": "code",
        "colab": {
          "base_uri": "https://localhost:8080/",
          "height": 34
        },
        "outputId": "55d08e12-9533-4349-9576-8238ba80d329"
      },
      "cell_type": "code",
      "source": [
        "import tensorflow as tf\n",
        "import keras as K"
      ],
      "execution_count": 2,
      "outputs": [
        {
          "output_type": "stream",
          "text": [
            "Using TensorFlow backend.\n"
          ],
          "name": "stderr"
        }
      ]
    },
    {
      "metadata": {
        "id": "mXBC1L15JpGS",
        "colab_type": "code",
        "colab": {}
      },
      "cell_type": "code",
      "source": [
        "def upscale_layer(layer, upscale_factor):\n",
        "\t'''\n",
        "\tUpscales layer (tensor) by the factor (int) where\n",
        "      the tensor is [group, height, width, channels]\n",
        "\t'''\n",
        "\theight, width = layer.get_shape()[1:3]\n",
        "\tsize = (scale * height, scale * width)\n",
        "\tupscaled_layer = tf.image.resize_nearest_neighbor(layer, size)\n",
        "\treturn upscaled_layer\n",
        "\n",
        "def smoothly_merge_last_layer(list_of_layers, alpha):\n",
        "\t'''\n",
        "\tSmoothly merges in a layer based on a threshold value alpha.\n",
        "\tThis function assumes: that all layers are already in RGB. \n",
        "\tThis is the function for the Generator.\n",
        "\t:list_of_layers\t:\titems should be tensors ordered by size\n",
        "\t:alpha \t\t\t: \tfloat \\in (0,1)\n",
        "\t'''\n",
        "\t# Hint!\n",
        "  # If you are using pure Tensorflow rather than Keras, always remember scope\n",
        "\tlast_fully_trained_layer = list_of_layers[-2]\n",
        "\t# now we have the originally trained layer\n",
        "\tlast_layer_upscaled = upscale_layer(last_fully_trained_layer, 2)\n",
        "\n",
        "\t# this is the newly added layer not yet fully trained\n",
        "\tlarger_native_layer = list_of_layers[-1]\n",
        "\n",
        "\t# This makes sure we can run the merging code\n",
        "\tassert larger_native_layer.get_shape() == last_layer_upscaled.get_shape()\n",
        "\n",
        "\t# This code block should take advantage of broadcasting\n",
        "\tnew_layer = (1-alpha) * upscaled_layer + larger_native_layer * alpha\n",
        "\n",
        "\treturn new_layer"
      ],
      "execution_count": 0,
      "outputs": []
    },
    {
      "metadata": {
        "id": "xKItWVh9JX1E",
        "colab_type": "text"
      },
      "cell_type": "markdown",
      "source": [
        "## 1.2 Minibatch standard deviation\n",
        "This is explained in much more detail in the book, but simply recall that this is a way to inform the discriminator about how varied the samples in this batch are, so that we avoid mode collapse."
      ]
    },
    {
      "metadata": {
        "id": "ZKFHGp2JJ6eP",
        "colab_type": "code",
        "colab": {}
      },
      "cell_type": "code",
      "source": [
        "def minibatch_std_layer(layer, group_size=4):\n",
        "  '''\n",
        "  Will calculate minibatch standard deviation for a layer.\n",
        "  Will do so under a pre-specified tf-scope with Keras.\n",
        "  Assumes layer is a float32 data type. Else needs validation/casting.\n",
        "  NOTE: there is a more efficient way to do this in Keras, but just for\n",
        "  clarity and alignment with major implementations (for understanding) \n",
        "  this was done more explicitly. Try this as an exercise.\n",
        "  '''\n",
        "  # Hint!\n",
        "  # If you are using pure Tensorflow rather than Keras, always remember scope\n",
        "  # minibatch group must be divisible by (or <=) group_size\n",
        "  group_size = K.backend.minimum(group_size, tf.shape(layer)[0])\n",
        "\n",
        "        # just getting some shape information so that we can use\n",
        "  # them as shorthand as well as to ensure defaults\n",
        "  s = list(K.int_shape(input))\n",
        "  s[0] = tf.shape(input)[0]\n",
        "\n",
        "  # Reshaping so that we operate on the level of the minibatch\n",
        "  # in this code we assume the layer to be:\n",
        "  # [Group (G), Minibatch (M), Width (W), Height (H) , Channel (C)]\n",
        "  # but be careful different implementations use the Theano specific\n",
        "  # order instead\n",
        "  minibatch = K.backend.reshape(layer, (group_size, -1, s[1], s[2], s[3]))\n",
        "\n",
        "  # Center the mean over the group [M, W, H, C]\n",
        "  minibatch -= tf.reduce_mean(minibatch, axis=0, keepdims=True)\n",
        "  # Calculate the variance of the group [M, W, H, C]\n",
        "  minibatch = tf.reduce_mean(K.backend.square(minibatch), axis = 0)\n",
        "  # Calculate the standard deviation over the group [M,W,H,C]\n",
        "  minibatch = K.backend.square(minibatch + 1e8)\n",
        "  # Take average over feature maps and pixels [M,1,1,1]\n",
        "  minibatch = tf.reduce_mean(minibatch, axis=[1,2,4], keepdims=True)\n",
        "  # Add as a layer for each group and pixels\n",
        "  minibatch = K.backend.tile(minibatch, [group_size, 1, s[2], s[3]])\n",
        "  # Append as a new feature map\n",
        "  return K.backend.concatenate([layer, minibatch], axis=1)"
      ],
      "execution_count": 0,
      "outputs": []
    },
    {
      "metadata": {
        "id": "VZsSqJG0Ls2x",
        "colab_type": "text"
      },
      "cell_type": "markdown",
      "source": [
        "## 1.3 Equalized Learning Rate\n",
        "This is one of the dark arts parts of the paper. For now, we would treat this simply as an empirical trick that seems to fix the observed problems."
      ]
    },
    {
      "metadata": {
        "id": "hhk-CdXyLn40",
        "colab_type": "code",
        "colab": {}
      },
      "cell_type": "code",
      "source": [
        "def equalize_learning_rate(shape, gain, fan_in=None):\n",
        "    '''\n",
        "    This adjusts the weights of every layer by the constant from He's initializer so that we adjust for the variance in the dynamic range in different features\n",
        "    shape   :   shape of tensor (layer): [kernel, kernel, \n",
        "                height, feature_maps]\n",
        "    gain    :   typically sqrt(2)\n",
        "    fan_in  :   adjustment for the number of incoming connections as per Xavier's / He's initialization \n",
        "    '''\n",
        "    # Default value is product of all the shape dimension minus the feature maps dim -- this gives us the number of incoming connections per neuron\n",
        "    if fan_in is None: fan_in = np.prod(shape[:-1])\n",
        "    # This uses He's initialization constant (He et al, 2015)\n",
        "    std = gain / K.sqrt(fan_in)\n",
        "    # creates a constant out of the adjustment\n",
        "    wscale = K.constant(std, name='wscale', dtype=np.float32)\n",
        "    # gets values for weights and then uses broadcasting to apply the adjustment\n",
        "    adjusted_weights = K.get_value('layer', shape=shape, \n",
        "            initializer=tf.initializers.random_normal()) * wscale\n",
        "    return adjusted_weights"
      ],
      "execution_count": 0,
      "outputs": []
    },
    {
      "metadata": {
        "id": "OarE2BrfMU1C",
        "colab_type": "text"
      },
      "cell_type": "markdown",
      "source": [
        "## 1.4 Pixel-wise Feature Normalization \n",
        "Again, this is explained more thoroughly in the chapter. But as you can see, the code to code itself is quite short:"
      ]
    },
    {
      "metadata": {
        "id": "_NbYKH9BMUMb",
        "colab_type": "code",
        "colab": {}
      },
      "cell_type": "code",
      "source": [
        "def pxielwise_feat_norm(inputs, **kwargs):\n",
        "\t'''\n",
        "\tUses pixelwise feature normalization as proposed by\n",
        "\tKrizhevsky et at. 2012. Returns the input normalized\n",
        "\t:inputs \t: \tKeras / TF Layers \n",
        "\t'''\n",
        "\tnormalization_constant = K.backend.sqrt(K.backend.mean(\n",
        "\t\t\t\t\tinputs**2, axis=-1, keepdims=True) + 1.0e-8)\n",
        "\treturn inputs / normalization_constant"
      ],
      "execution_count": 0,
      "outputs": []
    },
    {
      "metadata": {
        "id": "elcNOk7nNeAE",
        "colab_type": "text"
      },
      "cell_type": "markdown",
      "source": [
        "# 2 Running our own PGGAN\n",
        "Below we can see an example of a generated 128x128 face in just a few lines of code with no training required!"
      ]
    },
    {
      "metadata": {
        "id": "hsa6eWBWIkal",
        "colab_type": "code",
        "colab": {
          "base_uri": "https://localhost:8080/",
          "height": 418
        },
        "outputId": "fb0929e0-7258-4de6-f4c7-6706b0985d1b"
      },
      "cell_type": "code",
      "source": [
        "import matplotlib.pyplot as plt\n",
        "import tensorflow as tf\n",
        "import tensorflow_hub as hub\n",
        "\n",
        "with tf.Graph().as_default():\n",
        "    # import the progressive GAN from TFHub\n",
        "    module = hub.Module(\"https://tfhub.dev/google/progan-128/1\")\n",
        "    # latent dimension that gets \n",
        "    latent_dim = 512\n",
        "\n",
        "    # Change the seed to get different faces.\n",
        "    latent_vector = tf.random_normal([1, latent_dim], seed=1337)\n",
        "\n",
        "    # Uses module to generate images from the latent space.\n",
        "    interpolated_images = module(latent_vector)\n",
        "\n",
        "    # runs the tensorflow session and gets back the image in shape (1,128,128,3)\n",
        "    with tf.Session() as session:\n",
        "      session.run(tf.global_variables_initializer())\n",
        "      image_out = session.run(interpolated_images)\n",
        "\n",
        "plt.imshow(image_out.reshape(128,128,3))\n",
        "plt.show()"
      ],
      "execution_count": 25,
      "outputs": [
        {
          "output_type": "stream",
          "text": [
            "INFO:tensorflow:Using /tmp/tfhub_modules to cache modules.\n",
            "INFO:tensorflow:Downloading TF-Hub Module 'https://tfhub.dev/google/progan-128/1'.\n",
            "INFO:tensorflow:Downloaded TF-Hub Module 'https://tfhub.dev/google/progan-128/1'.\n",
            "INFO:tensorflow:Saver not created because there are no variables in the graph to restore\n"
          ],
          "name": "stdout"
        },
        {
          "output_type": "display_data",
          "data": {
            "image/png": "[encoded data removed]",
            "text/plain": [
              "<matplotlib.figure.Figure at 0x7fb07dd23400>"
            ]
          },
          "metadata": {
            "tags": []
          }
        }
      ]
    },
    {
      "metadata": {
        "id": "q3NdSD8fPH8v",
        "colab_type": "text"
      },
      "cell_type": "markdown",
      "source": [
        "## 3. Extending on the PGGAN\n",
        "Here we are including more elaborate examples that were not covered in the chapter, but can give you a sense of the potential uses and hopefully give you some ideas on more advanced applications.\n",
        "\n",
        "The rest of the code comes from the TensorFlow Hub Authors."
      ]
    },
    {
      "metadata": {
        "colab_type": "text",
        "id": "N6ZDpd9XzFeN"
      },
      "cell_type": "markdown",
      "source": [
        "##### Copyright 2018 The TensorFlow Hub Authors.\n",
        "\n",
        "\n",
        "Licensed under the Apache License, Version 2.0 (the \"License\");"
      ]
    },
    {
      "metadata": {
        "cellView": "form",
        "colab_type": "code",
        "id": "KUu4vOt5zI9d",
        "colab": {}
      },
      "cell_type": "code",
      "source": [
        "#@title\n",
        "# Copyright 2018 The TensorFlow Hub Authors. All Rights Reserved.\n",
        "#\n",
        "# Licensed under the Apache License, Version 2.0 (the \"License\");\n",
        "# you may not use this file except in compliance with the License.\n",
        "# You may obtain a copy of the License at\n",
        "#\n",
        "#     http://www.apache.org/licenses/LICENSE-2.0\n",
        "#\n",
        "# Unless required by applicable law or agreed to in writing, software\n",
        "# distributed under the License is distributed on an \"AS IS\" BASIS,\n",
        "# WITHOUT WARRANTIES OR CONDITIONS OF ANY KIND, either express or implied.\n",
        "# See the License for the specific language governing permissions and\n",
        "# limitations under the License.\n",
        "# =============================================================================="
      ],
      "execution_count": 0,
      "outputs": []
    },
    {
      "metadata": {
        "colab_type": "text",
        "id": "CxmDMK4yupqg"
      },
      "cell_type": "markdown",
      "source": [
        "# TF-Hub generative image model\n",
        "\n",
        "Note: You can run this notebook [live in Colab](https://colab.research.google.com/github/tensorflow/hub/blob/master/examples/colab/tf_hub_generative_image_module.ipynb) with zero setup.\n",
        "\n",
        "This Colab demonstrates use of a TF-Hub module based on a generative adversarial network (GAN). The module maps from N-dimensional vectors, called latent space, to RGB images.\n",
        "\n",
        "Two examples are provided:\n",
        "* **Mapping** from latent space to images, and\n",
        "* Given a target image, **using gradient descent to find** a latent vector that generates an image similar to the target image."
      ]
    },
    {
      "metadata": {
        "colab_type": "code",
        "id": "KNM3kA0arrUu",
        "colab": {}
      },
      "cell_type": "code",
      "source": [
        "# Install the latest Tensorflow version.\n",
        "!pip install --quiet \"tensorflow>=1.7\"\n",
        "# Install TF-Hub.\n",
        "!pip install tensorflow-hub\n",
        "# Install imageio for creating animations.  \n",
        "!pip install imageio"
      ],
      "execution_count": 0,
      "outputs": []
    },
    {
      "metadata": {
        "cellView": "form",
        "colab_type": "code",
        "id": "6cPY9Ou4sWs_",
        "colab": {}
      },
      "cell_type": "code",
      "source": [
        "#@title Imports and function definitions\n",
        "\n",
        "import imageio\n",
        "import matplotlib.pyplot as plt\n",
        "import numpy as np\n",
        "import tensorflow as tf\n",
        "import tensorflow_hub as hub\n",
        "import time\n",
        "from google.colab import files\n",
        "from IPython import display\n",
        "from skimage import transform\n",
        "\n",
        "# We could retrieve this value from module.get_input_shapes() if we didn't know\n",
        "# beforehand which module we will be using.\n",
        "latent_dim = 512\n",
        "\n",
        "\n",
        "# Interpolates between two vectors that are non-zero and don't both lie on a\n",
        "# line going through origin. First normalizes v2 to have the same norm as v1. \n",
        "# Then interpolates between the two vectors on the hypersphere.\n",
        "def interpolate_hypersphere(v1, v2, num_steps):\n",
        "  v1_norm = tf.norm(v1)\n",
        "  v2_norm = tf.norm(v2)\n",
        "  v2_normalized = v2 * (v1_norm / v2_norm)\n",
        "\n",
        "  vectors = []\n",
        "  for step in range(num_steps):\n",
        "    interpolated = v1 + (v2_normalized - v1) * step / (num_steps - 1)\n",
        "    interpolated_norm = tf.norm(interpolated)\n",
        "    interpolated_normalized = interpolated * (v1_norm / interpolated_norm)\n",
        "    vectors.append(interpolated_normalized)\n",
        "  return tf.stack(vectors)\n",
        "\n",
        "\n",
        "# Given a set of images, show an animation.\n",
        "def animate(images):\n",
        "  converted_images = np.clip(images * 255, 0, 255).astype(np.uint8)\n",
        "  imageio.mimsave('./animation.gif', converted_images)\n",
        "  with open('./animation.gif','rb') as f:\n",
        "      display.display(display.Image(data=f.read(), height=300))\n",
        "\n",
        "\n",
        "# Simple way to display an image.\n",
        "def display_image(image):\n",
        "  plt.figure()\n",
        "  plt.axis(\"off\")\n",
        "  plt.imshow(image)\n",
        "\n",
        "\n",
        "# Display multiple images in the same figure.\n",
        "def display_images(images, captions=None):\n",
        "  num_horizontally = 5\n",
        "  f, axes = plt.subplots(\n",
        "      len(images) / num_horizontally, num_horizontally, figsize=(20, 20))\n",
        "  for i in range(len(images)):\n",
        "    axes[i / num_horizontally, i % num_horizontally].axis(\"off\")\n",
        "    if captions is not None:\n",
        "      axes[i / num_horizontally, i % num_horizontally].text(0, -3, captions[i])\n",
        "    axes[i / num_horizontally, i % num_horizontally].imshow(images[i])\n",
        "  f.tight_layout()\n",
        "\n",
        "tf.logging.set_verbosity(tf.logging.ERROR)"
      ],
      "execution_count": 0,
      "outputs": []
    },
    {
      "metadata": {
        "colab_type": "text",
        "id": "f5EESfBvukYI"
      },
      "cell_type": "markdown",
      "source": [
        "## Latent space interpolation"
      ]
    },
    {
      "metadata": {
        "colab_type": "text",
        "id": "nJb9gFmRvynZ"
      },
      "cell_type": "markdown",
      "source": [
        "### Random vectors\n",
        "\n",
        "Latent space interpolation between two randomly initialized vectors. We will use a TF-Hub module [progan-128](https://tfhub.dev/google/progan-128/1) that contains a pre-trained Progressive GAN."
      ]
    },
    {
      "metadata": {
        "colab_type": "code",
        "id": "fZ0O5_5Jhwio",
        "colab": {}
      },
      "cell_type": "code",
      "source": [
        "def interpolate_between_vectors():\n",
        "  with tf.Graph().as_default():\n",
        "    module = hub.Module(\"https://tfhub.dev/google/progan-128/1\")\n",
        "\n",
        "    # Change the seed to get different random vectors.\n",
        "    v1 = tf.random_normal([latent_dim], seed=3)\n",
        "    v2 = tf.random_normal([latent_dim], seed=1)\n",
        "    \n",
        "    # Creates a tensor with 50 steps of interpolation between v1 and v2.\n",
        "    vectors = interpolate_hypersphere(v1, v2, 25)\n",
        "\n",
        "    # Uses module to generate images from the latent space.\n",
        "    interpolated_images = module(vectors)\n",
        "\n",
        "    with tf.Session() as session:\n",
        "      session.run(tf.global_variables_initializer())\n",
        "      interpolated_images_out = session.run(interpolated_images)\n",
        "\n",
        "    animate(interpolated_images_out)\n",
        "\n",
        "interpolate_between_vectors()"
      ],
      "execution_count": 0,
      "outputs": []
    },
    {
      "metadata": {
        "colab_type": "text",
        "id": "L9-uXoTHuXQC"
      },
      "cell_type": "markdown",
      "source": [
        "## Finding closest vector in latent space\n",
        "Fix a target image. As an example use an image generated from the module or upload your own."
      ]
    },
    {
      "metadata": {
        "cellView": "form",
        "colab_type": "code",
        "id": "phT4W66pMmko",
        "colab": {}
      },
      "cell_type": "code",
      "source": [
        "image_from_module_space = True  # @param { isTemplate:true, type:\"boolean\" }\n",
        "\n",
        "def get_module_space_image():\n",
        "  with tf.Graph().as_default():\n",
        "    module = hub.Module(\"https://tfhub.dev/google/progan-128/1\")\n",
        "    vector = tf.random_normal([1, latent_dim], seed=4)\n",
        "    images = module(vector)\n",
        "\n",
        "    with tf.Session() as session:\n",
        "      session.run(tf.global_variables_initializer())\n",
        "      image_out = session.run(images)[0]\n",
        "  return image_out\n",
        "\n",
        "def upload_image():\n",
        "  uploaded = files.upload()\n",
        "  image = imageio.imread(uploaded[uploaded.keys()[0]])\n",
        "  return transform.resize(image, [128, 128])\n",
        "\n",
        "if image_from_module_space:\n",
        "  target_image = get_module_space_image()\n",
        "else:\n",
        "  target_image = upload_image()\n",
        "display_image(target_image)"
      ],
      "execution_count": 0,
      "outputs": []
    },
    {
      "metadata": {
        "colab_type": "text",
        "id": "rBIt3Q4qvhuq"
      },
      "cell_type": "markdown",
      "source": [
        "After defining a loss function between the target image and the image generated by a latent space variable, we can use gradient descent to find variable values that minimize the loss."
      ]
    },
    {
      "metadata": {
        "colab_type": "code",
        "id": "q_4Z7tnyg-ZY",
        "colab": {}
      },
      "cell_type": "code",
      "source": [
        "def find_closest_latent_vector(num_optimization_steps):\n",
        "  images = []\n",
        "  losses = []\n",
        "  with tf.Graph().as_default():\n",
        "    module = hub.Module(\"https://tfhub.dev/google/progan-128/1\")\n",
        "\n",
        "    initial_vector = tf.random_normal([1, latent_dim], seed=5)\n",
        "\n",
        "    vector = tf.get_variable(\"vector\", initializer=initial_vector)\n",
        "    image = module(vector)\n",
        "\n",
        "    target_image_difference = tf.reduce_sum(\n",
        "        tf.losses.absolute_difference(image[0], target_image[:,:,:3]))\n",
        "\n",
        "    # The latent vectors were sampled from a normal distribution. We can get\n",
        "    # more realistic images if we regularize the length of the latent vector to \n",
        "    # the average length of vector from this distribution.\n",
        "    regularizer = tf.abs(tf.norm(vector) - np.sqrt(latent_dim))\n",
        "    \n",
        "    loss = target_image_difference + regularizer\n",
        "    \n",
        "    optimizer = tf.train.AdamOptimizer(learning_rate=0.3)\n",
        "    train = optimizer.minimize(loss)\n",
        "\n",
        "    with tf.Session() as session:\n",
        "      session.run(tf.global_variables_initializer())\n",
        "      for _ in range(num_optimization_steps):\n",
        "        _, loss_out, im_out = session.run([train, loss, image])\n",
        "        images.append(im_out[0])\n",
        "        losses.append(loss_out)\n",
        "        print loss_out\n",
        "    return images, losses\n",
        "\n",
        "\n",
        "result = find_closest_latent_vector(num_optimization_steps=40)\n",
        "display_images(result[0], [(\"Loss: %.2f\" % loss) for loss in result[1]])"
      ],
      "execution_count": 0,
      "outputs": []
    },
    {
      "metadata": {
        "colab_type": "text",
        "id": "tDt15dLsJwMy"
      },
      "cell_type": "markdown",
      "source": [
        "### Playing with the above example\n",
        "If image is from the module space, the descent is quick and converges to a reasonable sample. Try out descending to an image that is **not from the module space**. The descent will only converge if the image is reasonably close to the space of training images.\n",
        "\n",
        "How to make it descend faster and to a more realistic image? One can try:\n",
        "* using different loss on the image difference, e.g. quadratic,\n",
        "* using different regularizer on the latent vector,\n",
        "* initializing from a random vector in multiple runs,\n",
        "* etc.\n"
      ]
    }
  ]
}