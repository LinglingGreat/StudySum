{
 "cells": [
  {
   "cell_type": "markdown",
   "metadata": {},
   "source": [
    "# Chapter 7: Semi-Supervised GAN"
   ]
  },
  {
   "cell_type": "code",
   "execution_count": 1,
   "metadata": {
    "collapsed": false
   },
   "outputs": [
    {
     "name": "stderr",
     "output_type": "stream",
     "text": [
      "Using TensorFlow backend.\n"
     ]
    }
   ],
   "source": [
    "%matplotlib inline\n",
    "\n",
    "from keras import backend as K\n",
    "\n",
    "from keras.datasets import mnist\n",
    "from keras.layers import Input, Dense, Reshape, Flatten, Dropout, Lambda\n",
    "from keras.layers import BatchNormalization, Activation\n",
    "from keras.layers.advanced_activations import LeakyReLU\n",
    "from keras.layers.convolutional import Conv2D, Conv2DTranspose\n",
    "from keras.models import Sequential, Model\n",
    "from keras.optimizers import Adam\n",
    "from keras.utils import to_categorical\n",
    "\n",
    "import matplotlib.pyplot as plt\n",
    "import numpy as np"
   ]
  },
  {
   "cell_type": "markdown",
   "metadata": {},
   "source": [
    "## Dataset"
   ]
  },
  {
   "cell_type": "code",
   "execution_count": 2,
   "metadata": {
    "collapsed": true
   },
   "outputs": [],
   "source": [
    "class Dataset:\n",
    "    def __init__(self, num_labeled):\n",
    "        \n",
    "        # Number of examples to use as labeled for training\n",
    "        self.num_labeled = num_labeled\n",
    "        \n",
    "        # Load the MNIST dataset\n",
    "        (self.x_train, self.y_train), (self.x_test, self.y_test) = mnist.load_data()\n",
    "        \n",
    "        def preprocess_imgs(x):\n",
    "            # Rescale to (-1, 1)\n",
    "            x = (x.astype(np.float32) - 127.5) / 127.5\n",
    "            # Expand image dimensions to width x height x channels\n",
    "            x = np.expand_dims(x, axis=3)\n",
    "            return x\n",
    "\n",
    "        def preprocess_labels(y):\n",
    "            return y.reshape(-1, 1)\n",
    "     \n",
    "        # Training data\n",
    "        self.x_train = preprocess_imgs(self.x_train)\n",
    "        self.y_train = preprocess_labels(self.y_train)\n",
    "        \n",
    "        # Testing data\n",
    "        self.x_test = preprocess_imgs(self.x_test)\n",
    "        self.y_test = preprocess_labels(self.y_test)\n",
    "\n",
    "    def batch_labeled(self, batch_size):\n",
    "        # Get a random batch of labeled images and their labels\n",
    "        idx = np.random.randint(0, self.num_labeled, batch_size)\n",
    "        imgs = self.x_train[idx]\n",
    "        labels = self.y_train[idx]\n",
    "        return imgs, labels\n",
    "    \n",
    "    def batch_unlabeled(self, batch_size):\n",
    "        # Get a random batch of unlabeled images\n",
    "        idx = np.random.randint(self.num_labeled, self.x_train.shape[0], batch_size)\n",
    "        imgs = self.x_train[idx]\n",
    "        return imgs\n",
    "    \n",
    "    def training_set(self):\n",
    "        x_train = self.x_train[range(self.num_labeled)]\n",
    "        y_train = self.y_train[range(self.num_labeled)]\n",
    "        return x_train, y_train\n",
    "    \n",
    "    def test_set(self):\n",
    "        return self.x_test, self.y_test"
   ]
  },
  {
   "cell_type": "code",
   "execution_count": 4,
   "metadata": {
    "collapsed": false
   },
   "outputs": [
    {
     "name": "stdout",
     "output_type": "stream",
     "text": [
      "Downloading data from https://s3.amazonaws.com/img-datasets/mnist.npz\n",
      "11493376/11490434 [==============================] - 2s 0us/step\n"
     ]
    }
   ],
   "source": [
    "num_labeled = 100\n",
    "\n",
    "dataset = Dataset(num_labeled)"
   ]
  },
  {
   "cell_type": "markdown",
   "metadata": {},
   "source": [
    "# Semi-Supervied GAN"
   ]
  },
  {
   "cell_type": "code",
   "execution_count": 5,
   "metadata": {
    "collapsed": true
   },
   "outputs": [],
   "source": [
    "img_rows = 28\n",
    "img_cols = 28\n",
    "channels = 1\n",
    "img_shape = (img_rows, img_cols, channels)\n",
    "\n",
    "z_dim = 100\n",
    "\n",
    "num_classes = 10"
   ]
  },
  {
   "cell_type": "markdown",
   "metadata": {},
   "source": [
    "## Generator"
   ]
  },
  {
   "cell_type": "code",
   "execution_count": 6,
   "metadata": {
    "collapsed": true
   },
   "outputs": [],
   "source": [
    "def build_generator(img_shape, z_dim):\n",
    "\n",
    "    model = Sequential()\n",
    "\n",
    "    # Reshape input into 7x7x256 tensor via a fully connected layer\n",
    "    model.add(Dense(256 * 7 * 7, input_dim=z_dim))\n",
    "    model.add(Reshape((7, 7, 256)))\n",
    "\n",
    "    # Transposed convolution layer, from 7x7x256 into 14x14x128 tensor\n",
    "    model.add(Conv2DTranspose(\n",
    "                128, kernel_size=3, strides=2, padding='same'))\n",
    "\n",
    "    # Batch normalization\n",
    "    model.add(BatchNormalization())\n",
    "\n",
    "    # Leaky ReLU\n",
    "    model.add(LeakyReLU(alpha=0.01))\n",
    "    \n",
    "    # Transposed convolution layer, from 14x14x128 to 14x14x64 tensor\n",
    "    model.add(Conv2DTranspose(\n",
    "                64, kernel_size=3, strides=1, padding='same'))\n",
    "\n",
    "    # Batch normalization\n",
    "    model.add(BatchNormalization())\n",
    "\n",
    "    # Leaky ReLU\n",
    "    model.add(LeakyReLU(alpha=0.01))\n",
    "    \n",
    "    # Transposed convolution layer, from 14x14x64 to 28x28x1 tensor\n",
    "    model.add(Conv2DTranspose(\n",
    "                1, kernel_size=3, strides=2, padding='same'))\n",
    "\n",
    "    # Tanh activation\n",
    "    model.add(Activation('tanh'))\n",
    "\n",
    "    z = Input(shape=(z_dim,))\n",
    "    img = model(z)\n",
    "\n",
    "    return Model(z, img)"
   ]
  },
  {
   "cell_type": "markdown",
   "metadata": {},
   "source": [
    "## Discriminator"
   ]
  },
  {
   "cell_type": "code",
   "execution_count": 7,
   "metadata": {
    "collapsed": true
   },
   "outputs": [],
   "source": [
    "def build_discriminator_net(img_shape):\n",
    "    \n",
    "    model = Sequential()\n",
    "\n",
    "    # Convolutional layer, from 28x28x1 into 14x14x32 tensor\n",
    "    model.add(Conv2D(32, kernel_size=3, strides=2, \n",
    "                             input_shape=img_shape, padding='same'))\n",
    "\n",
    "    # Leaky ReLU\n",
    "    model.add(LeakyReLU(alpha=0.01))\n",
    "\n",
    "    # Convolutional layer, from 14x14x32 into 7x7x64 tensor\n",
    "    model.add(Conv2D(64, kernel_size=3, strides=2, \n",
    "                             input_shape=img_shape, padding='same'))\n",
    "    \n",
    "    # Batch normalization\n",
    "    model.add(BatchNormalization())\n",
    "    \n",
    "    # Leaky ReLU\n",
    "    model.add(LeakyReLU(alpha=0.01))\n",
    "    \n",
    "    # Convolutional layer, from 7x7x64 tensor into 3x3x128 tensor\n",
    "    model.add(Conv2D(128, kernel_size=3, strides=2, \n",
    "                             input_shape=img_shape, padding='same'))\n",
    "    \n",
    "    # Batch normalization\n",
    "    model.add(BatchNormalization())\n",
    "    \n",
    "    # Leaky ReLU\n",
    "    model.add(LeakyReLU(alpha=0.01))\n",
    "    \n",
    "    # Droupout\n",
    "    model.add(Dropout(0.5))\n",
    "    \n",
    "    # Flatten the tensor \n",
    "    model.add(Flatten())\n",
    "    \n",
    "    # Fully connected layer with num_classes neurons\n",
    "    model.add(Dense(num_classes))\n",
    "    \n",
    "    return model"
   ]
  },
  {
   "cell_type": "code",
   "execution_count": 8,
   "metadata": {
    "collapsed": true
   },
   "outputs": [],
   "source": [
    "def build_discriminator_supervised(discriminator_net):\n",
    "    \n",
    "    model = Sequential()\n",
    "    \n",
    "    model.add(discriminator_net)\n",
    "    \n",
    "    # Softmax giving probability distribution over the real classes\n",
    "    model.add(Activation('softmax'))\n",
    "    \n",
    "    return model"
   ]
  },
  {
   "cell_type": "code",
   "execution_count": 9,
   "metadata": {
    "collapsed": true
   },
   "outputs": [],
   "source": [
    "def build_discriminator_unsupervised(discriminator_net):\n",
    "    \n",
    "    model = Sequential()\n",
    "    \n",
    "    model.add(discriminator_net)\n",
    "    \n",
    "    def predict(x):\n",
    "        # Transform distribution over real classes into a binary real-vs-fake probability\n",
    "        prediction = 1.0 - (1.0 / (K.sum(K.exp(x), axis=-1, keepdims=True) + 1.0))\n",
    "        return prediction\n",
    "    \n",
    "    # Add the 'real-vs-fake' output neuron defined above\n",
    "    model.add(Lambda(predict))\n",
    "    \n",
    "    return model"
   ]
  },
  {
   "cell_type": "markdown",
   "metadata": {},
   "source": [
    "## Build the Model"
   ]
  },
  {
   "cell_type": "code",
   "execution_count": 10,
   "metadata": {
    "collapsed": true
   },
   "outputs": [],
   "source": [
    "# -------------------------\n",
    "#  Build the Discriminator\n",
    "# -------------------------\n",
    "\n",
    "discriminator_net = build_discriminator_net(img_shape)\n",
    "\n",
    "# Compile the Discriminator for supervised training\n",
    "discriminator_supervised = build_discriminator_supervised(discriminator_net)\n",
    "discriminator_supervised.compile(\n",
    "    loss='categorical_crossentropy', metrics=['accuracy'], optimizer=Adam())\n",
    "\n",
    "# Compile the Discriminator for unsupervised training\n",
    "discriminator_unsupervised = build_discriminator_unsupervised(discriminator_net)\n",
    "discriminator_unsupervised.compile(loss='binary_crossentropy', optimizer=Adam())\n",
    "\n",
    "# ---------------------\n",
    "#  Build the Generator\n",
    "# ---------------------\n",
    "\n",
    "generator = build_generator(img_shape, z_dim)\n",
    "\n",
    "# Keep Discriminator’s parameters constant for Generator training\n",
    "discriminator_unsupervised.trainable = False\n",
    "\n",
    "# Combined GAN model with fixed Discriminator to train the Generator\n",
    "def combined(generator, discriminator):\n",
    "    model = Sequential()\n",
    "    model.add(generator)\n",
    "    model.add(discriminator)\n",
    "    return model\n",
    "\n",
    "combined = combined(generator, discriminator_unsupervised)\n",
    "combined.compile(loss='binary_crossentropy', optimizer=Adam())"
   ]
  },
  {
   "cell_type": "markdown",
   "metadata": {},
   "source": [
    "## Training"
   ]
  },
  {
   "cell_type": "code",
   "execution_count": 11,
   "metadata": {
    "collapsed": true
   },
   "outputs": [],
   "source": [
    "d_accuracies = []\n",
    "d_losses = []\n",
    "\n",
    "def train(iterations, batch_size, sample_interval):\n",
    "    \n",
    "    # Labels for real and fake examples\n",
    "    real = np.ones((batch_size, 1))\n",
    "    fake = np.zeros((batch_size, 1))\n",
    "\n",
    "    for iteration in range(iterations):\n",
    "        \n",
    "        # -------------------------\n",
    "        #  Train the Discriminator\n",
    "        # -------------------------\n",
    "        \n",
    "        # Labeled examples\n",
    "        imgs, labels = dataset.batch_labeled(batch_size)\n",
    "        \n",
    "        # One-hot encode labels\n",
    "        labels = to_categorical(labels, num_classes=num_classes)\n",
    "\n",
    "        # Unlabeled examples\n",
    "        imgs_unlabeled = dataset.batch_unlabeled(batch_size)\n",
    "\n",
    "        # Generate a batch of fake images\n",
    "        z = np.random.normal(0, 1, (batch_size, z_dim))\n",
    "        gen_imgs = generator.predict(z)\n",
    "        \n",
    "        # Train on real labeled examples\n",
    "        d_loss_supervised, accuracy = discriminator_supervised.train_on_batch(imgs, labels)\n",
    "        \n",
    "        # Train on real unlabeled examples\n",
    "        d_loss_real = discriminator_unsupervised.train_on_batch(imgs_unlabeled, real)\n",
    "           \n",
    "        # Train on fake examples\n",
    "        d_loss_fake = discriminator_unsupervised.train_on_batch(gen_imgs, fake)\n",
    "        \n",
    "        d_loss_unsupervised = 0.5 * np.add(d_loss_real, d_loss_fake)\n",
    "        \n",
    "        # ---------------------\n",
    "        #  Train the Generator\n",
    "        # ---------------------\n",
    "        \n",
    "        # Generate a batch of fake images\n",
    "        z = np.random.normal(0, 1, (batch_size, z_dim))\n",
    "        gen_imgs = generator.predict(z)\n",
    "\n",
    "        # Train Generator\n",
    "        g_loss = combined.train_on_batch(z, np.ones((batch_size, 1)))\n",
    "        \n",
    "        # Save Discriminator supervised classification loss and accuracy to be plotted after training\n",
    "        d_losses.append(d_loss_supervised)\n",
    "        d_accuracies.append(accuracy)\n",
    "        \n",
    "        if iteration % sample_interval == 0:\n",
    "            # Output training progress\n",
    "            print (\"%d [D loss supervised: %.4f, acc.: %.2f%%] [D loss unsupervised: %.4f] [G loss: %f]\" % \n",
    "                   (iteration, d_loss_supervised, 100 * accuracy, d_loss_unsupervised, g_loss))"
   ]
  },
  {
   "cell_type": "markdown",
   "metadata": {},
   "source": [
    "## Train the Model and Inspect Output"
   ]
  },
  {
   "cell_type": "code",
   "execution_count": 12,
   "metadata": {
    "collapsed": true
   },
   "outputs": [],
   "source": [
    "# Suppress warnings because the warning Keras gives us about non-trainable parameters is by design:\n",
    "# The Generator trainable parameters are intentionally held constant during Discriminator training and vice versa\n",
    "import warnings; warnings.simplefilter('ignore')"
   ]
  },
  {
   "cell_type": "code",
   "execution_count": 13,
   "metadata": {
    "collapsed": false,
    "scrolled": true
   },
   "outputs": [
    {
     "name": "stdout",
     "output_type": "stream",
     "text": [
      "0 [D loss supervised: 3.2362, acc.: 3.12%] [D loss unsupervised: 1.7303] [G loss: 0.043378]\n",
      "800 [D loss supervised: 0.0018, acc.: 100.00%] [D loss unsupervised: 0.2510] [G loss: 5.724998]\n",
      "1600 [D loss supervised: 0.0005, acc.: 100.00%] [D loss unsupervised: 0.2163] [G loss: 5.001273]\n",
      "2400 [D loss supervised: 0.0005, acc.: 100.00%] [D loss unsupervised: 0.1772] [G loss: 3.554047]\n",
      "3200 [D loss supervised: 0.0012, acc.: 100.00%] [D loss unsupervised: 0.1978] [G loss: 5.677108]\n",
      "4000 [D loss supervised: 0.0003, acc.: 100.00%] [D loss unsupervised: 0.1704] [G loss: 4.383439]\n",
      "4800 [D loss supervised: 0.0002, acc.: 100.00%] [D loss unsupervised: 0.5801] [G loss: 2.624807]\n",
      "5600 [D loss supervised: 0.0000, acc.: 100.00%] [D loss unsupervised: 0.0621] [G loss: 6.756843]\n",
      "6400 [D loss supervised: 0.0013, acc.: 100.00%] [D loss unsupervised: 0.0889] [G loss: 5.201848]\n",
      "7200 [D loss supervised: 0.0001, acc.: 100.00%] [D loss unsupervised: 0.1398] [G loss: 6.124498]\n"
     ]
    }
   ],
   "source": [
    "iterations = 8000\n",
    "batch_size = 32\n",
    "sample_interval = 800\n",
    "\n",
    "# Train the SGAN for the specified number of iterations\n",
    "train(iterations, batch_size, sample_interval)"
   ]
  },
  {
   "cell_type": "code",
   "execution_count": 14,
   "metadata": {
    "collapsed": false
   },
   "outputs": [
    {
     "data": {
      "text/plain": [
       "<matplotlib.legend.Legend at 0x7f8c381de5c0>"
      ]
     },
     "execution_count": 14,
     "metadata": {},
     "output_type": "execute_result"
    },
    {
     "data": {
      "image/png": "[encoded data removed]",
      "text/plain": [
       "<Figure size 720x360 with 1 Axes>"
      ]
     },
     "metadata": {},
     "output_type": "display_data"
    }
   ],
   "source": [
    "# Plot Discriminator supervised loss\n",
    "plt.figure(figsize=(10,5))\n",
    "plt.plot(np.array(d_losses), label=\"Loss\")\n",
    "plt.title(\"Discriminator – Supervised Loss\")\n",
    "plt.legend()"
   ]
  },
  {
   "cell_type": "code",
   "execution_count": 15,
   "metadata": {
    "collapsed": false
   },
   "outputs": [
    {
     "data": {
      "text/plain": [
       "<matplotlib.legend.Legend at 0x7f8c38118da0>"
      ]
     },
     "execution_count": 15,
     "metadata": {},
     "output_type": "execute_result"
    },
    {
     "data": {
      "image/png": "[encoded data removed]",
      "text/plain": [
       "<Figure size 720x360 with 1 Axes>"
      ]
     },
     "metadata": {},
     "output_type": "display_data"
    }
   ],
   "source": [
    "# Plot Discriminator accuracy\n",
    "plt.figure(figsize=(10,5))\n",
    "plt.plot(np.array(d_accuracies), label=\"Accuracy\")\n",
    "plt.title(\"Discriminator – Supervised Classification Accuracy\")\n",
    "plt.legend()"
   ]
  },
  {
   "cell_type": "markdown",
   "metadata": {},
   "source": [
    "## SGAN Classifier – Training and Test Accuracy "
   ]
  },
  {
   "cell_type": "code",
   "execution_count": 16,
   "metadata": {
    "collapsed": false
   },
   "outputs": [
    {
     "name": "stdout",
     "output_type": "stream",
     "text": [
      "100/100 [==============================] - 0s 2ms/step\n",
      "Training Accuracy: 100.00%\n"
     ]
    }
   ],
   "source": [
    "x, y = dataset.training_set()\n",
    "y = to_categorical(y, num_classes=num_classes)\n",
    "\n",
    "# Compute classification accuracy on the training set\n",
    "_, accuracy = discriminator_supervised.evaluate(x, y)\n",
    "print(\"Training Accuracy: %.2f%%\" % (100 * accuracy))"
   ]
  },
  {
   "cell_type": "code",
   "execution_count": 17,
   "metadata": {
    "collapsed": false
   },
   "outputs": [
    {
     "name": "stdout",
     "output_type": "stream",
     "text": [
      "10000/10000 [==============================] - 1s 81us/step\n",
      "Test Accuracy: 88.87%\n"
     ]
    }
   ],
   "source": [
    "x, y = dataset.test_set()\n",
    "y = to_categorical(y, num_classes=num_classes)\n",
    "\n",
    "# Compute classification accuracy on the test set\n",
    "_, accuracy = discriminator_supervised.evaluate(x, y)\n",
    "print(\"Test Accuracy: %.2f%%\" % (100 * accuracy))"
   ]
  },
  {
   "cell_type": "markdown",
   "metadata": {},
   "source": [
    "---"
   ]
  },
  {
   "cell_type": "markdown",
   "metadata": {},
   "source": [
    "# Fully-Supervised Classifier"
   ]
  },
  {
   "cell_type": "code",
   "execution_count": 18,
   "metadata": {
    "collapsed": true
   },
   "outputs": [],
   "source": [
    "# Fully supervised classifier with the same network architecture as the SGAN Discriminator\n",
    "mnist_classifier = build_discriminator_supervised(build_discriminator_net(img_shape))\n",
    "mnist_classifier.compile(\n",
    "            loss='categorical_crossentropy', metrics=['accuracy'], optimizer=Adam())"
   ]
  },
  {
   "cell_type": "code",
   "execution_count": 19,
   "metadata": {
    "collapsed": false
   },
   "outputs": [
    {
     "name": "stdout",
     "output_type": "stream",
     "text": [
      "Epoch 1/50\n",
      "100/100 [==============================] - 1s 8ms/step - loss: 2.7313 - acc: 0.1800\n",
      "Epoch 2/50\n",
      "100/100 [==============================] - 0s 315us/step - loss: 1.2495 - acc: 0.6000\n",
      "Epoch 3/50\n",
      "100/100 [==============================] - 0s 323us/step - loss: 0.7313 - acc: 0.8300\n",
      "Epoch 4/50\n",
      "100/100 [==============================] - 0s 305us/step - loss: 0.4006 - acc: 0.9000\n",
      "Epoch 5/50\n",
      "100/100 [==============================] - 0s 307us/step - loss: 0.3271 - acc: 0.9300\n",
      "Epoch 6/50\n",
      "100/100 [==============================] - 0s 315us/step - loss: 0.2153 - acc: 0.9600\n",
      "Epoch 7/50\n",
      "100/100 [==============================] - 0s 367us/step - loss: 0.1599 - acc: 0.9800\n",
      "Epoch 8/50\n",
      "100/100 [==============================] - 0s 323us/step - loss: 0.0983 - acc: 1.0000\n",
      "Epoch 9/50\n",
      "100/100 [==============================] - 0s 325us/step - loss: 0.1129 - acc: 0.9800\n",
      "Epoch 10/50\n",
      "100/100 [==============================] - 0s 302us/step - loss: 0.0839 - acc: 0.9900\n",
      "Epoch 11/50\n",
      "100/100 [==============================] - 0s 320us/step - loss: 0.0537 - acc: 1.0000\n",
      "Epoch 12/50\n",
      "100/100 [==============================] - 0s 328us/step - loss: 0.0654 - acc: 0.9900\n",
      "Epoch 13/50\n",
      "100/100 [==============================] - 0s 327us/step - loss: 0.0486 - acc: 0.9900\n",
      "Epoch 14/50\n",
      "100/100 [==============================] - 0s 319us/step - loss: 0.0375 - acc: 1.0000\n",
      "Epoch 15/50\n",
      "100/100 [==============================] - 0s 332us/step - loss: 0.0233 - acc: 1.0000\n",
      "Epoch 16/50\n",
      "100/100 [==============================] - 0s 317us/step - loss: 0.0181 - acc: 1.0000\n",
      "Epoch 17/50\n",
      "100/100 [==============================] - 0s 317us/step - loss: 0.0179 - acc: 1.0000\n",
      "Epoch 18/50\n",
      "100/100 [==============================] - 0s 318us/step - loss: 0.0140 - acc: 1.0000\n",
      "Epoch 19/50\n",
      "100/100 [==============================] - 0s 324us/step - loss: 0.0142 - acc: 1.0000\n",
      "Epoch 20/50\n",
      "100/100 [==============================] - 0s 316us/step - loss: 0.0106 - acc: 1.0000\n",
      "Epoch 21/50\n",
      "100/100 [==============================] - 0s 315us/step - loss: 0.0133 - acc: 1.0000\n",
      "Epoch 22/50\n",
      "100/100 [==============================] - 0s 322us/step - loss: 0.0115 - acc: 1.0000\n",
      "Epoch 23/50\n",
      "100/100 [==============================] - 0s 332us/step - loss: 0.0114 - acc: 1.0000\n",
      "Epoch 24/50\n",
      "100/100 [==============================] - 0s 323us/step - loss: 0.0120 - acc: 1.0000\n",
      "Epoch 25/50\n",
      "100/100 [==============================] - 0s 324us/step - loss: 0.0070 - acc: 1.0000\n",
      "Epoch 26/50\n",
      "100/100 [==============================] - 0s 330us/step - loss: 0.0090 - acc: 1.0000\n",
      "Epoch 27/50\n",
      "100/100 [==============================] - 0s 322us/step - loss: 0.0066 - acc: 1.0000\n",
      "Epoch 28/50\n",
      "100/100 [==============================] - 0s 348us/step - loss: 0.0111 - acc: 1.0000\n",
      "Epoch 29/50\n",
      "100/100 [==============================] - 0s 345us/step - loss: 0.0115 - acc: 1.0000\n",
      "Epoch 30/50\n",
      "100/100 [==============================] - 0s 329us/step - loss: 0.0045 - acc: 1.0000\n",
      "Epoch 31/50\n",
      "100/100 [==============================] - 0s 329us/step - loss: 0.0053 - acc: 1.0000\n",
      "Epoch 32/50\n",
      "100/100 [==============================] - 0s 334us/step - loss: 0.0072 - acc: 1.0000\n",
      "Epoch 33/50\n",
      "100/100 [==============================] - 0s 330us/step - loss: 0.0043 - acc: 1.0000\n",
      "Epoch 34/50\n",
      "100/100 [==============================] - 0s 311us/step - loss: 0.0038 - acc: 1.0000\n",
      "Epoch 35/50\n",
      "100/100 [==============================] - 0s 307us/step - loss: 0.0039 - acc: 1.0000\n",
      "Epoch 36/50\n",
      "100/100 [==============================] - 0s 312us/step - loss: 0.0028 - acc: 1.0000\n",
      "Epoch 37/50\n",
      "100/100 [==============================] - 0s 382us/step - loss: 0.0038 - acc: 1.0000\n",
      "Epoch 38/50\n",
      "100/100 [==============================] - 0s 333us/step - loss: 0.0041 - acc: 1.0000\n",
      "Epoch 39/50\n",
      "100/100 [==============================] - 0s 349us/step - loss: 0.0026 - acc: 1.0000\n",
      "Epoch 40/50\n",
      "100/100 [==============================] - 0s 339us/step - loss: 0.0048 - acc: 1.0000\n",
      "Epoch 41/50\n",
      "100/100 [==============================] - 0s 321us/step - loss: 0.0034 - acc: 1.0000\n",
      "Epoch 42/50\n",
      "100/100 [==============================] - 0s 320us/step - loss: 0.0026 - acc: 1.0000\n",
      "Epoch 43/50\n",
      "100/100 [==============================] - 0s 321us/step - loss: 0.0029 - acc: 1.0000\n",
      "Epoch 44/50\n",
      "100/100 [==============================] - 0s 319us/step - loss: 0.0042 - acc: 1.0000\n",
      "Epoch 45/50\n",
      "100/100 [==============================] - 0s 318us/step - loss: 0.0023 - acc: 1.0000\n",
      "Epoch 46/50\n",
      "100/100 [==============================] - 0s 320us/step - loss: 0.0024 - acc: 1.0000\n",
      "Epoch 47/50\n",
      "100/100 [==============================] - 0s 336us/step - loss: 0.0031 - acc: 1.0000\n",
      "Epoch 48/50\n",
      "100/100 [==============================] - 0s 322us/step - loss: 0.0038 - acc: 1.0000\n",
      "Epoch 49/50\n",
      "100/100 [==============================] - 0s 314us/step - loss: 0.0023 - acc: 1.0000\n",
      "Epoch 50/50\n",
      "100/100 [==============================] - 0s 323us/step - loss: 0.0030 - acc: 1.0000\n"
     ]
    }
   ],
   "source": [
    "imgs, labels = dataset.training_set()\n",
    "\n",
    "# One-hot encode labels\n",
    "labels = to_categorical(labels, num_classes=num_classes)\n",
    "\n",
    "# Train the classifier\n",
    "training = mnist_classifier.fit(x=imgs, y=labels, batch_size=32, epochs=50, verbose=1)\n",
    "losses = training.history['loss']\n",
    "accuracies = training.history['acc']"
   ]
  },
  {
   "cell_type": "code",
   "execution_count": 20,
   "metadata": {
    "collapsed": false
   },
   "outputs": [
    {
     "data": {
      "text/plain": [
       "<matplotlib.legend.Legend at 0x7f8c04296278>"
      ]
     },
     "execution_count": 20,
     "metadata": {},
     "output_type": "execute_result"
    },
    {
     "data": {
      "image/png": "[encoded data removed]",
      "text/plain": [
       "<Figure size 720x360 with 1 Axes>"
      ]
     },
     "metadata": {},
     "output_type": "display_data"
    }
   ],
   "source": [
    "# Plot classification loss\n",
    "plt.figure(figsize=(10,5))\n",
    "plt.plot(np.array(losses), label=\"Loss\")\n",
    "plt.title(\"Classification Loss\")\n",
    "plt.legend()"
   ]
  },
  {
   "cell_type": "code",
   "execution_count": 21,
   "metadata": {
    "collapsed": false
   },
   "outputs": [
    {
     "data": {
      "text/plain": [
       "<matplotlib.legend.Legend at 0x7f8c042d6cc0>"
      ]
     },
     "execution_count": 21,
     "metadata": {},
     "output_type": "execute_result"
    },
    {
     "data": {
      "image/png": "[encoded data removed]",
      "text/plain": [
       "<Figure size 720x360 with 1 Axes>"
      ]
     },
     "metadata": {},
     "output_type": "display_data"
    }
   ],
   "source": [
    "# Plot classification accuracy\n",
    "plt.figure(figsize=(10,5))\n",
    "plt.plot(np.array(accuracies), label=\"Accuracy\")\n",
    "plt.title(\"Classification Accuracy\")\n",
    "plt.legend()"
   ]
  },
  {
   "cell_type": "code",
   "execution_count": 22,
   "metadata": {
    "collapsed": false
   },
   "outputs": [
    {
     "name": "stdout",
     "output_type": "stream",
     "text": [
      "100/100 [==============================] - 0s 2ms/step\n",
      "Training Accuracy: 100.00%\n"
     ]
    }
   ],
   "source": [
    "x, y = dataset.training_set()\n",
    "y = to_categorical(y, num_classes=num_classes)\n",
    "\n",
    "# Compute classification accuracy on the training set\n",
    "_, accuracy = mnist_classifier.evaluate(x, y)\n",
    "print(\"Training Accuracy: %.2f%%\" % (100 * accuracy))"
   ]
  },
  {
   "cell_type": "code",
   "execution_count": 23,
   "metadata": {
    "collapsed": false
   },
   "outputs": [
    {
     "name": "stdout",
     "output_type": "stream",
     "text": [
      "10000/10000 [==============================] - 1s 82us/step\n",
      "Test Accuracy: 70.07%\n"
     ]
    }
   ],
   "source": [
    "x, y = dataset.test_set()\n",
    "y = to_categorical(y, num_classes=num_classes)\n",
    "\n",
    "# Compute classification accuracy on the test set\n",
    "_, accuracy = mnist_classifier.evaluate(x, y)\n",
    "print(\"Test Accuracy: %.2f%%\" % (100 * accuracy))"
   ]
  },
  {
   "cell_type": "markdown",
   "metadata": {},
   "source": [
    "---"
   ]
  }
 ],
 "metadata": {
  "kernelspec": {
   "display_name": "Python 3",
   "language": "python",
   "name": "python3"
  },
  "language_info": {
   "codemirror_mode": {
    "name": "ipython",
    "version": 3
   },
   "file_extension": ".py",
   "mimetype": "text/x-python",
   "name": "python",
   "nbconvert_exporter": "python",
   "pygments_lexer": "ipython3",
   "version": "3.6.0"
  }
 },
 "nbformat": 4,
 "nbformat_minor": 2
}
