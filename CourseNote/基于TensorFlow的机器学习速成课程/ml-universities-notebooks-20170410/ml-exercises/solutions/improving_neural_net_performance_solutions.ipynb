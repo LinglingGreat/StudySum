{
 "cells": [
  {
   "cell_type": "markdown",
   "metadata": {},
   "source": [
    "# Improving Neural Net Performance - Solutions"
   ]
  },
  {
   "cell_type": "code",
   "execution_count": null,
   "metadata": {
    "collapsed": true
   },
   "outputs": [],
   "source": [
    "import math\n",
    "\n",
    "from IPython import display\n",
    "from matplotlib import cm\n",
    "from matplotlib import gridspec\n",
    "from matplotlib import pyplot as plt\n",
    "import numpy as np\n",
    "import pandas as pd\n",
    "from sklearn import metrics\n",
    "import tensorflow as tf\n",
    "from tensorflow.contrib.learn.python.learn import learn_io\n",
    "\n",
    "tf.logging.set_verbosity(tf.logging.ERROR)\n",
    "pd.options.display.max_rows = 10\n",
    "pd.options.display.float_format = '{:.1f}'.format\n",
    "\n",
    "california_housing_dataframe = pd.read_csv(\"https://storage.googleapis.com/ml_universities/california_housing_train.csv\", sep=\",\")\n",
    "\n",
    "california_housing_dataframe = california_housing_dataframe.reindex(\n",
    "    np.random.permutation(california_housing_dataframe.index))"
   ]
  },
  {
   "cell_type": "code",
   "execution_count": null,
   "metadata": {
    "collapsed": true
   },
   "outputs": [],
   "source": [
    "def preprocess_features(california_housing_dataframe):\n",
    "  \"\"\"Prepares input features from California housing data set.\n",
    "\n",
    "  Args:\n",
    "    california_housing_dataframe: A Pandas DataFrame expected to contain data\n",
    "      from the California housing data set.\n",
    "  Returns:\n",
    "    A DataFrame that contains the features to be used for the model, including\n",
    "    synthetic features.\n",
    "  \"\"\"\n",
    "  selected_features = california_housing_dataframe[\n",
    "    [\"latitude\",\n",
    "     \"longitude\",\n",
    "     \"housing_median_age\",\n",
    "     \"total_rooms\",\n",
    "     \"total_bedrooms\",\n",
    "     \"population\",\n",
    "     \"households\",\n",
    "     \"median_income\"]]\n",
    "  processed_features = selected_features.copy()\n",
    "  # Create a synthetic feature.\n",
    "  processed_features[\"rooms_per_person\"] = (\n",
    "    california_housing_dataframe[\"total_rooms\"] /\n",
    "    california_housing_dataframe[\"population\"])\n",
    "  return processed_features\n",
    "\n",
    "def preprocess_targets(california_housing_dataframe):\n",
    "  \"\"\"Prepares target features (i.e., labels) from California housing data set.\n",
    "\n",
    "  Args:\n",
    "    california_housing_dataframe: A Pandas DataFrame expected to contain data\n",
    "      from the California housing data set.\n",
    "  Returns:\n",
    "    A DataFrame that contains the target feature.\n",
    "  \"\"\"\n",
    "  output_targets = pd.DataFrame()\n",
    "  # Scale the target to be in units of thousands of dollars.\n",
    "  output_targets[\"median_house_value\"] = (\n",
    "    california_housing_dataframe[\"median_house_value\"] / 1000.0)\n",
    "  return output_targets"
   ]
  },
  {
   "cell_type": "code",
   "execution_count": null,
   "metadata": {
    "collapsed": true
   },
   "outputs": [],
   "source": [
    "training_examples = preprocess_features(california_housing_dataframe.head(12000))\n",
    "training_targets = preprocess_targets(california_housing_dataframe.head(12000))\n",
    "validation_examples = preprocess_features(california_housing_dataframe.tail(5000))\n",
    "validation_targets = preprocess_targets(california_housing_dataframe.tail(5000))"
   ]
  },
  {
   "cell_type": "code",
   "execution_count": null,
   "metadata": {
    "collapsed": true
   },
   "outputs": [],
   "source": [
    "def train_nn_regression_model(\n",
    "    optimizer,\n",
    "    steps,\n",
    "    batch_size,\n",
    "    hidden_units,\n",
    "    training_examples,\n",
    "    training_targets,\n",
    "    validation_examples,\n",
    "    validation_targets):\n",
    "  \"\"\"Trains a neural network regression model of one feature.\n",
    "  \n",
    "  In addition to training, this function also prints training progress information,\n",
    "  as well as a plot of the training and validation loss over time.\n",
    "  \n",
    "  Args:\n",
    "    optimizer: An instance of `tf.train.Optimizer`, specifying the optimization\n",
    "      algorithm and learning rate.\n",
    "    steps: A non-zero `int`, specifying the total number of training steps. A training\n",
    "      step consists of a forward and backward pass using a single batch.\n",
    "    batch_size: A non-zero `int`, the batch size.\n",
    "    hidden_units: A `list` of int values, specifying the number of neurons in each layer.\n",
    "    training_examples: A `DataFrame` containing one or more columns from\n",
    "      `california_housing_dataframe` to use as input features for training.\n",
    "    training_targets: A `DataFrame` containing exactly one column from\n",
    "      `california_housing_dataframe` to use as target for training.\n",
    "    validation_examples: A `DataFrame` containing one or more columns from\n",
    "      `california_housing_dataframe` to use as input features for validation.\n",
    "    validation_targets: A `DataFrame` containing exactly one column from\n",
    "      `california_housing_dataframe` to use as target for validation.\n",
    "      \n",
    "  Returns:\n",
    "    A tuple `(estimator, training_losses, validation_losses):\n",
    "      estimator: the trained `DNNRegressor` object.\n",
    "      training_losses: a `list` containing the training loss values taken during training.\n",
    "      validation_losses: a `list` containing the validation loss values taken during training.\n",
    "  \"\"\"\n",
    "\n",
    "  periods = 10\n",
    "  steps_per_period = steps / periods\n",
    "\n",
    "  # Create a linear regressor object.\n",
    "  feature_columns = set([tf.contrib.layers.real_valued_column(my_feature) for my_feature in training_examples])\n",
    "  dnn_regressor = tf.contrib.learn.DNNRegressor(\n",
    "      feature_columns=feature_columns,\n",
    "      hidden_units=hidden_units,\n",
    "      optimizer=optimizer,\n",
    "      gradient_clip_norm=5.0\n",
    "  )\n",
    "  \n",
    "  # Create input functions\n",
    "  training_input_fn = learn_io.pandas_input_fn(\n",
    "     x=training_examples, y=training_targets[\"median_house_value\"],\n",
    "     num_epochs=None, batch_size=batch_size)\n",
    "  predict_training_input_fn = learn_io.pandas_input_fn(\n",
    "     x=training_examples, y=training_targets[\"median_house_value\"],\n",
    "     num_epochs=1, shuffle=False)\n",
    "  predict_validation_input_fn = learn_io.pandas_input_fn(\n",
    "      x=validation_examples, y=validation_targets[\"median_house_value\"],\n",
    "      num_epochs=1, shuffle=False)\n",
    "\n",
    "  # Train the model, but do so inside a loop so that we can periodically assess\n",
    "  # loss metrics.\n",
    "  print \"Training model...\"\n",
    "  print \"RMSE (on training data):\"\n",
    "  training_rmse = []\n",
    "  validation_rmse = []\n",
    "  for period in range (0, periods):\n",
    "    # Train the model, starting from the prior state.\n",
    "    dnn_regressor.fit(\n",
    "        input_fn=training_input_fn,\n",
    "        steps=steps_per_period\n",
    "    )\n",
    "    # Take a break and compute predictions.\n",
    "    training_predictions = list(dnn_regressor.predict(input_fn=predict_training_input_fn))\n",
    "    validation_predictions = list(dnn_regressor.predict(input_fn=predict_validation_input_fn))\n",
    "    # Compute training and validation loss.\n",
    "    training_root_mean_squared_error = math.sqrt(\n",
    "        metrics.mean_squared_error(training_predictions, training_targets))\n",
    "    validation_root_mean_squared_error = math.sqrt(\n",
    "        metrics.mean_squared_error(validation_predictions, validation_targets))\n",
    "    # Occasionally print the current loss.\n",
    "    print \"  period %02d : %0.2f\" % (period, training_root_mean_squared_error)\n",
    "    # Add the loss metrics from this period to our list.\n",
    "    training_rmse.append(training_root_mean_squared_error)\n",
    "    validation_rmse.append(validation_root_mean_squared_error)\n",
    "  print \"Model training finished.\"\n",
    "\n",
    "  # Output a graph of loss metrics over periods.\n",
    "  plt.ylabel(\"RMSE\")\n",
    "  plt.xlabel(\"Periods\")\n",
    "  plt.title(\"Root Mean Squared Error vs. Periods\")\n",
    "  plt.tight_layout()\n",
    "  plt.plot(training_rmse, label=\"training\")\n",
    "  plt.plot(validation_rmse, label=\"validation\")\n",
    "  plt.legend()\n",
    "\n",
    "  print \"Final RMSE (on training data):   %0.2f\" % training_root_mean_squared_error\n",
    "  print \"Final RMSE (on validation data): %0.2f\" % validation_root_mean_squared_error\n",
    "\n",
    "  return dnn_regressor, training_rmse, validation_rmse"
   ]
  },
  {
   "cell_type": "code",
   "execution_count": null,
   "metadata": {
    "collapsed": true
   },
   "outputs": [],
   "source": [
    "def linear_scale(series):\n",
    "  min_val = series.min()\n",
    "  max_val = series.max()\n",
    "  scale = (max_val - min_val) / 2.0\n",
    "  return series.apply(lambda x:((x - min_val) / scale) - 1.0)"
   ]
  },
  {
   "cell_type": "markdown",
   "metadata": {},
   "source": [
    "### Solution to Task 1\n",
    "Since normalization uses min and max, we have to ensure it's done on the entire dataset at once. We can do that here because all our data is in a single DataFrame. If we had multiple data sets, a good practice would be to derive the normalization parameters from the training set and apply those identically to the test set."
   ]
  },
  {
   "cell_type": "code",
   "execution_count": null,
   "metadata": {
    "collapsed": false
   },
   "outputs": [],
   "source": [
    "def normalize_linear_scale(examples_dataframe):\n",
    "  \"\"\"Returns a version of the input `DataFrame` that has all its features normalized linearly.\"\"\"\n",
    "  processed_features = pd.DataFrame()\n",
    "  processed_features[\"latitude\"] = linear_scale(examples_dataframe[\"latitude\"])\n",
    "  processed_features[\"longitude\"] = linear_scale(examples_dataframe[\"longitude\"])\n",
    "  processed_features[\"housing_median_age\"] = linear_scale(examples_dataframe[\"housing_median_age\"])\n",
    "  processed_features[\"total_rooms\"] = linear_scale(examples_dataframe[\"total_rooms\"])\n",
    "  processed_features[\"total_bedrooms\"] = linear_scale(examples_dataframe[\"total_bedrooms\"])\n",
    "  processed_features[\"population\"] = linear_scale(examples_dataframe[\"population\"])\n",
    "  processed_features[\"households\"] = linear_scale(examples_dataframe[\"households\"])\n",
    "  processed_features[\"median_income\"] = linear_scale(examples_dataframe[\"median_income\"])\n",
    "  processed_features[\"rooms_per_person\"] = linear_scale(examples_dataframe[\"rooms_per_person\"])\n",
    "  return processed_features\n",
    "\n",
    "normalized_dataframe = normalize_linear_scale(preprocess_features(california_housing_dataframe))\n",
    "normalized_training_examples = normalized_dataframe.head(12000)\n",
    "normalized_validation_examples = normalized_dataframe.tail(5000)\n",
    "\n",
    "_ = train_nn_regression_model(\n",
    "    optimizer=tf.train.GradientDescentOptimizer(learning_rate=0.005),\n",
    "    steps=2000,\n",
    "    batch_size=50,\n",
    "    hidden_units=[10, 10],\n",
    "    training_examples=normalized_training_examples,\n",
    "    training_targets=training_targets,\n",
    "    validation_examples=normalized_validation_examples,\n",
    "    validation_targets=validation_targets)"
   ]
  },
  {
   "cell_type": "markdown",
   "metadata": {},
   "source": [
    "### Solution to Task 2\n",
    "First, let's try Adagrad."
   ]
  },
  {
   "cell_type": "code",
   "execution_count": null,
   "metadata": {
    "collapsed": false
   },
   "outputs": [],
   "source": [
    "_, adagrad_training_losses, adagrad_validation_losses = train_nn_regression_model(\n",
    "    optimizer=tf.train.AdagradOptimizer(learning_rate=0.5),\n",
    "    steps=500,\n",
    "    batch_size=100,\n",
    "    hidden_units=[10, 10],\n",
    "    training_examples=normalized_training_examples,\n",
    "    training_targets=training_targets,\n",
    "    validation_examples=normalized_validation_examples,\n",
    "    validation_targets=validation_targets)"
   ]
  },
  {
   "cell_type": "markdown",
   "metadata": {},
   "source": [
    "Now let's try Adam."
   ]
  },
  {
   "cell_type": "code",
   "execution_count": null,
   "metadata": {
    "collapsed": false
   },
   "outputs": [],
   "source": [
    "_, adam_training_losses, adam_validation_losses = train_nn_regression_model(\n",
    "    optimizer=tf.train.AdamOptimizer(learning_rate=0.009),\n",
    "    steps=500,\n",
    "    batch_size=100,\n",
    "    hidden_units=[10, 10],\n",
    "    training_examples=normalized_training_examples,\n",
    "    training_targets=training_targets,\n",
    "    validation_examples=normalized_validation_examples,\n",
    "    validation_targets=validation_targets)"
   ]
  },
  {
   "cell_type": "markdown",
   "metadata": {},
   "source": [
    "Let's print a graph of loss metrics side by side."
   ]
  },
  {
   "cell_type": "code",
   "execution_count": null,
   "metadata": {
    "collapsed": false
   },
   "outputs": [],
   "source": [
    "plt.ylabel(\"RMSE\")\n",
    "plt.xlabel(\"Periods\")\n",
    "plt.title(\"Root Mean Squared Error vs. Periods\")\n",
    "plt.plot(adagrad_training_losses, label='Adagrad training')\n",
    "plt.plot(adagrad_validation_losses, label='Adagrad validation')\n",
    "plt.plot(adam_training_losses, label='Adam training')\n",
    "plt.plot(adam_validation_losses, label='Adam validation')\n",
    "_ = plt.legend()"
   ]
  },
  {
   "cell_type": "markdown",
   "metadata": {},
   "source": [
    "### Solution to Task 3\n",
    "These are only a few ways in which we could think about the data. Other transformations may work even better!\n",
    "\n",
    "`households`, `median_income` and `total_bedrooms` all appear normally-distributed in a log space.\n",
    "\n",
    "`latitude`, `longitude` and `housing_median_age` would probably be better off just scaled linearly, as before.\n",
    "\n",
    "`population`, `totalRooms` and `rooms_per_person` have a few extreme outliers. They seem too extreme for log normalization to help. So let's clip them instead."
   ]
  },
  {
   "cell_type": "code",
   "execution_count": null,
   "metadata": {
    "collapsed": true
   },
   "outputs": [],
   "source": [
    "def log_normalize(series):\n",
    "  return series.apply(lambda x:math.log(x+1.0))\n",
    "\n",
    "def clip(series, clip_to_min, clip_to_max):\n",
    "  return series.apply(lambda x:(\n",
    "    min(max(x, clip_to_min), clip_to_max)))\n",
    "\n",
    "def z_score_normalize(series):\n",
    "  mean = series.mean()\n",
    "  std_dv = series.std()\n",
    "  return series.apply(lambda x:(x - mean) / std_dv)\n",
    "\n",
    "def binary_threshold(series, threshold):\n",
    "  return series.apply(lambda x:(1 if x > threshold else 0))"
   ]
  },
  {
   "cell_type": "code",
   "execution_count": null,
   "metadata": {
    "collapsed": false
   },
   "outputs": [],
   "source": [
    "def normalize(examples_dataframe):\n",
    "  \"\"\"Returns a version of the input `DataFrame` that has all its features normalized.\"\"\"\n",
    "  processed_features = pd.DataFrame()\n",
    "\n",
    "  processed_features[\"households\"] = log_normalize(examples_dataframe[\"households\"])\n",
    "  processed_features[\"median_income\"] = log_normalize(examples_dataframe[\"median_income\"])\n",
    "  processed_features[\"total_bedrooms\"] = log_normalize(examples_dataframe[\"total_bedrooms\"])\n",
    "  \n",
    "  processed_features[\"latitude\"] = linear_scale(examples_dataframe[\"latitude\"])\n",
    "  processed_features[\"longitude\"] = linear_scale(examples_dataframe[\"longitude\"])\n",
    "  processed_features[\"housing_median_age\"] = linear_scale(examples_dataframe[\"housing_median_age\"])\n",
    "\n",
    "  processed_features[\"population\"] = linear_scale(clip(examples_dataframe[\"population\"], 0, 5000))\n",
    "  processed_features[\"rooms_per_person\"] = linear_scale(clip(examples_dataframe[\"rooms_per_person\"], 0, 5))\n",
    "  processed_features[\"total_rooms\"] = linear_scale(clip(examples_dataframe[\"total_rooms\"], 0, 10000))\n",
    "\n",
    "  return processed_features\n",
    "\n",
    "normalized_dataframe = normalize_linear_scale(preprocess_features(california_housing_dataframe))\n",
    "normalized_training_examples = normalized_dataframe.head(12000)\n",
    "normalized_validation_examples = normalized_dataframe.tail(5000)\n",
    "\n",
    "_ = train_nn_regression_model(\n",
    "    optimizer=tf.train.AdagradOptimizer(learning_rate=0.15),\n",
    "    steps=1000,\n",
    "    batch_size=50,\n",
    "    hidden_units=[10, 10],\n",
    "    training_examples=normalized_training_examples,\n",
    "    training_targets=training_targets,\n",
    "    validation_examples=normalized_validation_examples,\n",
    "    validation_targets=validation_targets)"
   ]
  },
  {
   "cell_type": "markdown",
   "metadata": {},
   "source": [
    "### Solution to Optional Challenge\n",
    "It's a good idea to keep the two normalized."
   ]
  },
  {
   "cell_type": "code",
   "execution_count": null,
   "metadata": {
    "collapsed": false
   },
   "outputs": [],
   "source": [
    "def location_location_location(examples_dataframe):\n",
    "  \"\"\"Returns a version of the input `DataFrame` that keeps only the latitude and longitude.\"\"\"\n",
    "  processed_features = pd.DataFrame()\n",
    "  processed_features[\"latitude\"] = linear_scale(examples_dataframe[\"latitude\"])\n",
    "  processed_features[\"longitude\"] = linear_scale(examples_dataframe[\"longitude\"])\n",
    "  return processed_features\n",
    "\n",
    "lll_dataframe = location_location_location(preprocess_features(california_housing_dataframe))\n",
    "lll_training_examples = lll_dataframe.head(12000)\n",
    "lll_validation_examples = lll_dataframe.tail(5000)\n",
    "\n",
    "_ = train_nn_regression_model(\n",
    "    optimizer=tf.train.AdagradOptimizer(learning_rate=0.05),\n",
    "    steps=500,\n",
    "    batch_size=50,\n",
    "    hidden_units=[10, 10, 5, 5, 5],\n",
    "    training_examples=lll_training_examples,\n",
    "    training_targets=training_targets,\n",
    "    validation_examples=lll_validation_examples,\n",
    "    validation_targets=validation_targets)"
   ]
  },
  {
   "cell_type": "markdown",
   "metadata": {},
   "source": [
    "This isn't too bad for just two features. Of course, property values can still vary significantly between tiny distances."
   ]
  }
 ],
 "metadata": {
  "kernelspec": {
   "display_name": "Python 2",
   "language": "python",
   "name": "python2"
  },
  "language_info": {
   "codemirror_mode": {
    "name": "ipython",
    "version": 2
   },
   "file_extension": ".py",
   "mimetype": "text/x-python",
   "name": "python",
   "nbconvert_exporter": "python",
   "pygments_lexer": "ipython2",
   "version": "2.7.9"
  }
 },
 "nbformat": 4,
 "nbformat_minor": 1
}
