{
 "cells": [
  {
   "cell_type": "markdown",
   "metadata": {
    "colab_type": "text",
    "id": "g4T-_IsVbweU"
   },
   "source": [
    "# Sparsity and L1 Regularization\n",
    "Once again, we'll work on our logistic regression model. We'll use feature columns and add a significant number of features. This model will be pretty complex. Let's see if we can keep this complexity in check.\n",
    "\n",
    "One way to reduce complexity is to use a regularization function that encourages weights to be exactly zero. For linear models such as regression, a zero weight is equivalent to not using the corresponding feature at all. In addition to avoiding overfitting, the resulting model will be more efficient.\n",
    "\n",
    "L1 regularization is a good way to increase sparsity.\n",
    "\n",
    "Run the cell below to load the data and create feature definitions."
   ]
  },
  {
   "cell_type": "code",
   "execution_count": null,
   "metadata": {
    "collapsed": true
   },
   "outputs": [],
   "source": [
    "import math\n",
    "\n",
    "from IPython import display\n",
    "from matplotlib import cm\n",
    "from matplotlib import gridspec\n",
    "from matplotlib import pyplot as plt\n",
    "import numpy as np\n",
    "import pandas as pd\n",
    "from sklearn import metrics\n",
    "import tensorflow as tf\n",
    "\n",
    "tf.logging.set_verbosity(tf.logging.ERROR)\n",
    "pd.options.display.max_rows = 10\n",
    "pd.options.display.float_format = '{:.1f}'.format\n",
    "\n",
    "california_housing_dataframe = pd.read_csv(\"https://storage.googleapis.com/ml_universities/california_housing_train.csv\", sep=\",\")\n",
    "\n",
    "california_housing_dataframe = california_housing_dataframe.reindex(\n",
    "    np.random.permutation(california_housing_dataframe.index))"
   ]
  },
  {
   "cell_type": "code",
   "execution_count": null,
   "metadata": {
    "collapsed": true
   },
   "outputs": [],
   "source": [
    "def preprocess_features(california_housing_dataframe):\n",
    "  \"\"\"Prepares input features from California housing data set.\n",
    "\n",
    "  Args:\n",
    "    california_housing_dataframe: A Pandas DataFrame expected to contain data\n",
    "      from the California housing data set.\n",
    "  Returns:\n",
    "    A DataFrame that contains the features to be used for the model, including\n",
    "    synthetic features.\n",
    "  \"\"\"\n",
    "  selected_features = california_housing_dataframe[\n",
    "    [\"latitude\",\n",
    "     \"longitude\",\n",
    "     \"housing_median_age\",\n",
    "     \"total_rooms\",\n",
    "     \"total_bedrooms\",\n",
    "     \"population\",\n",
    "     \"households\",\n",
    "     \"median_income\"]]\n",
    "  processed_features = selected_features.copy()\n",
    "  # Create a synthetic feature.\n",
    "  processed_features[\"rooms_per_person\"] = (\n",
    "    california_housing_dataframe[\"total_rooms\"] /\n",
    "    california_housing_dataframe[\"population\"])\n",
    "  return processed_features\n",
    "\n",
    "def preprocess_targets(california_housing_dataframe):\n",
    "  \"\"\"Prepares target features (i.e., labels) from California housing data set.\n",
    "\n",
    "  Args:\n",
    "    california_housing_dataframe: A Pandas DataFrame expected to contain data\n",
    "      from the California housing data set.\n",
    "  Returns:\n",
    "    A DataFrame that contains the target feature.\n",
    "  \"\"\"\n",
    "  output_targets = pd.DataFrame()\n",
    "  # Create a boolean categorical feature representing whether the\n",
    "  # medianHouseValue is above a set threshold.\n",
    "  output_targets[\"median_house_value_is_high\"] = (\n",
    "    california_housing_dataframe[\"median_house_value\"] > 265000).astype(float)\n",
    "  return output_targets"
   ]
  },
  {
   "cell_type": "code",
   "execution_count": null,
   "metadata": {
    "collapsed": true
   },
   "outputs": [],
   "source": [
    "training_examples = preprocess_features(california_housing_dataframe.head(12000))\n",
    "training_targets = preprocess_targets(california_housing_dataframe.head(12000))\n",
    "validation_examples = preprocess_features(california_housing_dataframe.tail(5000))\n",
    "validation_targets = preprocess_targets(california_housing_dataframe.tail(5000))"
   ]
  },
  {
   "cell_type": "code",
   "execution_count": null,
   "metadata": {
    "collapsed": true
   },
   "outputs": [],
   "source": [
    "def input_function(examples_df, targets_df, single_read=False):\n",
    "  \"\"\"Converts a pair of examples/targets `DataFrame`s to `Tensor`s.\n",
    "  \n",
    "  The `Tensor`s are reshaped to `(N,1)` where `N` is number of examples in the `DataFrame`s.\n",
    "  \n",
    "  Args:\n",
    "    examples_df: A `DataFrame` that contains the input features. All its columns will be\n",
    "      transformed into corresponding input feature `Tensor` objects.\n",
    "    targets_df: A `DataFrame` that contains a single column, the targets corresponding to\n",
    "      each example in `examples_df`.\n",
    "    single_read: A `bool` that indicates whether this function should stop after reading\n",
    "      through the dataset once. If `False`, the function will loop through the data set.\n",
    "      This stop mechanism is user by the estimator's `predict()` to limit the number of\n",
    "      values it reads.\n",
    "  Returns:\n",
    "    A tuple `(input_features, target_tensor)`:\n",
    "      input_features: A `dict` mapping string values (the column name of the feature) to\n",
    "        `Tensor`s (the actual values of the feature).\n",
    "      target_tensor: A `Tensor` representing the target values.\n",
    "  \"\"\"\n",
    "  features = {}\n",
    "  for column_name in examples_df.keys():\n",
    "    batch_tensor = tf.to_float(\n",
    "        tf.reshape(tf.constant(examples_df[column_name].values), [-1, 1]))\n",
    "    if single_read:\n",
    "      features[column_name] = tf.train.limit_epochs(batch_tensor, num_epochs=1)\n",
    "    else:\n",
    "      features[column_name] = batch_tensor\n",
    "  target_tensor = tf.to_float(\n",
    "      tf.reshape(tf.constant(targets_df[targets_df.keys()[0]].values), [-1, 1]))\n",
    "\n",
    "  return features, target_tensor"
   ]
  },
  {
   "cell_type": "code",
   "execution_count": null,
   "metadata": {
    "collapsed": false
   },
   "outputs": [],
   "source": [
    "def get_quantile_based_buckets(feature_values, num_buckets):\n",
    "  quantiles = feature_values.quantile(\n",
    "    [(i+1.)/(num_buckets + 1.) for i in xrange(num_buckets)])\n",
    "  return [quantiles[q] for q in quantiles.keys()]\n",
    "\n",
    "bucketized_households = tf.contrib.layers.bucketized_column(\n",
    "  tf.contrib.layers.real_valued_column(\"households\"),\n",
    "  boundaries=get_quantile_based_buckets(training_examples[\"households\"], 10))\n",
    "bucketized_longitude = tf.contrib.layers.bucketized_column(\n",
    "  tf.contrib.layers.real_valued_column(\"longitude\"),\n",
    "  boundaries=get_quantile_based_buckets(training_examples[\"longitude\"], 50))\n",
    "bucketized_latitude = tf.contrib.layers.bucketized_column(\n",
    "  tf.contrib.layers.real_valued_column(\"latitude\"),\n",
    "  boundaries=get_quantile_based_buckets(training_examples[\"latitude\"], 50))\n",
    "bucketized_housing_median_age = tf.contrib.layers.bucketized_column(\n",
    "  tf.contrib.layers.real_valued_column(\"housing_median_age\"),\n",
    "  boundaries=get_quantile_based_buckets(\n",
    "    training_examples[\"housing_median_age\"], 10))\n",
    "bucketized_total_rooms = tf.contrib.layers.bucketized_column(\n",
    "  tf.contrib.layers.real_valued_column(\"total_rooms\"),\n",
    "  boundaries=get_quantile_based_buckets(training_examples[\"total_rooms\"], 10))\n",
    "bucketized_total_bedrooms = tf.contrib.layers.bucketized_column(\n",
    "  tf.contrib.layers.real_valued_column(\"total_bedrooms\"),\n",
    "  boundaries=get_quantile_based_buckets(training_examples[\"total_bedrooms\"], 10))\n",
    "bucketized_population = tf.contrib.layers.bucketized_column(\n",
    "  tf.contrib.layers.real_valued_column(\"population\"),\n",
    "  boundaries=get_quantile_based_buckets(training_examples[\"population\"], 10))\n",
    "bucketized_median_income = tf.contrib.layers.bucketized_column(\n",
    "  tf.contrib.layers.real_valued_column(\"median_income\"),\n",
    "  boundaries=get_quantile_based_buckets(training_examples[\"median_income\"], 10))\n",
    "bucketized_rooms_per_person = tf.contrib.layers.bucketized_column(\n",
    "  tf.contrib.layers.real_valued_column(\"rooms_per_person\"),\n",
    "  boundaries=get_quantile_based_buckets(\n",
    "    training_examples[\"rooms_per_person\"], 10))\n",
    "\n",
    "long_x_lat = tf.contrib.layers.crossed_column(\n",
    "  set([bucketized_longitude, bucketized_latitude]), hash_bucket_size=1000)\n",
    "\n",
    "feature_columns = set([\n",
    "  long_x_lat,\n",
    "  bucketized_longitude,\n",
    "  bucketized_latitude,\n",
    "  bucketized_housing_median_age,\n",
    "  bucketized_total_rooms,\n",
    "  bucketized_total_bedrooms,\n",
    "  bucketized_population,\n",
    "  bucketized_households,\n",
    "  bucketized_median_income,\n",
    "  bucketized_rooms_per_person])"
   ]
  },
  {
   "cell_type": "markdown",
   "metadata": {
    "colab_type": "text",
    "id": "hSBwMrsrE21n"
   },
   "source": [
    "### Calculate the model size\n",
    "\n",
    "To calculate the model size, we simply count the number of parameters that are non-zero. We provide a helper function below to do that. The function uses intimate knowledge of the Estimators API - don't worry about understanding how it works."
   ]
  },
  {
   "cell_type": "code",
   "execution_count": null,
   "metadata": {
    "cellView": null,
    "colab": {
     "autoexec": {
      "startup": false,
      "wait_interval": 0
     }
    },
    "colab_type": "code",
    "collapsed": true,
    "id": "e6GfTI0CFhB8"
   },
   "outputs": [],
   "source": [
    "def model_size(estimator):\n",
    "  variables = estimator.get_variable_names()\n",
    "  size = 0\n",
    "  for variable in variables:\n",
    "    if not any(x in variable \n",
    "               for x in ['global_step',\n",
    "                         'centered_bias_weight',\n",
    "                         'bias_weight',\n",
    "                         'Ftrl']\n",
    "              ):\n",
    "      size += np.count_nonzero(estimator.get_variable_value(variable))\n",
    "  return size"
   ]
  },
  {
   "cell_type": "markdown",
   "metadata": {
    "colab_type": "text",
    "id": "XabdAaj67GfF"
   },
   "source": [
    "### Reduce the model size\n",
    "\n",
    "Your team needs to build a highly accurate Logistic Regression model on the *SmartRing*, a ring that is so smart it can sense the demographics of a city block ('median_income', 'avg_rooms', 'households', ..., etc.) and tell you whether the given city block is high cost city block or not.\n",
    "\n",
    "Since the SmartRing is small, the engineering team has determined that it can only handle a model that has **no more than 600 parameters**. On the other hand, the product management team has determined that the model is not launchable unless the **LogLoss is less than 0.35** on the holdout test set.\n",
    "\n",
    "Can you use your secret weapon — L1 regularization — to tune the model to satisfy both the size and accuracy constraints?"
   ]
  },
  {
   "cell_type": "markdown",
   "metadata": {
    "colab_type": "text",
    "id": "G79hGRe7qqej"
   },
   "source": [
    "### Task 1: Find a good regularization coefficient.\n",
    "\n",
    "**Find an L1 regularization strength parameter which satisfies both constraints — model size is less than 600 and log-loss is less than 0.35 on validation set.**\n",
    "\n",
    "The following code will help you get started. There are many ways to apply regularization to your model. Here, we chose to do it using `FtrlOptimizer`, which is designed to give better results with L1 regularization than standard gradient descent.\n",
    "\n",
    "Again, the model will train on the entire data set, so expect it to run slower than normal."
   ]
  },
  {
   "cell_type": "code",
   "execution_count": null,
   "metadata": {
    "collapsed": true
   },
   "outputs": [],
   "source": [
    "def train_linear_classifier_model(\n",
    "    learning_rate,\n",
    "    regularization_strength,\n",
    "    steps,\n",
    "    feature_columns,\n",
    "    training_examples,\n",
    "    training_targets,\n",
    "    validation_examples,\n",
    "    validation_targets):\n",
    "  \"\"\"Trains a linear regression model.\n",
    "  \n",
    "  In addition to training, this function also prints training progress information,\n",
    "  as well as a plot of the training and validation loss over time.\n",
    "  \n",
    "  Args:\n",
    "    learning_rate: A `float`, the learning rate.\n",
    "    regularization_strength: A `float` that indicates the strength of the L1\n",
    "       regularization. A value of `0.0` means no regularization.\n",
    "    steps: A non-zero `int`, the total number of training steps. A training step\n",
    "      consists of a forward and backward pass using a single batch.\n",
    "    feature_columns: A `set` specifying the input feature columns to use.\n",
    "    training_examples: A `DataFrame` containing one or more columns from\n",
    "      `california_housing_dataframe` to use as input features for training.\n",
    "    training_targets: A `DataFrame` containing exactly one column from\n",
    "      `california_housing_dataframe` to use as target for training.\n",
    "    validation_examples: A `DataFrame` containing one or more columns from\n",
    "      `california_housing_dataframe` to use as input features for validation.\n",
    "    validation_targets: A `DataFrame` containing exactly one column from\n",
    "      `california_housing_dataframe` to use as target for validation.\n",
    "      \n",
    "  Returns:\n",
    "    A `LinearClassifier` object trained on the training data.\n",
    "  \"\"\"\n",
    "\n",
    "  periods = 7\n",
    "  steps_per_period = steps / periods\n",
    "\n",
    "  # Create a linear classifier object.\n",
    "  linear_classifier = tf.contrib.learn.LinearClassifier(\n",
    "      feature_columns=feature_columns,\n",
    "      optimizer=tf.train.FtrlOptimizer(\n",
    "          learning_rate=learning_rate,\n",
    "          l1_regularization_strength=regularization_strength),\n",
    "      gradient_clip_norm=5.0\n",
    "  )\n",
    "\n",
    "  training_input_function = lambda: input_function(\n",
    "      training_examples, training_targets)\n",
    "  training_input_function_for_predict = lambda: input_function(\n",
    "      training_examples, training_targets, single_read=True)\n",
    "  validation_input_function_for_predict = lambda: input_function(\n",
    "      validation_examples, validation_targets, single_read=True)\n",
    "  \n",
    "  # Train the model, but do so inside a loop so that we can periodically assess\n",
    "  # loss metrics.\n",
    "  print \"Training model...\"\n",
    "  print \"LogLoss (on validation data):\"\n",
    "  training_log_losses = []\n",
    "  validation_log_losses = []\n",
    "  for period in range (0, periods):\n",
    "    # Train the model, starting from the prior state.\n",
    "    linear_classifier.fit(\n",
    "        input_fn=training_input_function,\n",
    "        steps=steps_per_period\n",
    "    )\n",
    "    # Take a break and compute predictions.\n",
    "    training_probabilities = np.array(list(linear_classifier.predict_proba(\n",
    "        input_fn=training_input_function_for_predict)))\n",
    "    validation_probabilities = np.array(list(linear_classifier.predict_proba(\n",
    "          input_fn=validation_input_function_for_predict)))\n",
    "    # Compute training and validation loss.\n",
    "    training_log_loss = metrics.log_loss(training_targets, training_probabilities[:, 1])\n",
    "    validation_log_loss = metrics.log_loss(validation_targets, validation_probabilities[:, 1])\n",
    "    # Occasionally print the current loss.\n",
    "    print \"  period %02d : %0.2f\" % (period, validation_log_loss)\n",
    "    # Add the loss metrics from this period to our list.\n",
    "    training_log_losses.append(training_log_loss)\n",
    "    validation_log_losses.append(validation_log_loss)\n",
    "  print \"Model training finished.\"\n",
    "\n",
    "  # Output a graph of loss metrics over periods.\n",
    "  plt.ylabel(\"LogLoss\")\n",
    "  plt.xlabel(\"Periods\")\n",
    "  plt.title(\"LogLoss vs. Periods\")\n",
    "  plt.tight_layout()\n",
    "  plt.plot(training_log_losses, label=\"training\")\n",
    "  plt.plot(validation_log_losses, label=\"validation\")\n",
    "  plt.legend()\n",
    "\n",
    "  return linear_classifier"
   ]
  },
  {
   "cell_type": "code",
   "execution_count": null,
   "metadata": {
    "collapsed": false
   },
   "outputs": [],
   "source": [
    "linear_classifier = train_linear_classifier_model(\n",
    "    learning_rate=0.1,\n",
    "    regularization_strength=0.0,\n",
    "    steps=300,\n",
    "    feature_columns=feature_columns,\n",
    "    training_examples=training_examples,\n",
    "    training_targets=training_targets,\n",
    "    validation_examples=validation_examples,\n",
    "    validation_targets=validation_targets)\n",
    "print \"Model size:\", model_size(linear_classifier)"
   ]
  },
  {
   "cell_type": "code",
   "execution_count": null,
   "metadata": {
    "collapsed": true
   },
   "outputs": [],
   "source": []
  }
 ],
 "metadata": {
  "colab": {
   "default_view": {},
   "name": "sparsity_and_l1_regularization.ipynb",
   "version": "0.3.2",
   "views": {}
  },
  "kernelspec": {
   "display_name": "Python 2",
   "language": "python",
   "name": "python2"
  },
  "language_info": {
   "codemirror_mode": {
    "name": "ipython",
    "version": 2
   },
   "file_extension": ".py",
   "mimetype": "text/x-python",
   "name": "python",
   "nbconvert_exporter": "python",
   "pygments_lexer": "ipython2",
   "version": "2.7.9"
  }
 },
 "nbformat": 4,
 "nbformat_minor": 0
}
